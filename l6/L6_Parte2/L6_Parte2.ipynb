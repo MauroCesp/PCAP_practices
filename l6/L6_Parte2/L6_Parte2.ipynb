{
 "cells": [
  {
   "cell_type": "markdown",
   "id": "5e8a1158-145c-449e-bade-3b627bd8d3da",
   "metadata": {},
   "source": [
    "# Lección 6 - Parte 2"
   ]
  },
  {
   "cell_type": "code",
   "execution_count": 1,
   "id": "8b31df6f-b06c-4ca9-8461-ed786a58062c",
   "metadata": {},
   "outputs": [
    {
     "name": "stdout",
     "output_type": "stream",
     "text": [
      "1\n",
      "2\n",
      "3\n",
      "4\n",
      "5\n",
      "6\n",
      "7\n",
      "8\n",
      "9\n",
      "10\n",
      "11\n",
      "12\n",
      "13\n",
      "14\n",
      "15\n",
      "16\n",
      "17\n",
      "18\n",
      "19\n"
     ]
    }
   ],
   "source": [
    "# Generadores\n",
    "\n",
    "for i in range(1, 20, 1):\n",
    "    print(i)"
   ]
  },
  {
   "cell_type": "code",
   "execution_count": 2,
   "id": "c293c796-8575-4418-a636-62898bb4275e",
   "metadata": {},
   "outputs": [],
   "source": [
    "# Base = 2\n",
    "# Exponente = 2 -5\n",
    "# 4, 8,...\n",
    "\n",
    "\n",
    "\n",
    "\n",
    "\n",
    "class MisPotencias:\n",
    "    def __init__(self, base, min_exponente, max_exponente):\n",
    "        self.base = base\n",
    "        self.exponente = min_exponente\n",
    "        self.max_exponente = max_exponente\n",
    "    \n",
    "    # Lo que va a hacer es devolver el propio objeto  \n",
    "    # SOlo puede llevar el  SELF como parametro\n",
    "    # ITER SOLO SE EJCUTA UNA VEZ ---------------------------------------------------------OJO\n",
    "    def __iter__(self):\n",
    "        return self\n",
    "    \n",
    "    \n",
    "    # Este metodo es el que va a generar la secuancia\n",
    "    # SOlo puede tener el SEF como parametro no puede tener otro argumento\n",
    "    # Este es el metodo que se va a llamar cada vez que yo vaya interando\n",
    "    # Cada vez que se llame el exponente ira incrementandose en 1\n",
    "    def __next__(self):\n",
    "        # Sino lanzo la condicion  se haria un bucle infinito \n",
    "        # ENtonces en algun momento yo tengo que parar \n",
    "        # Cunado no se cunpla la condicion lanzo la exception para que termine\n",
    "        if self.exponente <= self.max_exponente:\n",
    "            resultado = self.base ** self.exponente\n",
    "            self.exponente += 1\n",
    "            return resultado\n",
    "        \n",
    "        # Sino lanzo la exception se haria un bucle infinito \n",
    "        # ENtonces en algun momento yo tengo que parar  \n",
    "        raise StopIteration"
   ]
  },
  {
   "cell_type": "code",
   "execution_count": 3,
   "id": "e8d1ecee-829d-4cd4-be6e-c7eb742314a5",
   "metadata": {},
   "outputs": [],
   "source": [
    "misPotencias = MisPotencias(2, 2, 5)"
   ]
  },
  {
   "cell_type": "code",
   "execution_count": 4,
   "id": "fb26eb1f-764e-403c-8bb3-bbb32e18bd13",
   "metadata": {},
   "outputs": [
    {
     "name": "stdout",
     "output_type": "stream",
     "text": [
      "<class '__main__.MisPotencias'>\n"
     ]
    }
   ],
   "source": [
    "print(type(misPotencias))"
   ]
  },
  {
   "cell_type": "code",
   "execution_count": 5,
   "id": "3c1d2e28-5ede-4a51-bfb5-c23a71576010",
   "metadata": {},
   "outputs": [
    {
     "name": "stdout",
     "output_type": "stream",
     "text": [
      "4\n",
      "8\n",
      "16\n",
      "32\n"
     ]
    }
   ],
   "source": [
    "# Para ir viendo lo que va generando la clase lo meto dentro de un bucle for\n",
    "# Cada vez que yo intero va llamando el iterador y va genrando las potencias\n",
    "for potencia in misPotencias:\n",
    "    print(potencia)"
   ]
  },
  {
   "cell_type": "code",
   "execution_count": 6,
   "id": "a2afea9b-4a58-4a50-8d73-24c833cb4786",
   "metadata": {},
   "outputs": [],
   "source": [
    "########################################################            \n",
    "#                  YIELD\n",
    "########################################################\n",
    "# yield se usa dentro de una funcion \n",
    "# CUnado utilizo la palabra YIeld la funcion pasa de ser una funcion a covertirse en un GENERADOR ------------------------------OJO\n",
    "# Devuelve los elemento de la funcion bajo demanda, cada vez que voy iterando\n",
    "# LA funcion no devuelve el valor sino el objeto iterador\n",
    "\n",
    "def mis_potencias(base, min_exponente, max_exponente):\n",
    "    # Cada vez que vaya interando me devuelva el valor que me interesa\n",
    "    # Este es el mismo ejemplo de arriba\n",
    "    # Quiero que me inclulla el maximo exponente entonce le agrego el 1 para que me lo incluya\n",
    "    for exponente in range(min_exponente, max_exponente + 1):\n",
    "        # En vez de hacer un retur lo que hago es un Yield\n",
    "        yield base ** exponente"
   ]
  },
  {
   "cell_type": "code",
   "execution_count": 7,
   "id": "9e7d08b3-41a9-4767-a2c5-eed594c10079",
   "metadata": {},
   "outputs": [],
   "source": [
    "iterador = mis_potencias(2, 2, 5)"
   ]
  },
  {
   "cell_type": "code",
   "execution_count": 8,
   "id": "b1e31d4d-e655-4e96-b768-0c739aa36d50",
   "metadata": {},
   "outputs": [
    {
     "name": "stdout",
     "output_type": "stream",
     "text": [
      "<class 'generator'>\n"
     ]
    }
   ],
   "source": [
    "print(type(iterador))"
   ]
  },
  {
   "cell_type": "code",
   "execution_count": 9,
   "id": "1a19b5d3-0501-4b46-a08a-1f8c5a6a7d02",
   "metadata": {},
   "outputs": [
    {
     "name": "stdout",
     "output_type": "stream",
     "text": [
      "4\n",
      "8\n",
      "16\n",
      "32\n"
     ]
    }
   ],
   "source": [
    "for potencia in iterador:\n",
    "    print(potencia)"
   ]
  },
  {
   "cell_type": "code",
   "execution_count": 10,
   "id": "8877ec21-13f5-4cda-87f9-07f954f56b92",
   "metadata": {},
   "outputs": [
    {
     "name": "stdout",
     "output_type": "stream",
     "text": [
      "4\n",
      "8\n",
      "16\n",
      "32\n"
     ]
    }
   ],
   "source": [
    "for potencia in mis_potencias(2, 2, 5):\n",
    "    print(potencia)"
   ]
  },
  {
   "cell_type": "code",
   "execution_count": 11,
   "id": "26efc14a-db9f-4132-9adc-ff54227a70f5",
   "metadata": {},
   "outputs": [],
   "source": [
    "\n",
    "############################################################\n",
    "#                       Cierres\n",
    "############################################################\n",
    "\n",
    "\n",
    "def mi_potencia(base, exponente):\n",
    "    resultado = base ** exponente"
   ]
  },
  {
   "cell_type": "code",
   "execution_count": 12,
   "id": "a6e4a268-a836-497a-9473-4c3c795ef5ff",
   "metadata": {},
   "outputs": [],
   "source": [
    "mi_potencia(2, 3)\n"
   ]
  },
  {
   "cell_type": "code",
   "execution_count": 13,
   "id": "e8320610-3dd4-4d04-9683-2df22297b44d",
   "metadata": {},
   "outputs": [
    {
     "ename": "NameError",
     "evalue": "name 'resultado' is not defined",
     "output_type": "error",
     "traceback": [
      "\u001b[1;31m---------------------------------------------------------------------------\u001b[0m",
      "\u001b[1;31mNameError\u001b[0m                                 Traceback (most recent call last)",
      "Input \u001b[1;32mIn [13]\u001b[0m, in \u001b[0;36m<cell line: 1>\u001b[1;34m()\u001b[0m\n\u001b[1;32m----> 1\u001b[0m \u001b[38;5;28mprint\u001b[39m(\u001b[43mresultado\u001b[49m)\n",
      "\u001b[1;31mNameError\u001b[0m: name 'resultado' is not defined"
     ]
    }
   ],
   "source": [
    "# NO puedo acceder a RESULTADO porque solo tienen contexto dentro de la funcion\n",
    "# Si accedo desde afuera me da error\n",
    "print(resultado)"
   ]
  },
  {
   "cell_type": "code",
   "execution_count": 14,
   "id": "0c30aa91-4da5-4e44-bd21-0359e3000ac0",
   "metadata": {},
   "outputs": [],
   "source": [
    "# Para poder tener acceso a las variables o objetos dentro de otro contexto definimos un cierre\n",
    "# Definimos una funcion dentro de una fucnion que devuelve el valor o el objeto que hemos creado dentro de ese contexto\n",
    "# Si yo quiero el resultado en cualquier momento fuera de la funcion\n",
    "\n",
    "\n",
    "def mi_potencia(base, exponente):\n",
    "    resultado = base ** exponente\n",
    "    \n",
    "    # Defino una funcion que me devuelve el resultado\n",
    "    # Es una funcion dentro de la funcon\n",
    "    def get_resultado():\n",
    "        return resultado\n",
    "    return get_resultado"
   ]
  },
  {
   "cell_type": "code",
   "execution_count": 15,
   "id": "9c044e46-30e5-4344-a262-2dc101c877e8",
   "metadata": {},
   "outputs": [],
   "source": [
    "resul = mi_potencia(2, 3)"
   ]
  },
  {
   "cell_type": "code",
   "execution_count": 16,
   "id": "2c489fd6-c5f0-47b0-b935-9a704865ac8e",
   "metadata": {},
   "outputs": [
    {
     "name": "stdout",
     "output_type": "stream",
     "text": [
      "<class 'function'>\n"
     ]
    }
   ],
   "source": [
    "# Entonces lo que devuelve la funcion es la otra funcion y no eel resultado\n",
    "print(type(resul))"
   ]
  },
  {
   "cell_type": "code",
   "execution_count": 17,
   "id": "04ffaedd-43fa-4f62-ad35-ca001d15ea74",
   "metadata": {},
   "outputs": [
    {
     "name": "stdout",
     "output_type": "stream",
     "text": [
      "8\n"
     ]
    }
   ],
   "source": [
    "# Para conseguir el resultado llamo a resul como una fucnion.\n",
    "var = resul()\n",
    "print(var)"
   ]
  },
  {
   "cell_type": "code",
   "execution_count": 18,
   "id": "069329be-c5d4-4b39-94eb-b4e62cf85d69",
   "metadata": {},
   "outputs": [],
   "source": [
    "def mi_potencia(base, exponente):\n",
    "    resultado = base ** exponente\n",
    "    def get_resultado_mas(sumando):\n",
    "        return resultado + sumando\n",
    "    return get_resultado_mas"
   ]
  },
  {
   "cell_type": "code",
   "execution_count": 19,
   "id": "769d7d8f-7742-4696-b7f4-2c087b85fc8c",
   "metadata": {},
   "outputs": [],
   "source": [
    "resul = mi_potencia(2, 3)\n"
   ]
  },
  {
   "cell_type": "code",
   "execution_count": 20,
   "id": "2a6dade2-0d13-456c-a19b-b2bfc6a55f5b",
   "metadata": {},
   "outputs": [
    {
     "ename": "TypeError",
     "evalue": "get_resultado_mas() missing 1 required positional argument: 'sumando'",
     "output_type": "error",
     "traceback": [
      "\u001b[1;31m---------------------------------------------------------------------------\u001b[0m",
      "\u001b[1;31mTypeError\u001b[0m                                 Traceback (most recent call last)",
      "Input \u001b[1;32mIn [20]\u001b[0m, in \u001b[0;36m<cell line: 1>\u001b[1;34m()\u001b[0m\n\u001b[1;32m----> 1\u001b[0m \u001b[38;5;28mprint\u001b[39m(\u001b[43mresul\u001b[49m\u001b[43m(\u001b[49m\u001b[43m)\u001b[49m)\n",
      "\u001b[1;31mTypeError\u001b[0m: get_resultado_mas() missing 1 required positional argument: 'sumando'"
     ]
    }
   ],
   "source": [
    "# En este caso me devuelve un error porque como le meti un parametro dentro de la funcion interna esta esperando un parametro mas\n",
    "print(resul())"
   ]
  },
  {
   "cell_type": "code",
   "execution_count": 21,
   "id": "b904923e-6683-450d-8f22-d2ed786f8b68",
   "metadata": {},
   "outputs": [
    {
     "name": "stdout",
     "output_type": "stream",
     "text": [
      "11\n"
     ]
    }
   ],
   "source": [
    "print(resul(3))"
   ]
  },
  {
   "cell_type": "code",
   "execution_count": 22,
   "id": "df804848-7894-4c51-8690-b38f8b4ccd3a",
   "metadata": {},
   "outputs": [],
   "source": [
    "def mi_potencia(base, exponente):\n",
    "    resultado = base ** exponente\n",
    "    # Asi lo podria llamar sin parametro para que no me de error\n",
    "    def get_resultado_mas(sumando=1):\n",
    "        return resultado + sumando\n",
    "    return get_resultado_mas"
   ]
  },
  {
   "cell_type": "code",
   "execution_count": 23,
   "id": "0d2e2d12-57b5-48de-aef8-02e65ed0067c",
   "metadata": {},
   "outputs": [],
   "source": [
    "resul = mi_potencia(2, 3)"
   ]
  },
  {
   "cell_type": "code",
   "execution_count": 24,
   "id": "5203b0db-4bd2-48dd-967b-25ebf73de7b9",
   "metadata": {},
   "outputs": [
    {
     "name": "stdout",
     "output_type": "stream",
     "text": [
      "9\n"
     ]
    }
   ],
   "source": [
    "print(resul())"
   ]
  },
  {
   "cell_type": "code",
   "execution_count": 25,
   "id": "dac22240-feaa-4726-94ea-589473ed67f0",
   "metadata": {},
   "outputs": [
    {
     "name": "stdout",
     "output_type": "stream",
     "text": [
      "11\n"
     ]
    }
   ],
   "source": [
    "print(resul(3))"
   ]
  },
  {
   "cell_type": "code",
   "execution_count": 26,
   "id": "5ba339b1-16af-4114-94dd-499ece2fe31c",
   "metadata": {},
   "outputs": [],
   "source": [
    "\n",
    "##########################################\n",
    "#      Funciones Lambda\n",
    "##########################################\n",
    "fun1 = lambda: 5"
   ]
  },
  {
   "cell_type": "code",
   "execution_count": 27,
   "id": "465e083b-76d5-4994-89db-8c4bd0507813",
   "metadata": {},
   "outputs": [
    {
     "name": "stdout",
     "output_type": "stream",
     "text": [
      "<class 'function'>\n"
     ]
    }
   ],
   "source": [
    "print(type(fun1))"
   ]
  },
  {
   "cell_type": "code",
   "execution_count": 28,
   "id": "ef1d9832-9fa6-4cff-b0ae-6e84a41bca8e",
   "metadata": {},
   "outputs": [
    {
     "name": "stdout",
     "output_type": "stream",
     "text": [
      "5\n"
     ]
    }
   ],
   "source": [
    "print(fun1())"
   ]
  },
  {
   "cell_type": "code",
   "execution_count": 29,
   "id": "1f249578-0653-4776-8ac6-efa239b105dd",
   "metadata": {},
   "outputs": [
    {
     "name": "stdout",
     "output_type": "stream",
     "text": [
      "8\n"
     ]
    }
   ],
   "source": [
    "fun2 = lambda base, exponente: base ** exponente\n",
    "\n",
    "print(fun2(2, 3))"
   ]
  },
  {
   "cell_type": "code",
   "execution_count": 32,
   "id": "a7377cfe-e63f-4e0e-9a63-f114fc0ea6ef",
   "metadata": {},
   "outputs": [],
   "source": [
    "########################################\n",
    "#                   Map\n",
    "########################################\n",
    "\n",
    "# Especialmente importantes cunado trabajamos con listas\n",
    "\n",
    "# Recibe los parametros de una lista y les aplica una funcion y nos devuelve una nueva lista\n",
    "\n",
    "mi_lista = [2, 4, 5, 1]\n",
    "\n",
    "def calcular_doble(elemento):\n",
    "    return elemento * 2\n",
    "\n",
    "mi_lista2 = list(map(calcular_doble, mi_lista))"
   ]
  },
  {
   "cell_type": "code",
   "execution_count": 33,
   "id": "ad0d9f1a-e61e-43d3-a2c2-bb235fc2a98a",
   "metadata": {},
   "outputs": [
    {
     "name": "stdout",
     "output_type": "stream",
     "text": [
      "<class 'list'>\n"
     ]
    }
   ],
   "source": [
    "print(type(mi_lista2))"
   ]
  },
  {
   "cell_type": "code",
   "execution_count": 34,
   "id": "564fcf40-aa26-4358-b5e9-5af99ce9546f",
   "metadata": {},
   "outputs": [
    {
     "name": "stdout",
     "output_type": "stream",
     "text": [
      "[4, 8, 10, 2]\n"
     ]
    }
   ],
   "source": [
    "print(mi_lista2)"
   ]
  },
  {
   "cell_type": "code",
   "execution_count": 35,
   "id": "15d617f8-959c-4831-951d-c9656e0fa67a",
   "metadata": {},
   "outputs": [],
   "source": [
    "mi_lista = [2, 4, 5, 1]\n",
    "\n",
    "# Sustituyo la funcion de arriba por una lambda\n",
    "mi_lista2 = list(map(lambda x: x * 2, mi_lista))"
   ]
  },
  {
   "cell_type": "code",
   "execution_count": 36,
   "id": "8d971ccf-8220-446a-bbc3-cbdeeff72a94",
   "metadata": {},
   "outputs": [
    {
     "name": "stdout",
     "output_type": "stream",
     "text": [
      "[4, 8, 10, 2]\n"
     ]
    }
   ],
   "source": [
    "print(mi_lista2)"
   ]
  },
  {
   "cell_type": "code",
   "execution_count": 37,
   "id": "ea0de27e-f49c-4ab4-b952-76ff5ff85c3c",
   "metadata": {},
   "outputs": [
    {
     "name": "stdout",
     "output_type": "stream",
     "text": [
      "[5, 9, 10]\n"
     ]
    }
   ],
   "source": [
    "########################################\n",
    "#           Filter\n",
    "########################################\n",
    "\n",
    "# Le paso una lista y lo que devuelve un iterador con los objetos que cumplen un determinado filtro\n",
    "mi_lista = [2, 4, 5, 1, 9 , 10]\n",
    "\n",
    "# Creo una nueva lista que me devuelva los elementos mayores de cuatro\n",
    "def filtrado(elemento):\n",
    "    return elemento > 4\n",
    "\n",
    "mi_lista2 = list(filter(filtrado, mi_lista))\n",
    "print(mi_lista2)"
   ]
  },
  {
   "cell_type": "code",
   "execution_count": 38,
   "id": "5cf6812b-7766-4fc6-8540-91d904770356",
   "metadata": {},
   "outputs": [
    {
     "name": "stdout",
     "output_type": "stream",
     "text": [
      "[5, 9, 10]\n"
     ]
    }
   ],
   "source": [
    "mi_lista = [2, 4, 5, 1, 9 , 10]\n",
    "\n",
    "# Aqui me devuelve si los elementos son mayores o igual a cuatro\n",
    "mi_lista2 = list(filter(lambda x: x > 4, mi_lista))\n",
    "print(mi_lista2)"
   ]
  },
  {
   "cell_type": "code",
   "execution_count": 41,
   "id": "5e25b633-1dc3-4d4a-bba8-1a7b271705e7",
   "metadata": {},
   "outputs": [
    {
     "name": "stdout",
     "output_type": "stream",
     "text": [
      "Hola\n",
      "mundo\n",
      "que tal\n",
      "<class 'str'>\n"
     ]
    }
   ],
   "source": [
    "\n",
    "######################################################\n",
    "#           FICHEROS\n",
    "######################################################\n",
    "\n",
    "# Trabajando con ficheros\n",
    "# Ficheros de texto lectura\n",
    "\n",
    "\n",
    "\n",
    "stream = open(\"mi_fichero.txt\", mode=\"r\")\n",
    "datos = stream.read()\n",
    "print(datos)\n",
    "print(type(datos))\n",
    "stream.close()"
   ]
  },
  {
   "cell_type": "code",
   "execution_count": 42,
   "id": "de0e5b8c-9b1f-40c9-b9b7-e2cb7d519271",
   "metadata": {},
   "outputs": [
    {
     "name": "stdout",
     "output_type": "stream",
     "text": [
      "Hola\n",
      "\n"
     ]
    }
   ],
   "source": [
    "stream = open(\"mi_fichero.txt\", mode=\"r\")\n",
    "\n",
    "# Si no le pongo un delimitador me deveulve todo el texto del fichero incluyendo los saltos de linea\n",
    "# Le puedo pasar com oparametro el numero de caracteres que quiero leer (Inlucyendo el salto de linea)\n",
    "datos = stream.read(5)\n",
    "print(datos)\n",
    "stream.close()"
   ]
  },
  {
   "cell_type": "code",
   "execution_count": 44,
   "id": "0bdc7292-be04-42b3-9a98-4b5469378ac4",
   "metadata": {},
   "outputs": [
    {
     "name": "stdout",
     "output_type": "stream",
     "text": [
      "Hola\n",
      "\n",
      "mundo\n",
      "\n"
     ]
    }
   ],
   "source": [
    "stream = open(\"mi_fichero.txt\", mode=\"r\")\n",
    "# Cada vez que lo llamo me deveulve una linea nueva\n",
    "datos = stream.readline()\n",
    "print(datos)\n",
    "datos = stream.readline()\n",
    "print(datos)\n",
    "stream.close()"
   ]
  },
  {
   "cell_type": "code",
   "execution_count": 45,
   "id": "2592f2a2-554c-4064-92eb-29b69c574693",
   "metadata": {},
   "outputs": [
    {
     "name": "stdout",
     "output_type": "stream",
     "text": [
      "Hola\n",
      "\n",
      "mundo\n",
      "\n",
      "que tal\n"
     ]
    }
   ],
   "source": [
    "stream = open(\"mi_fichero.txt\", mode=\"r\")\n",
    "datos = stream.readline()\n",
    "while datos:\n",
    "    print(datos)\n",
    "    datos = stream.readline()\n",
    "stream.close()"
   ]
  },
  {
   "cell_type": "code",
   "execution_count": 46,
   "id": "282cf911-9f94-4e12-af9f-1420c59e16ce",
   "metadata": {},
   "outputs": [
    {
     "name": "stdout",
     "output_type": "stream",
     "text": [
      "['Hola\\n', 'mundo\\n', 'que tal']\n",
      "<class 'list'>\n"
     ]
    }
   ],
   "source": [
    "stream = open(\"mi_fichero.txt\", mode=\"r\")\n",
    "\n",
    "# ME devuelve una lista con las diferentes lineas --------------------- OJO es una lista\n",
    "datos = stream.readlines()\n",
    "print(datos)\n",
    "print(type(datos))\n",
    "stream.close()"
   ]
  },
  {
   "cell_type": "code",
   "execution_count": 58,
   "id": "84239eff-c00d-47b1-886d-d0b28b8c9eee",
   "metadata": {},
   "outputs": [
    {
     "name": "stdout",
     "output_type": "stream",
     "text": [
      "Hola\n",
      "\n",
      "mundo\n",
      "\n",
      "que tal\n"
     ]
    }
   ],
   "source": [
    "stream = open(\"mi_fichero.txt\", mode=\"r\")\n",
    "for linea in stream:\n",
    "    print(linea)\n",
    "stream.close()"
   ]
  },
  {
   "cell_type": "code",
   "execution_count": 47,
   "id": "d7e850a5-d9e8-4a3d-81fd-1ec5ce27beb1",
   "metadata": {},
   "outputs": [],
   "source": [
    "# Ficheros de texto Escritura\n",
    "\n",
    "stream = open(\"mi_fichero_escritura.txt\", mode=\"w\")\n",
    "stream.write(\"HOLA\")\n",
    "stream.write(\"ADIOS\")\n",
    "stream.close()"
   ]
  },
  {
   "cell_type": "code",
   "execution_count": 48,
   "id": "4ee7717b-c874-493b-b9b9-1a52a8f5c898",
   "metadata": {},
   "outputs": [],
   "source": [
    "stream = open(\"mi_fichero_escritura2.txt\", mode=\"w\")\n",
    "stream.writelines([\"HOLA\", \"ADIOS\", \"ADIOS2\"])\n",
    "stream.close()"
   ]
  },
  {
   "cell_type": "code",
   "execution_count": 49,
   "id": "8a7e2504-42a5-4619-8a0e-a33b8ae3b220",
   "metadata": {},
   "outputs": [],
   "source": [
    "# Ficheros binarios Escritura\n",
    "\n",
    "\n",
    "# Le indico el tamaño que quiero\n",
    "# Este objeto es mutable\n",
    "# Los elementos se tratan como enteros y puedo entrar y modificarlos\n",
    "\n",
    "data = bytearray(10)"
   ]
  },
  {
   "cell_type": "code",
   "execution_count": 51,
   "id": "5c7da382-369c-4a3f-a47d-0300c4ec10a6",
   "metadata": {},
   "outputs": [
    {
     "name": "stdout",
     "output_type": "stream",
     "text": [
      "bytearray(b'\\x00\\x00\\x00\\x00\\x00\\x00\\x00\\x00\\x00\\x00')\n"
     ]
    }
   ],
   "source": [
    "print(data)"
   ]
  },
  {
   "cell_type": "code",
   "execution_count": 52,
   "id": "82e82674-d014-4aea-905a-68b2fe32cd20",
   "metadata": {},
   "outputs": [
    {
     "name": "stdout",
     "output_type": "stream",
     "text": [
      "bytearray(b'\\x00\\x01\\x02\\x03\\x04\\x05\\x06\\x07\\x08\\t')\n"
     ]
    }
   ],
   "source": [
    "# Levdoy valores a los bites para que todos no sean 0\n",
    "for i in range(0, 10):\n",
    "    data[i] = i\n",
    "print(data)"
   ]
  },
  {
   "cell_type": "code",
   "execution_count": 53,
   "id": "58a0d310-43fd-433b-ae88-952a907c8240",
   "metadata": {},
   "outputs": [],
   "source": [
    "\n",
    "\n",
    "# Es importate recordar es que necesario con al B --------------- OJO\n",
    "# Asi le indica a Python que se trabajo con ese fichero a nivel binario\n",
    "stream = open(\"mi_fichero_binario.bin\", mode=\"wb\")\n",
    "stream.write(data)\n",
    "stream.close()"
   ]
  },
  {
   "cell_type": "code",
   "execution_count": 54,
   "id": "4151dc28-8457-4fd7-92af-c36eb25b5ce5",
   "metadata": {},
   "outputs": [
    {
     "name": "stdout",
     "output_type": "stream",
     "text": [
      "5\n",
      "bytearray(b'\\x00\\x01\\x02\\x03\\x04')\n"
     ]
    }
   ],
   "source": [
    "# Ficheros binarios Lectura\n",
    "\n",
    "data1 = bytearray(5)\n",
    "stream = open(\"mi_fichero_binario.bin\", mode=\"rb\")\n",
    "\n",
    "\n",
    "# READINTO ----- Es la forma de leer ficheros binario\n",
    "num_bytes = stream.readinto(data1)\n",
    "print(num_bytes)\n",
    "print(data1)\n",
    "stream.close()"
   ]
  },
  {
   "cell_type": "code",
   "execution_count": 55,
   "id": "968243d2-30ee-44ee-9728-3495c910d5be",
   "metadata": {},
   "outputs": [
    {
     "name": "stdout",
     "output_type": "stream",
     "text": [
      "bytearray(b'\\x00\\x01\\x02\\x03\\x04')\n",
      "bytearray(b'\\x05\\x06\\x07\\x08\\t')\n"
     ]
    }
   ],
   "source": [
    "data1 = bytearray(5)\n",
    "stream = open(\"mi_fichero_binario.bin\", mode=\"rb\")\n",
    "\n",
    "# Primera forma de leer ---------------- PRIMERA FORMA\n",
    "num_bytes = stream.readinto(data1)\n",
    "while num_bytes > 0:\n",
    "    print(data1)\n",
    "    num_bytes = stream.readinto(data1)\n",
    "\n",
    "stream.close()"
   ]
  },
  {
   "cell_type": "code",
   "execution_count": 56,
   "id": "87155a41-dbcd-4b47-bf5b-40f0427a37d9",
   "metadata": {},
   "outputs": [
    {
     "name": "stdout",
     "output_type": "stream",
     "text": [
      "bytearray(b'\\x00\\x01\\x02\\x03\\x04\\x05\\x06\\x07\\x08\\t')\n"
     ]
    }
   ],
   "source": [
    "stream = open(\"mi_fichero_binario.bin\", mode=\"rb\")\n",
    "\n",
    "# Segunda forma de leer ---------------- SEGUNDA FORMA\n",
    "data2 = bytearray(stream.read())\n",
    "print(data2)\n",
    "stream.close()"
   ]
  },
  {
   "cell_type": "code",
   "execution_count": 57,
   "id": "a66ba166-eb93-4fff-997e-ff517b2eb898",
   "metadata": {},
   "outputs": [
    {
     "name": "stdout",
     "output_type": "stream",
     "text": [
      "bytearray(b'\\x00\\x01\\x02\\x03\\x04')\n"
     ]
    }
   ],
   "source": [
    "stream = open(\"mi_fichero_binario.bin\", mode=\"rb\")\n",
    "data2 = bytearray(stream.read(5))\n",
    "print(data2)\n",
    "stream.close()"
   ]
  },
  {
   "cell_type": "code",
   "execution_count": null,
   "id": "7483130a-3dfb-4d4a-ad8b-6c080bf0a558",
   "metadata": {},
   "outputs": [],
   "source": []
  }
 ],
 "metadata": {
  "kernelspec": {
   "display_name": "Python 3 (ipykernel)",
   "language": "python",
   "name": "python3"
  },
  "language_info": {
   "codemirror_mode": {
    "name": "ipython",
    "version": 3
   },
   "file_extension": ".py",
   "mimetype": "text/x-python",
   "name": "python",
   "nbconvert_exporter": "python",
   "pygments_lexer": "ipython3",
   "version": "3.9.12"
  }
 },
 "nbformat": 4,
 "nbformat_minor": 5
}
