{
 "cells": [
  {
   "cell_type": "markdown",
   "id": "719b4b4d-4140-4b7d-af01-25643f270fd3",
   "metadata": {},
   "source": [
    "# Lección 6 - Parte 1"
   ]
  },
  {
   "cell_type": "code",
   "execution_count": 1,
   "id": "283e8669-09e5-4c5b-888b-aa09d9618eb1",
   "metadata": {},
   "outputs": [],
   "source": [
    "# PAQUETES Y MÓDULOS\n",
    "\n",
    "\n",
    "###########################################################\n",
    "# 1 FORMA DE IMPORTACIÓN\n",
    "#############################################################\n",
    "\n",
    "import math"
   ]
  },
  {
   "cell_type": "code",
   "execution_count": 2,
   "id": "f2fcb1dc-7e58-4d35-b407-d08e8454a6e5",
   "metadata": {},
   "outputs": [
    {
     "name": "stdout",
     "output_type": "stream",
     "text": [
      "3.141592653589793\n"
     ]
    }
   ],
   "source": [
    "print(math.pi)"
   ]
  },
  {
   "cell_type": "code",
   "execution_count": 4,
   "id": "d033ac89-27f0-477e-9871-e1f707095304",
   "metadata": {},
   "outputs": [
    {
     "name": "stdout",
     "output_type": "stream",
     "text": [
      "1.0\n"
     ]
    }
   ],
   "source": [
    "print(math.sin(math.radians(90)))"
   ]
  },
  {
   "cell_type": "code",
   "execution_count": 1,
   "id": "1cd37c15-5f4f-488c-b69d-c59fc52f71d9",
   "metadata": {},
   "outputs": [
    {
     "name": "stdout",
     "output_type": "stream",
     "text": [
      "7.456\n",
      "3.141592653589793\n"
     ]
    }
   ],
   "source": [
    "pi = 7.456\n",
    "\n",
    "\n",
    "# NAME SPACE es el espacio en el que existen algunos nombres y estos no estan en conflicto entre si -------------------------------------->OJO\n",
    "\n",
    "# Como importo el modulo completo en lougar de las entidades de ntro del codigo no entra en conflicto con otras variabels que tengas el mimo nombre\n",
    "import math\n",
    "\n",
    "print(pi)\n",
    "\n",
    "# Aqui entro en la la entidad del modulo y no tengo problema\n",
    "print(math.pi)"
   ]
  },
  {
   "cell_type": "code",
   "execution_count": 2,
   "id": "87030aab-f6a0-45a1-b8b9-83eeac3b2bef",
   "metadata": {},
   "outputs": [],
   "source": [
    "import math\n",
    "import sys"
   ]
  },
  {
   "cell_type": "code",
   "execution_count": 1,
   "id": "03b72c01-a05c-4701-9728-a06a4250c1bc",
   "metadata": {},
   "outputs": [],
   "source": [
    "# Asi se pueden imporatr varios modulos\n",
    "import math, sys"
   ]
  },
  {
   "cell_type": "code",
   "execution_count": 1,
   "id": "13239cff-feda-4fc3-b7c1-93f643428502",
   "metadata": {},
   "outputs": [],
   "source": [
    "\n",
    "###########################################################\n",
    "# 2 FORMA DE IMPORTACIÓN\n",
    "###########################################################\n",
    "\n",
    "# La diferencia con la primera es que solo podre utilizar las estidades que he importado.\n",
    "# NO pongo el nombre del modulo e importo la entidad directamente\n",
    "\n",
    "from math import pi, sin"
   ]
  },
  {
   "cell_type": "code",
   "execution_count": 2,
   "id": "6c837884-1eb0-488a-8ff7-dc8e87073973",
   "metadata": {},
   "outputs": [
    {
     "name": "stdout",
     "output_type": "stream",
     "text": [
      "3.141592653589793\n"
     ]
    }
   ],
   "source": [
    "print(pi)"
   ]
  },
  {
   "cell_type": "code",
   "execution_count": 3,
   "id": "03dc9199-d287-45f1-80df-f9db71d8ee00",
   "metadata": {},
   "outputs": [
    {
     "ename": "NameError",
     "evalue": "name 'radians' is not defined",
     "output_type": "error",
     "traceback": [
      "\u001b[1;31m---------------------------------------------------------------------------\u001b[0m",
      "\u001b[1;31mNameError\u001b[0m                                 Traceback (most recent call last)",
      "Input \u001b[1;32mIn [3]\u001b[0m, in \u001b[0;36m<cell line: 1>\u001b[1;34m()\u001b[0m\n\u001b[1;32m----> 1\u001b[0m \u001b[38;5;28mprint\u001b[39m(sin(\u001b[43mradians\u001b[49m(\u001b[38;5;241m90\u001b[39m)))\n",
      "\u001b[1;31mNameError\u001b[0m: name 'radians' is not defined"
     ]
    }
   ],
   "source": [
    "\n",
    "#COmo no tengo Radiasn no se va apoder utilizar\n",
    "# SOlo utilizo las entidaes que nombre\n",
    "print(sin(radians(90)))"
   ]
  },
  {
   "cell_type": "code",
   "execution_count": 4,
   "id": "a2acdf73-8fcf-4170-97a8-86b663049b17",
   "metadata": {},
   "outputs": [],
   "source": [
    "from math import pi, sin, radians"
   ]
  },
  {
   "cell_type": "code",
   "execution_count": 5,
   "id": "d62a503e-1768-4de0-a585-97a103652d72",
   "metadata": {},
   "outputs": [
    {
     "name": "stdout",
     "output_type": "stream",
     "text": [
      "1.0\n"
     ]
    }
   ],
   "source": [
    "print(sin(radians(90)))"
   ]
  },
  {
   "cell_type": "code",
   "execution_count": 6,
   "id": "ab2f71b8-c91c-410a-8140-d3d5bbca9460",
   "metadata": {},
   "outputs": [
    {
     "ename": "NameError",
     "evalue": "name 'math' is not defined",
     "output_type": "error",
     "traceback": [
      "\u001b[1;31m---------------------------------------------------------------------------\u001b[0m",
      "\u001b[1;31mNameError\u001b[0m                                 Traceback (most recent call last)",
      "Input \u001b[1;32mIn [6]\u001b[0m, in \u001b[0;36m<cell line: 1>\u001b[1;34m()\u001b[0m\n\u001b[1;32m----> 1\u001b[0m \u001b[43mmath\u001b[49m\u001b[38;5;241m.\u001b[39mpi\n",
      "\u001b[1;31mNameError\u001b[0m: name 'math' is not defined"
     ]
    }
   ],
   "source": [
    "math.pi"
   ]
  },
  {
   "cell_type": "code",
   "execution_count": 1,
   "id": "a22670da-fdca-4b5c-940c-648067542a59",
   "metadata": {},
   "outputs": [
    {
     "name": "stdout",
     "output_type": "stream",
     "text": [
      "3.141592653589793\n"
     ]
    }
   ],
   "source": [
    "pi = 7.49\n",
    "\n",
    "from math import pi\n",
    "\n",
    "# Aqui importa el orden, \n",
    "# Como el import fue lo ultimo que importe es lo que me imprime -----------------------OJO\n",
    "\n",
    "print(pi)"
   ]
  },
  {
   "cell_type": "code",
   "execution_count": 2,
   "id": "c1432bae-714b-4250-87e3-b2d96e1febc3",
   "metadata": {},
   "outputs": [
    {
     "name": "stdout",
     "output_type": "stream",
     "text": [
      "7.49\n"
     ]
    }
   ],
   "source": [
    "from math import pi\n",
    "\n",
    "pi = 7.49\n",
    "\n",
    "print(pi)"
   ]
  },
  {
   "cell_type": "code",
   "execution_count": 1,
   "id": "58668db6-bbf5-4de4-923e-ea4fdaf9c0b5",
   "metadata": {},
   "outputs": [],
   "source": [
    "###########################################################\n",
    "# 3 FORMA DE IMPORTACIÓN\n",
    "###########################################################\n",
    "\n",
    "# Asi importo todas las entidades del modulo\n",
    "from math import *"
   ]
  },
  {
   "cell_type": "code",
   "execution_count": 2,
   "id": "66be77e9-c807-46f9-ac14-e79378ef6573",
   "metadata": {},
   "outputs": [
    {
     "name": "stdout",
     "output_type": "stream",
     "text": [
      "3.141592653589793\n"
     ]
    }
   ],
   "source": [
    "print(pi)"
   ]
  },
  {
   "cell_type": "code",
   "execution_count": 3,
   "id": "18391c33-fb20-4e85-a64b-eb4b5aea4f32",
   "metadata": {},
   "outputs": [
    {
     "name": "stdout",
     "output_type": "stream",
     "text": [
      "1.0\n"
     ]
    }
   ],
   "source": [
    "print(sin(radians(90)))"
   ]
  },
  {
   "cell_type": "code",
   "execution_count": 1,
   "id": "4d2bd108-5dfb-435c-a6e5-1620f3c9d2d1",
   "metadata": {},
   "outputs": [],
   "source": [
    "pi = 7.49\n",
    "\n",
    "from math import *\n"
   ]
  },
  {
   "cell_type": "code",
   "execution_count": 2,
   "id": "9af33c40-eeb8-460a-b660-5be679683e42",
   "metadata": {},
   "outputs": [
    {
     "name": "stdout",
     "output_type": "stream",
     "text": [
      "3.141592653589793\n"
     ]
    }
   ],
   "source": [
    "print(pi)"
   ]
  },
  {
   "cell_type": "code",
   "execution_count": 3,
   "id": "529d0ee3-2fe7-45c0-973c-a3375950618c",
   "metadata": {},
   "outputs": [],
   "source": [
    "# ALIAS\n",
    "\n",
    "import math as matematicas"
   ]
  },
  {
   "cell_type": "code",
   "execution_count": 4,
   "id": "e8d8482f-03b7-490b-8167-d95c2145411a",
   "metadata": {},
   "outputs": [
    {
     "name": "stdout",
     "output_type": "stream",
     "text": [
      "3.141592653589793\n"
     ]
    }
   ],
   "source": [
    "print(matematicas.pi)"
   ]
  },
  {
   "cell_type": "code",
   "execution_count": 5,
   "id": "6ea20476-7a89-4901-9793-cb652c26d9d1",
   "metadata": {},
   "outputs": [
    {
     "ename": "NameError",
     "evalue": "name 'math' is not defined",
     "output_type": "error",
     "traceback": [
      "\u001b[1;31m---------------------------------------------------------------------------\u001b[0m",
      "\u001b[1;31mNameError\u001b[0m                                 Traceback (most recent call last)",
      "Input \u001b[1;32mIn [5]\u001b[0m, in \u001b[0;36m<cell line: 1>\u001b[1;34m()\u001b[0m\n\u001b[1;32m----> 1\u001b[0m \u001b[38;5;28mprint\u001b[39m(\u001b[43mmath\u001b[49m\u001b[38;5;241m.\u001b[39mpi)\n",
      "\u001b[1;31mNameError\u001b[0m: name 'math' is not defined"
     ]
    }
   ],
   "source": [
    "print(math.pi)"
   ]
  },
  {
   "cell_type": "code",
   "execution_count": 1,
   "id": "6e9ad959-c2e4-4983-8190-cc4088a8b430",
   "metadata": {},
   "outputs": [],
   "source": [
    "from math import pi as num_pi"
   ]
  },
  {
   "cell_type": "code",
   "execution_count": 2,
   "id": "718dd933-9990-4bd4-bdf6-41e4792805eb",
   "metadata": {},
   "outputs": [
    {
     "ename": "NameError",
     "evalue": "name 'pi' is not defined",
     "output_type": "error",
     "traceback": [
      "\u001b[1;31m---------------------------------------------------------------------------\u001b[0m",
      "\u001b[1;31mNameError\u001b[0m                                 Traceback (most recent call last)",
      "Input \u001b[1;32mIn [2]\u001b[0m, in \u001b[0;36m<cell line: 1>\u001b[1;34m()\u001b[0m\n\u001b[1;32m----> 1\u001b[0m \u001b[38;5;28mprint\u001b[39m(\u001b[43mpi\u001b[49m)\n",
      "\u001b[1;31mNameError\u001b[0m: name 'pi' is not defined"
     ]
    }
   ],
   "source": [
    "print(pi)"
   ]
  },
  {
   "cell_type": "code",
   "execution_count": 3,
   "id": "eaa6b4dc-4c6b-4a89-85cd-539d8ba89382",
   "metadata": {},
   "outputs": [
    {
     "name": "stdout",
     "output_type": "stream",
     "text": [
      "3.141592653589793\n"
     ]
    }
   ],
   "source": [
    "print(num_pi)"
   ]
  },
  {
   "cell_type": "code",
   "execution_count": 5,
   "id": "d4f01f81-55cf-4550-9d6c-4b4c857ff842",
   "metadata": {},
   "outputs": [],
   "source": [
    "import math\n",
    "\n",
    "# DIr es la forma de ver cuales entidades tiene un modulo --------------------------------------------------> OJO\n",
    "var = dir(math)"
   ]
  },
  {
   "cell_type": "code",
   "execution_count": 6,
   "id": "acd792f9-9637-4f5d-acc7-637fb334fc81",
   "metadata": {},
   "outputs": [
    {
     "name": "stdout",
     "output_type": "stream",
     "text": [
      "['__doc__', '__loader__', '__name__', '__package__', '__spec__', 'acos', 'acosh', 'asin', 'asinh', 'atan', 'atan2', 'atanh', 'ceil', 'comb', 'copysign', 'cos', 'cosh', 'degrees', 'dist', 'e', 'erf', 'erfc', 'exp', 'expm1', 'fabs', 'factorial', 'floor', 'fmod', 'frexp', 'fsum', 'gamma', 'gcd', 'hypot', 'inf', 'isclose', 'isfinite', 'isinf', 'isnan', 'isqrt', 'lcm', 'ldexp', 'lgamma', 'log', 'log10', 'log1p', 'log2', 'modf', 'nan', 'nextafter', 'perm', 'pi', 'pow', 'prod', 'radians', 'remainder', 'sin', 'sinh', 'sqrt', 'tan', 'tanh', 'tau', 'trunc', 'ulp']\n"
     ]
    }
   ],
   "source": [
    "print(var)"
   ]
  },
  {
   "cell_type": "code",
   "execution_count": 7,
   "id": "02434230-f7f2-4be2-8fb3-c3d1f31e0551",
   "metadata": {},
   "outputs": [
    {
     "name": "stdout",
     "output_type": "stream",
     "text": [
      "IMPORTANDO MI PAQUETE\n",
      "IMPORTADO MI MODULO\n",
      "HOLA MUNDO\n"
     ]
    }
   ],
   "source": [
    "\n",
    "###########################################################\n",
    "#                       PAQUETES\n",
    "###########################################################\n",
    "\n",
    "# Si tenemos muchos modulos podemos crear un paquete para agrupar los modulos\n",
    "# Se deben de guardar los modulos en un mismo directorio \n",
    "# Se debe de crear un fichero __init__.py\n",
    "# El fichero __init__.py puede llevar el codigo para inicializar el paquete o estar vacio pero debe de existir\n",
    "\n",
    "# Entonces meto todos lo modulo sdentro del directorio y creo el init\n",
    "\n",
    "import mipaquete.mimodulo\n",
    "\n",
    "mipaquete.mimodulo.mostrar_hola()"
   ]
  },
  {
   "cell_type": "code",
   "execution_count": 1,
   "id": "57e989c9-0520-4560-b95c-c167662b34fb",
   "metadata": {},
   "outputs": [
    {
     "name": "stdout",
     "output_type": "stream",
     "text": [
      "IMPORTANDO MI PAQUETE\n",
      "IMPORTADO MI MODULO\n",
      "HOLA MUNDO\n"
     ]
    }
   ],
   "source": [
    "from mipaquete.mimodulo import mostrar_hola\n",
    "\n",
    "mostrar_hola()"
   ]
  },
  {
   "cell_type": "code",
   "execution_count": 2,
   "id": "83d71bcc-96ae-403c-9507-6a2bfb49f2c5",
   "metadata": {},
   "outputs": [
    {
     "name": "stdout",
     "output_type": "stream",
     "text": [
      "HOLA MUNDO\n"
     ]
    }
   ],
   "source": [
    "import mipaquete.mimodulo as mod\n",
    "\n",
    "mod.mostrar_hola()"
   ]
  },
  {
   "cell_type": "code",
   "execution_count": 1,
   "id": "477bf2cd-1631-4ab2-8663-f54c84bd9544",
   "metadata": {},
   "outputs": [
    {
     "name": "stdout",
     "output_type": "stream",
     "text": [
      "IMPORTANDO MI PAQUETE\n",
      "ADIOS\n"
     ]
    }
   ],
   "source": [
    "import mipaquete.subpaquete.mimodulo2 as mod\n",
    "\n",
    "mod.mostrar_adios()"
   ]
  },
  {
   "cell_type": "code",
   "execution_count": 1,
   "id": "6f60d7fd-1061-414e-a105-42b9bae10b54",
   "metadata": {},
   "outputs": [
    {
     "name": "stdout",
     "output_type": "stream",
     "text": [
      "IMPORTANDO MI PAQUETE\n",
      "IMPORTADO MI MODULO\n"
     ]
    }
   ],
   "source": [
    "# EL codigo del INIT solo se ejecuta una vez\n",
    "# Si se ejecuta de nuevo ya no aparece y va directo a mimodulo ------------------------------------------->OJO\n",
    "import mipaquete.mimodulo\n",
    "\n",
    "import mipaquete.mimodulo"
   ]
  },
  {
   "cell_type": "code",
   "execution_count": 2,
   "id": "9b18e71f-5025-4e26-ae3f-9b2807b6b063",
   "metadata": {},
   "outputs": [
    {
     "ename": "IndexError",
     "evalue": "list index out of range",
     "output_type": "error",
     "traceback": [
      "\u001b[1;31m---------------------------------------------------------------------------\u001b[0m",
      "\u001b[1;31mIndexError\u001b[0m                                Traceback (most recent call last)",
      "Input \u001b[1;32mIn [2]\u001b[0m, in \u001b[0;36m<cell line: 5>\u001b[1;34m()\u001b[0m\n\u001b[0;32m      1\u001b[0m \u001b[38;5;66;03m# EXCEPCIONES\u001b[39;00m\n\u001b[0;32m      3\u001b[0m mi_lista \u001b[38;5;241m=\u001b[39m [\u001b[38;5;241m3\u001b[39m, \u001b[38;5;241m4\u001b[39m, \u001b[38;5;241m5\u001b[39m]\n\u001b[1;32m----> 5\u001b[0m \u001b[38;5;28mprint\u001b[39m(\u001b[43mmi_lista\u001b[49m\u001b[43m[\u001b[49m\u001b[38;5;241;43m10\u001b[39;49m\u001b[43m]\u001b[49m)\n",
      "\u001b[1;31mIndexError\u001b[0m: list index out of range"
     ]
    }
   ],
   "source": [
    "###########################################################\n",
    "#                        EXCEPCIONES\n",
    "###########################################################\n",
    "\n",
    "# Si yo no hago nada Python termina el programa de forma abrupta\n",
    "# Hay que manejar l aexception para decirle al programa que hacer en cada caso\n",
    "mi_lista = [3, 4, 5]\n",
    "\n",
    "print(mi_lista[10])"
   ]
  },
  {
   "cell_type": "code",
   "execution_count": 4,
   "id": "89dd2452-a8f5-47b1-8fca-ce6dce3aa26a",
   "metadata": {},
   "outputs": [
    {
     "name": "stdout",
     "output_type": "stream",
     "text": [
      "ERROR\n",
      "FIN\n"
     ]
    }
   ],
   "source": [
    "try:\n",
    "    print(mi_lista[10])\n",
    "    print(\"HOLA\")\n",
    "except:\n",
    "    print(\"ERROR\")\n",
    "print(\"FIN\")"
   ]
  },
  {
   "cell_type": "code",
   "execution_count": 6,
   "id": "6f624fa3-50eb-4d9e-9935-7b1531053377",
   "metadata": {},
   "outputs": [
    {
     "name": "stdout",
     "output_type": "stream",
     "text": [
      "Introduce el divisor: 0\n"
     ]
    },
    {
     "name": "stdout",
     "output_type": "stream",
     "text": [
      "ERROR\n",
      "FIN\n"
     ]
    }
   ],
   "source": [
    "try:\n",
    "    # El codigo que tengo en esta parte si ocurre un eror ejecuta el codigo que tengo en el EXCEPT ----------------------------> OJO\n",
    "    divisor = float(input(\"Introduce el divisor:\"))\n",
    "    print(60 / divisor)\n",
    "    print(\"HECHO\")\n",
    "except:\n",
    "    print(\"ERROR\")\n",
    "print(\"FIN\")"
   ]
  },
  {
   "cell_type": "code",
   "execution_count": 8,
   "id": "de8051f6-5916-4fe3-8a70-16b082aeac67",
   "metadata": {},
   "outputs": [
    {
     "name": "stdout",
     "output_type": "stream",
     "text": [
      "Introduce el divisor: hfjsfhsjfd\n"
     ]
    },
    {
     "name": "stdout",
     "output_type": "stream",
     "text": [
      "No es un número\n",
      "FIN\n"
     ]
    }
   ],
   "source": [
    "try:\n",
    "    divisor = float(input(\"Introduce el divisor:\"))\n",
    "    print(60 / divisor)\n",
    "    print(\"HECHO\")\n",
    "except ValueError:\n",
    "    print(\"No es un número\")\n",
    "except ZeroDivisionError:\n",
    "    print(\"El 0 no es válido\")\n",
    "except:\n",
    "    print(\"ERROR\")\n",
    "print(\"FIN\")"
   ]
  },
  {
   "cell_type": "code",
   "execution_count": 9,
   "id": "3466d7a3-2558-486d-aa58-c61dba5e1fc8",
   "metadata": {},
   "outputs": [
    {
     "name": "stdout",
     "output_type": "stream",
     "text": [
      "Introduce el divisor: 0\n"
     ]
    },
    {
     "name": "stdout",
     "output_type": "stream",
     "text": [
      "No es un número válido\n",
      "FIN\n"
     ]
    }
   ],
   "source": [
    "try:\n",
    "    divisor = float(input(\"Introduce el divisor:\"))\n",
    "    print(60 / divisor)\n",
    "    print(\"HECHO\")\n",
    "    \n",
    "    # Puedo agrupar exceptiones de esta forma ---------------------> OJO\n",
    "except (ValueError, ZeroDivisionError):\n",
    "    print(\"No es un número válido\")\n",
    "except:\n",
    "    print(\"ERROR\")\n",
    "print(\"FIN\")"
   ]
  },
  {
   "cell_type": "code",
   "execution_count": 10,
   "id": "6664afaf-7789-495a-89da-39c80ff98a56",
   "metadata": {},
   "outputs": [
    {
     "name": "stdout",
     "output_type": "stream",
     "text": [
      "Introduce el divisor: 0\n"
     ]
    },
    {
     "ename": "ZeroDivisionError",
     "evalue": "float division by zero",
     "output_type": "error",
     "traceback": [
      "\u001b[1;31m---------------------------------------------------------------------------\u001b[0m",
      "\u001b[1;31mZeroDivisionError\u001b[0m                         Traceback (most recent call last)",
      "Input \u001b[1;32mIn [10]\u001b[0m, in \u001b[0;36m<cell line: 1>\u001b[1;34m()\u001b[0m\n\u001b[0;32m      1\u001b[0m \u001b[38;5;28;01mtry\u001b[39;00m:\n\u001b[0;32m      2\u001b[0m     divisor \u001b[38;5;241m=\u001b[39m \u001b[38;5;28mfloat\u001b[39m(\u001b[38;5;28minput\u001b[39m(\u001b[38;5;124m\"\u001b[39m\u001b[38;5;124mIntroduce el divisor:\u001b[39m\u001b[38;5;124m\"\u001b[39m))\n\u001b[1;32m----> 3\u001b[0m     \u001b[38;5;28mprint\u001b[39m(\u001b[38;5;241;43m60\u001b[39;49m\u001b[43m \u001b[49m\u001b[38;5;241;43m/\u001b[39;49m\u001b[43m \u001b[49m\u001b[43mdivisor\u001b[49m)\n\u001b[0;32m      4\u001b[0m     \u001b[38;5;28mprint\u001b[39m(\u001b[38;5;124m\"\u001b[39m\u001b[38;5;124mHECHO\u001b[39m\u001b[38;5;124m\"\u001b[39m)\n\u001b[0;32m      5\u001b[0m \u001b[38;5;28;01mexcept\u001b[39;00m \u001b[38;5;167;01mValueError\u001b[39;00m:\n",
      "\u001b[1;31mZeroDivisionError\u001b[0m: float division by zero"
     ]
    }
   ],
   "source": [
    "try:\n",
    "    divisor = float(input(\"Introduce el divisor:\"))\n",
    "    print(60 / divisor)\n",
    "    print(\"HECHO\")\n",
    "except ValueError:\n",
    "    print(\"No es un número\")"
   ]
  },
  {
   "cell_type": "code",
   "execution_count": 11,
   "id": "89c9fbfb-d103-468c-a962-bf2b73591c6a",
   "metadata": {},
   "outputs": [
    {
     "name": "stdout",
     "output_type": "stream",
     "text": [
      "Introduce el divisor: jkjk\n"
     ]
    },
    {
     "name": "stdout",
     "output_type": "stream",
     "text": [
      "Exception\n",
      "FIN\n"
     ]
    }
   ],
   "source": [
    "# Es MUY importante la jeraquia de las exceptions\n",
    "# Se ejecutan en orden de mas general a mas especifica\n",
    "# Si el EXCEPTION esta mas arriba y cunaple la condicon se ejecuta primero y YA NO SE EJECUTA EL DE ABAJO ------------------------------ OJO\n",
    "# En el primero momento en que cumple la exception el resto no se evalua\n",
    "# NUCA PONER LAS CLASE PADRE antes de las clases HIJA ------------------------------------------- OJO OJO OJO\n",
    "try:\n",
    "    divisor = float(input(\"Introduce el divisor:\"))\n",
    "    print(60 / divisor)\n",
    "    print(\"HECHO\")\n",
    "except Exception:\n",
    "    print(\"Exception\")\n",
    "except ValueError:\n",
    "    print(\"No es un número\")\n",
    "except ZeroDivisionError:\n",
    "    print(\"El 0 no es válido\")\n",
    "except:\n",
    "    print(\"ERROR\")\n",
    "print(\"FIN\")"
   ]
  },
  {
   "cell_type": "code",
   "execution_count": 13,
   "id": "4ae737e9-1caf-4359-8571-d52cbb1892c0",
   "metadata": {},
   "outputs": [
    {
     "name": "stdout",
     "output_type": "stream",
     "text": [
      "Introduce el divisor: 9\n"
     ]
    },
    {
     "name": "stdout",
     "output_type": "stream",
     "text": [
      "6.666666666666667\n",
      "HECHO\n",
      "ELSE\n",
      "FINALLY\n",
      "FIN\n"
     ]
    }
   ],
   "source": [
    "try:\n",
    "    divisor = float(input(\"Introduce el divisor:\"))\n",
    "    print(60 / divisor)\n",
    "    print(\"HECHO\")\n",
    "except ValueError:\n",
    "    print(\"No es un número\")\n",
    "except ZeroDivisionError:\n",
    "    print(\"El 0 no es válido\")\n",
    "except:\n",
    "    print(\"ERROR\")\n",
    "    \n",
    "    # UN codigo que se va a ejecutar solo si no ha habiado error\n",
    "    # Si ocurre un errro no se va a ejecutar ---------------------------------------OJO\n",
    "else:\n",
    "    print(\"ELSE\")\n",
    "    # Este codigo se ejecuta haya error o no haya error\n",
    "finally:\n",
    "    print(\"FINALLY\")\n",
    "print(\"FIN\")"
   ]
  },
  {
   "cell_type": "code",
   "execution_count": 14,
   "id": "c6a34829-31f1-4283-8719-5c44b6c14d1c",
   "metadata": {},
   "outputs": [
    {
     "name": "stdout",
     "output_type": "stream",
     "text": [
      "Introduce el divisor positivo: -4\n"
     ]
    },
    {
     "name": "stdout",
     "output_type": "stream",
     "text": [
      "No es un número válido\n",
      "FIN\n"
     ]
    }
   ],
   "source": [
    "# RAISE/ LANZAR UNA EXCEPCIÓN\n",
    "\n",
    "try:\n",
    "    divisor = float(input(\"Introduce el divisor positivo:\"))\n",
    "    \n",
    "    # QUiero que solo sea un divisor positivo\n",
    "    # Entonces si el valor es menor que 0 quiero que me laze la exception\n",
    "    # Si se intenta introducir un numero negativo lanza la exception\n",
    "    if divisor < 0:\n",
    "        raise ValueError\n",
    "    print(60 / divisor)\n",
    "    print(\"HECHO\")\n",
    "except ValueError:\n",
    "    print(\"No es un número válido\")\n",
    "except ZeroDivisionError:\n",
    "    print(\"El 0 no es válido\")\n",
    "except:\n",
    "    print(\"ERROR\")\n",
    "print(\"FIN\")\n",
    "\n"
   ]
  },
  {
   "cell_type": "code",
   "execution_count": 17,
   "id": "e7276de3-d123-459e-b4fb-af5277cb34e1",
   "metadata": {},
   "outputs": [],
   "source": [
    "# EL RAISE se mete dentro del codigo o se puede lanzar directamente dentro del except ---------------------------------OJO\n",
    "\n",
    "def pedir_numero():\n",
    "    try:\n",
    "        numero = float(input(\"Introduce un número:\"))\n",
    "    except Exception:\n",
    "        print(\"Error\")\n",
    "        raise"
   ]
  },
  {
   "cell_type": "code",
   "execution_count": 18,
   "id": "ee1eed79-8b11-48de-9821-b4f152169435",
   "metadata": {},
   "outputs": [
    {
     "name": "stdout",
     "output_type": "stream",
     "text": [
      "Introduce un número: jkljk\n"
     ]
    },
    {
     "name": "stdout",
     "output_type": "stream",
     "text": [
      "Error\n"
     ]
    },
    {
     "ename": "ValueError",
     "evalue": "could not convert string to float: 'jkljk'",
     "output_type": "error",
     "traceback": [
      "\u001b[1;31m---------------------------------------------------------------------------\u001b[0m",
      "\u001b[1;31mValueError\u001b[0m                                Traceback (most recent call last)",
      "Input \u001b[1;32mIn [18]\u001b[0m, in \u001b[0;36m<cell line: 1>\u001b[1;34m()\u001b[0m\n\u001b[1;32m----> 1\u001b[0m \u001b[43mpedir_numero\u001b[49m\u001b[43m(\u001b[49m\u001b[43m)\u001b[49m\n",
      "Input \u001b[1;32mIn [17]\u001b[0m, in \u001b[0;36mpedir_numero\u001b[1;34m()\u001b[0m\n\u001b[0;32m      1\u001b[0m \u001b[38;5;28;01mdef\u001b[39;00m \u001b[38;5;21mpedir_numero\u001b[39m():\n\u001b[0;32m      2\u001b[0m     \u001b[38;5;28;01mtry\u001b[39;00m:\n\u001b[1;32m----> 3\u001b[0m         numero \u001b[38;5;241m=\u001b[39m \u001b[38;5;28;43mfloat\u001b[39;49m\u001b[43m(\u001b[49m\u001b[38;5;28;43minput\u001b[39;49m\u001b[43m(\u001b[49m\u001b[38;5;124;43m\"\u001b[39;49m\u001b[38;5;124;43mIntroduce un número:\u001b[39;49m\u001b[38;5;124;43m\"\u001b[39;49m\u001b[43m)\u001b[49m\u001b[43m)\u001b[49m\n\u001b[0;32m      4\u001b[0m     \u001b[38;5;28;01mexcept\u001b[39;00m \u001b[38;5;167;01mException\u001b[39;00m:\n\u001b[0;32m      5\u001b[0m         \u001b[38;5;28mprint\u001b[39m(\u001b[38;5;124m\"\u001b[39m\u001b[38;5;124mError\u001b[39m\u001b[38;5;124m\"\u001b[39m)\n",
      "\u001b[1;31mValueError\u001b[0m: could not convert string to float: 'jkljk'"
     ]
    }
   ],
   "source": [
    "pedir_numero()"
   ]
  },
  {
   "cell_type": "code",
   "execution_count": 19,
   "id": "65b9f76e-c84d-4917-9218-d4272c3767d1",
   "metadata": {},
   "outputs": [],
   "source": [
    "def pedir_numero():\n",
    "    try:\n",
    "        numero = float(input(\"Introduce un número:\"))\n",
    "    except Exception:\n",
    "        print(\"Error\")\n",
    "        raise"
   ]
  },
  {
   "cell_type": "code",
   "execution_count": 20,
   "id": "d63d17d3-2951-4975-a965-49fa1da10907",
   "metadata": {},
   "outputs": [
    {
     "name": "stdout",
     "output_type": "stream",
     "text": [
      "Introduce un número: fdfdf\n"
     ]
    },
    {
     "name": "stdout",
     "output_type": "stream",
     "text": [
      "Error\n",
      "Error en programa principal\n"
     ]
    }
   ],
   "source": [
    "try:\n",
    "    pedir_numero()\n",
    "except:\n",
    "    print(\"Error en programa principal\")"
   ]
  },
  {
   "cell_type": "code",
   "execution_count": 23,
   "id": "7ca328e0-268b-4da8-9319-940ec088c183",
   "metadata": {},
   "outputs": [],
   "source": [
    "def pedir_numero():\n",
    "    try:\n",
    "        numero = float(input(\"Introduce un número:\"))\n",
    "    except Exception as err:\n",
    "        print(\"Error\")\n",
    "        print(err)\n",
    "        print(type(err))\n",
    "        raise err"
   ]
  },
  {
   "cell_type": "code",
   "execution_count": 24,
   "id": "37234d87-2cbb-4896-ae84-46474cdc0847",
   "metadata": {},
   "outputs": [
    {
     "name": "stdout",
     "output_type": "stream",
     "text": [
      "Introduce un número: hfdhd\n"
     ]
    },
    {
     "name": "stdout",
     "output_type": "stream",
     "text": [
      "Error\n",
      "could not convert string to float: 'hfdhd'\n",
      "<class 'ValueError'>\n",
      "Error en programa principal\n"
     ]
    }
   ],
   "source": [
    "try:\n",
    "    pedir_numero()\n",
    "except:\n",
    "    print(\"Error en programa principal\")"
   ]
  },
  {
   "cell_type": "code",
   "execution_count": null,
   "id": "45b9f885-2e93-4b15-ac31-1a6209f0d91a",
   "metadata": {},
   "outputs": [],
   "source": []
  }
 ],
 "metadata": {
  "kernelspec": {
   "display_name": "Python 3 (ipykernel)",
   "language": "python",
   "name": "python3"
  },
  "language_info": {
   "codemirror_mode": {
    "name": "ipython",
    "version": 3
   },
   "file_extension": ".py",
   "mimetype": "text/x-python",
   "name": "python",
   "nbconvert_exporter": "python",
   "pygments_lexer": "ipython3",
   "version": "3.9.12"
  }
 },
 "nbformat": 4,
 "nbformat_minor": 5
}
