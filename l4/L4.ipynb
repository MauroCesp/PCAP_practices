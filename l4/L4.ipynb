{
 "cells": [
  {
   "cell_type": "markdown",
   "id": "62c86491-b642-4d06-93d3-7ee5a79b4b62",
   "metadata": {},
   "source": [
    "# Lección 4"
   ]
  },
  {
   "cell_type": "code",
   "execution_count": 1,
   "id": "4808f39a-97cc-4cdf-a7e5-221ee887a5d0",
   "metadata": {},
   "outputs": [
    {
     "name": "stdout",
     "output_type": "stream",
     "text": [
      "<class 'str'>\n"
     ]
    }
   ],
   "source": [
    "# Cadenas \n",
    "\n",
    "# SOn INMUTABLES-----------------------------------------OJO\n",
    "\n",
    "cadena = \"Hola mundo\"\n",
    "print(type(cadena))"
   ]
  },
  {
   "cell_type": "code",
   "execution_count": 2,
   "id": "22dce15f-ead4-41fd-a3b7-12a884dd1a20",
   "metadata": {},
   "outputs": [
    {
     "name": "stdout",
     "output_type": "stream",
     "text": [
      "<class 'str'>\n"
     ]
    }
   ],
   "source": [
    "\n",
    "cadena = 'Hola mundo'\n",
    "print(type(cadena))"
   ]
  },
  {
   "cell_type": "code",
   "execution_count": 3,
   "id": "1fdefa6b-369d-44ff-893b-fab3f13f82d1",
   "metadata": {},
   "outputs": [
    {
     "name": "stdout",
     "output_type": "stream",
     "text": [
      "Hola mundo\n",
      "a todos\n"
     ]
    }
   ],
   "source": [
    "# Definir cadenas largas en varias lineas\n",
    "# Uso 3 comillas para definir la cadenas ---------------------------------------OJO\n",
    "\n",
    "cadena = \"\"\"Hola mundo\n",
    "a todos\"\"\"\n",
    "\n",
    "print(cadena)"
   ]
  },
  {
   "cell_type": "code",
   "execution_count": 4,
   "id": "684861cb-d34e-4682-894c-4a1133250502",
   "metadata": {},
   "outputs": [
    {
     "name": "stdout",
     "output_type": "stream",
     "text": [
      "Hola mundo\n",
      "a todos\n"
     ]
    }
   ],
   "source": [
    "cadena = '''Hola mundo\n",
    "a todos'''\n",
    "\n",
    "print(cadena)"
   ]
  },
  {
   "cell_type": "code",
   "execution_count": 5,
   "id": "5ea71896-009e-4417-af8f-6788b9ce9779",
   "metadata": {},
   "outputs": [
    {
     "name": "stdout",
     "output_type": "stream",
     "text": [
      "4\n"
     ]
    }
   ],
   "source": [
    "# Ver cuantos caracteres tiene la cadena\n",
    "cadena = \"Hola\"\n",
    "print(len(cadena))"
   ]
  },
  {
   "cell_type": "code",
   "execution_count": 6,
   "id": "c5b3d3db-6015-4cc2-8d46-a253626d197d",
   "metadata": {},
   "outputs": [
    {
     "name": "stdout",
     "output_type": "stream",
     "text": [
      "5\n"
     ]
    }
   ],
   "source": [
    "\n",
    "# EL salto de linea lo cuenta como un carater mas que añade a la cadena --------------- CUIDADO\n",
    "cadena = \"\"\"Ho\n",
    "la\"\"\"\n",
    "print(len(cadena))"
   ]
  },
  {
   "cell_type": "code",
   "execution_count": 7,
   "id": "e8d947d5-cfa7-4a92-aa57-b70c7b6d67ce",
   "metadata": {},
   "outputs": [
    {
     "name": "stdout",
     "output_type": "stream",
     "text": [
      "o\n"
     ]
    }
   ],
   "source": [
    "cadena = \"Hola mundo\"\n",
    "\n",
    "print(cadena[1])"
   ]
  },
  {
   "cell_type": "code",
   "execution_count": 8,
   "id": "c3a12e14-fba0-4983-801a-aa5eb66c347a",
   "metadata": {},
   "outputs": [
    {
     "name": "stdout",
     "output_type": "stream",
     "text": [
      "<class 'str'>\n"
     ]
    }
   ],
   "source": [
    "print(type(cadena[1]))"
   ]
  },
  {
   "cell_type": "code",
   "execution_count": 9,
   "id": "3537b2ab-7f32-4322-9558-51b8cbf9526e",
   "metadata": {},
   "outputs": [
    {
     "name": "stdout",
     "output_type": "stream",
     "text": [
      "d\n"
     ]
    }
   ],
   "source": [
    "print(cadena[-2])"
   ]
  },
  {
   "cell_type": "code",
   "execution_count": 10,
   "id": "099d66fa-6cc5-49e4-a62a-eccc44669ac6",
   "metadata": {},
   "outputs": [
    {
     "name": "stdout",
     "output_type": "stream",
     "text": [
      "Hola\n"
     ]
    }
   ],
   "source": [
    "print(cadena[0:4])"
   ]
  },
  {
   "cell_type": "code",
   "execution_count": 11,
   "id": "60cd596e-ff72-42e9-bdf2-28197fc0ccc7",
   "metadata": {},
   "outputs": [
    {
     "name": "stdout",
     "output_type": "stream",
     "text": [
      "Hola mund\n"
     ]
    }
   ],
   "source": [
    "\n",
    "# REcordar que el ultimo no lo coje\n",
    "print(cadena[0:-1])"
   ]
  },
  {
   "cell_type": "code",
   "execution_count": 12,
   "id": "b6c35bc0-2489-4e57-9fa0-4037637adf99",
   "metadata": {},
   "outputs": [
    {
     "ename": "TypeError",
     "evalue": "'str' object does not support item assignment",
     "output_type": "error",
     "traceback": [
      "\u001b[1;31m---------------------------------------------------------------------------\u001b[0m",
      "\u001b[1;31mTypeError\u001b[0m                                 Traceback (most recent call last)",
      "Input \u001b[1;32mIn [12]\u001b[0m, in \u001b[0;36m<cell line: 1>\u001b[1;34m()\u001b[0m\n\u001b[1;32m----> 1\u001b[0m cadena[\u001b[38;5;241m0\u001b[39m] \u001b[38;5;241m=\u001b[39m \u001b[38;5;124m\"\u001b[39m\u001b[38;5;124mO\u001b[39m\u001b[38;5;124m\"\u001b[39m\n",
      "\u001b[1;31mTypeError\u001b[0m: 'str' object does not support item assignment"
     ]
    }
   ],
   "source": [
    "\n",
    "# Como son INMUTABLES me devuelve type error porque no permite editar o eliminar.\n",
    "cadena[0] = \"O\""
   ]
  },
  {
   "cell_type": "code",
   "execution_count": 13,
   "id": "31af6248-26fb-4458-97f2-c100a21e49d6",
   "metadata": {},
   "outputs": [
    {
     "ename": "TypeError",
     "evalue": "'str' object doesn't support item deletion",
     "output_type": "error",
     "traceback": [
      "\u001b[1;31m---------------------------------------------------------------------------\u001b[0m",
      "\u001b[1;31mTypeError\u001b[0m                                 Traceback (most recent call last)",
      "Input \u001b[1;32mIn [13]\u001b[0m, in \u001b[0;36m<cell line: 1>\u001b[1;34m()\u001b[0m\n\u001b[1;32m----> 1\u001b[0m \u001b[38;5;28;01mdel\u001b[39;00m cadena[\u001b[38;5;241m0\u001b[39m]\n",
      "\u001b[1;31mTypeError\u001b[0m: 'str' object doesn't support item deletion"
     ]
    }
   ],
   "source": [
    "del cadena[0]"
   ]
  },
  {
   "cell_type": "code",
   "execution_count": 14,
   "id": "652de5cf-809f-48c4-a19b-d2932dba36f9",
   "metadata": {},
   "outputs": [
    {
     "name": "stdout",
     "output_type": "stream",
     "text": [
      "2090559390448\n",
      "2090559390448\n"
     ]
    }
   ],
   "source": [
    "# Ahorita son los mismos porque no he realizado ningun cambio\n",
    "# COn la funcion ID veo el espacio en memoria\n",
    "# Aqui se cera un nuevo objeto porque estoy creando una nueva cadena\n",
    "\n",
    "\n",
    "cadena = \"hola\"\n",
    "cadena2 = cadena\n",
    "\n",
    "print(id(cadena))\n",
    "print(id(cadena2))"
   ]
  },
  {
   "cell_type": "code",
   "execution_count": 15,
   "id": "51d1378c-a211-4dd2-9686-fa07420098e0",
   "metadata": {},
   "outputs": [
    {
     "name": "stdout",
     "output_type": "stream",
     "text": [
      "2090559390448\n",
      "2090530646448\n"
     ]
    }
   ],
   "source": [
    "cadena2= \"mundo\"\n",
    "\n",
    "print(id(cadena))\n",
    "print(id(cadena2))"
   ]
  },
  {
   "cell_type": "code",
   "execution_count": 16,
   "id": "9efae096-8449-4970-b28a-d7d0b7c50504",
   "metadata": {},
   "outputs": [
    {
     "name": "stdout",
     "output_type": "stream",
     "text": [
      "2090559390448\n"
     ]
    }
   ],
   "source": [
    "cadena = \"hola\"\n",
    "print(id(cadena))"
   ]
  },
  {
   "cell_type": "code",
   "execution_count": 17,
   "id": "e1ac2b68-76ff-4599-bd88-465af0be51fb",
   "metadata": {},
   "outputs": [
    {
     "name": "stdout",
     "output_type": "stream",
     "text": [
      "2090530645040\n"
     ]
    }
   ],
   "source": [
    "# A nivel de eficiencia hay que tener cuidado con la concatenacion porque crea dos objetos\n",
    "# Aveces es nejor tener un solo string proque crea un solo objeto\n",
    "\n",
    "cadena = \"hola\" + \" mundo\"\n",
    "print(id(cadena))"
   ]
  },
  {
   "cell_type": "code",
   "execution_count": 18,
   "id": "cbfeff78-a19a-4592-8c06-cb0f7eaba57a",
   "metadata": {},
   "outputs": [],
   "source": [
    "cadena = \"hola\" + \" mundo\"\n",
    "\n",
    "cadena = \"hola mundo\""
   ]
  },
  {
   "cell_type": "code",
   "execution_count": 19,
   "id": "a666d27d-15a4-488c-88bb-3f7afd04a1b4",
   "metadata": {},
   "outputs": [
    {
     "name": "stdout",
     "output_type": "stream",
     "text": [
      "hola mundo\n"
     ]
    }
   ],
   "source": [
    "cadena = \"hola\"\n",
    "cadena += \" mundo\"\n",
    "print(cadena)"
   ]
  },
  {
   "cell_type": "code",
   "execution_count": 20,
   "id": "6c9f6523-7505-4dfd-b3eb-958d7e5d4960",
   "metadata": {},
   "outputs": [
    {
     "name": "stdout",
     "output_type": "stream",
     "text": [
      "holaholahola\n"
     ]
    }
   ],
   "source": [
    "cadena = \"hola\"\n",
    "print(cadena * 3)"
   ]
  },
  {
   "cell_type": "code",
   "execution_count": 21,
   "id": "0d017437-80ef-4eee-ab00-5201628c4c7e",
   "metadata": {},
   "outputs": [
    {
     "name": "stdout",
     "output_type": "stream",
     "text": [
      "holaholahola\n"
     ]
    }
   ],
   "source": [
    "cadena = \"hola\"\n",
    "print(3 * cadena)"
   ]
  },
  {
   "cell_type": "code",
   "execution_count": 22,
   "id": "1eeef5be-b49c-4241-af4d-54c3b827e811",
   "metadata": {},
   "outputs": [
    {
     "ename": "TypeError",
     "evalue": "can't multiply sequence by non-int of type 'float'",
     "output_type": "error",
     "traceback": [
      "\u001b[1;31m---------------------------------------------------------------------------\u001b[0m",
      "\u001b[1;31mTypeError\u001b[0m                                 Traceback (most recent call last)",
      "Input \u001b[1;32mIn [22]\u001b[0m, in \u001b[0;36m<cell line: 2>\u001b[1;34m()\u001b[0m\n\u001b[0;32m      1\u001b[0m cadena \u001b[38;5;241m=\u001b[39m \u001b[38;5;124m\"\u001b[39m\u001b[38;5;124mhola\u001b[39m\u001b[38;5;124m\"\u001b[39m\n\u001b[1;32m----> 2\u001b[0m \u001b[38;5;28mprint\u001b[39m(\u001b[38;5;241;43m2.5\u001b[39;49m\u001b[43m \u001b[49m\u001b[38;5;241;43m*\u001b[39;49m\u001b[43m \u001b[49m\u001b[43mcadena\u001b[49m)\n",
      "\u001b[1;31mTypeError\u001b[0m: can't multiply sequence by non-int of type 'float'"
     ]
    }
   ],
   "source": [
    "# Como lo que esta haciendo es replicando no va a funcionar\n",
    "# Porque no es una multiplicación de enteros\n",
    "cadena = \"hola\"\n",
    "print(2.5 * cadena)"
   ]
  },
  {
   "cell_type": "code",
   "execution_count": 23,
   "id": "8c8dfd58-fcee-461c-9b7c-d9f315fdad58",
   "metadata": {},
   "outputs": [
    {
     "name": "stdout",
     "output_type": "stream",
     "text": [
      "hola\n"
     ]
    }
   ],
   "source": [
    "cadena = \"hola\"\n",
    "print(True * cadena)"
   ]
  },
  {
   "cell_type": "code",
   "execution_count": 24,
   "id": "4d06e360-e62b-44d6-83b0-00387cf1ae08",
   "metadata": {},
   "outputs": [
    {
     "name": "stdout",
     "output_type": "stream",
     "text": [
      "\n"
     ]
    }
   ],
   "source": [
    "\n",
    "\n",
    "# SI lo hago con cero o con negativos dara VACIO -----------------------------------------------OJO \n",
    "# \n",
    "# cadena = \"hola\"\n",
    "print(0 * cadena)"
   ]
  },
  {
   "cell_type": "code",
   "execution_count": 25,
   "id": "f0e909b9-6b92-42fa-b7d7-ca3dc90066fd",
   "metadata": {},
   "outputs": [
    {
     "name": "stdout",
     "output_type": "stream",
     "text": [
      "\n"
     ]
    }
   ],
   "source": [
    "cadena = \"hola\"\n",
    "print(-1 * cadena)"
   ]
  },
  {
   "cell_type": "code",
   "execution_count": 26,
   "id": "928f2d36-6d8a-4e49-ac12-d367ff50327f",
   "metadata": {},
   "outputs": [
    {
     "name": "stdout",
     "output_type": "stream",
     "text": [
      "\n"
     ]
    }
   ],
   "source": [
    "cadena = \"hola\"\n",
    "print(False * cadena)"
   ]
  },
  {
   "cell_type": "code",
   "execution_count": 27,
   "id": "a020ee02-d46c-414c-a5ca-bfa2e21179b3",
   "metadata": {},
   "outputs": [
    {
     "name": "stdout",
     "output_type": "stream",
     "text": [
      "holaholahola\n"
     ]
    }
   ],
   "source": [
    "cadena = \"hola\"\n",
    "cadena *= 3\n",
    "print(cadena)"
   ]
  },
  {
   "cell_type": "code",
   "execution_count": 28,
   "id": "efd32252-4bcf-4d52-b074-71acfe57b03c",
   "metadata": {},
   "outputs": [
    {
     "name": "stdout",
     "output_type": "stream",
     "text": [
      "<class 'str'>\n"
     ]
    }
   ],
   "source": [
    "print(type(cadena))"
   ]
  },
  {
   "cell_type": "code",
   "execution_count": 29,
   "id": "be6172b0-bcb5-42c6-b9d5-b53cb55b830a",
   "metadata": {},
   "outputs": [],
   "source": [
    "#---- ORD\n",
    "# Le paso un unico caracter (SOLO UNO) y me devuelve el valor de ese caracter en la tabla UNICODE\n",
    "\n",
    "\n",
    "codigo= ord(\"A\")"
   ]
  },
  {
   "cell_type": "code",
   "execution_count": 30,
   "id": "79ca4be6-4333-4803-825b-fdc4fd3af8ee",
   "metadata": {},
   "outputs": [
    {
     "name": "stdout",
     "output_type": "stream",
     "text": [
      "65\n"
     ]
    }
   ],
   "source": [
    "print(codigo)"
   ]
  },
  {
   "cell_type": "code",
   "execution_count": 31,
   "id": "aea1e4dc-7ef5-46a1-b6b5-8322ff3eb7a1",
   "metadata": {},
   "outputs": [
    {
     "name": "stdout",
     "output_type": "stream",
     "text": [
      "97\n"
     ]
    }
   ],
   "source": [
    "\n",
    "# La letras MAYUSCULAS son numeros menores qye la letras minusculas   -------------------------------- OJO\n",
    "codigo= ord(\"a\")\n",
    "print(codigo)"
   ]
  },
  {
   "cell_type": "code",
   "execution_count": 32,
   "id": "0983c9e4-1818-4907-96c4-e31c5b8840f3",
   "metadata": {},
   "outputs": [
    {
     "ename": "TypeError",
     "evalue": "ord() expected a character, but string of length 2 found",
     "output_type": "error",
     "traceback": [
      "\u001b[1;31m---------------------------------------------------------------------------\u001b[0m",
      "\u001b[1;31mTypeError\u001b[0m                                 Traceback (most recent call last)",
      "Input \u001b[1;32mIn [32]\u001b[0m, in \u001b[0;36m<cell line: 1>\u001b[1;34m()\u001b[0m\n\u001b[1;32m----> 1\u001b[0m codigo\u001b[38;5;241m=\u001b[39m \u001b[38;5;28;43mord\u001b[39;49m\u001b[43m(\u001b[49m\u001b[38;5;124;43m\"\u001b[39;49m\u001b[38;5;124;43mAa\u001b[39;49m\u001b[38;5;124;43m\"\u001b[39;49m\u001b[43m)\u001b[49m\n",
      "\u001b[1;31mTypeError\u001b[0m: ord() expected a character, but string of length 2 found"
     ]
    }
   ],
   "source": [
    "# SOlo se puede ingresar un caracter a la vez\n",
    "codigo= ord(\"Aa\")"
   ]
  },
  {
   "cell_type": "code",
   "execution_count": 33,
   "id": "02de7a2d-df8a-4071-bb4b-b401f969bca8",
   "metadata": {},
   "outputs": [
    {
     "name": "stdout",
     "output_type": "stream",
     "text": [
      "A\n"
     ]
    }
   ],
   "source": [
    "# ------------------ CHR \n",
    "\n",
    "# Esto es lo contrario a lo anterios\n",
    "# Toma un codigo de la tabla y me devuelve un caracter\n",
    "print(chr(65))"
   ]
  },
  {
   "cell_type": "code",
   "execution_count": 34,
   "id": "8dd834a8-f738-4e98-981b-71e517c64d0e",
   "metadata": {},
   "outputs": [
    {
     "name": "stdout",
     "output_type": "stream",
     "text": [
      "a\n"
     ]
    }
   ],
   "source": [
    "print(chr(97))"
   ]
  },
  {
   "cell_type": "raw",
   "id": "3292cdc0-5bca-4721-878a-57bfe6f5f5aa",
   "metadata": {},
   "source": [
    "# Si el numero no existe en la tabla me da error\n",
    "\n",
    "print(chr(-1))"
   ]
  },
  {
   "cell_type": "code",
   "execution_count": 35,
   "id": "2b627c61-dbb2-4ca8-a8bb-84620a22e36d",
   "metadata": {},
   "outputs": [
    {
     "ename": "ValueError",
     "evalue": "chr() arg not in range(0x110000)",
     "output_type": "error",
     "traceback": [
      "\u001b[1;31m---------------------------------------------------------------------------\u001b[0m",
      "\u001b[1;31mValueError\u001b[0m                                Traceback (most recent call last)",
      "Input \u001b[1;32mIn [35]\u001b[0m, in \u001b[0;36m<cell line: 1>\u001b[1;34m()\u001b[0m\n\u001b[1;32m----> 1\u001b[0m \u001b[38;5;28mprint\u001b[39m(\u001b[38;5;28;43mchr\u001b[39;49m\u001b[43m(\u001b[49m\u001b[38;5;241;43m-\u001b[39;49m\u001b[38;5;241;43m1\u001b[39;49m\u001b[43m)\u001b[49m)\n",
      "\u001b[1;31mValueError\u001b[0m: chr() arg not in range(0x110000)"
     ]
    }
   ],
   "source": [
    "print(chr(-1))"
   ]
  },
  {
   "cell_type": "code",
   "execution_count": 38,
   "id": "c35cdd8a-647a-4cc2-9a51-8ffd6939b9f2",
   "metadata": {},
   "outputs": [
    {
     "ename": "ValueError",
     "evalue": "chr() arg not in range(0x110000)",
     "output_type": "error",
     "traceback": [
      "\u001b[1;31m---------------------------------------------------------------------------\u001b[0m",
      "\u001b[1;31mValueError\u001b[0m                                Traceback (most recent call last)",
      "Input \u001b[1;32mIn [38]\u001b[0m, in \u001b[0;36m<cell line: 1>\u001b[1;34m()\u001b[0m\n\u001b[1;32m----> 1\u001b[0m \u001b[38;5;28mprint\u001b[39m(\u001b[38;5;28;43mchr\u001b[39;49m\u001b[43m(\u001b[49m\u001b[38;5;241;43m99999999\u001b[39;49m\u001b[43m)\u001b[49m)\n",
      "\u001b[1;31mValueError\u001b[0m: chr() arg not in range(0x110000)"
     ]
    }
   ],
   "source": [
    "print(chr(99999999))"
   ]
  },
  {
   "cell_type": "code",
   "execution_count": 39,
   "id": "ffbb8260-ba34-48ad-8ee3-f5e06cbee1c8",
   "metadata": {},
   "outputs": [
    {
     "name": "stdout",
     "output_type": "stream",
     "text": [
      "C\n"
     ]
    }
   ],
   "source": [
    "#-------------------------- FORMA DE AVANZAR EN EL ABECEDARIO \n",
    "\n",
    "\n",
    "print(chr(ord(\"A\") + 2))"
   ]
  },
  {
   "cell_type": "code",
   "execution_count": 40,
   "id": "82e4cf01-b5bc-4b74-b0a8-c115cd1f81db",
   "metadata": {},
   "outputs": [
    {
     "name": "stdout",
     "output_type": "stream",
     "text": [
      "True\n"
     ]
    }
   ],
   "source": [
    "# Son iguales si tienen los mismos caracteres incluyendo minusculas y mayusculas\n",
    "# Iguales 100%\n",
    "print(\"abc\" == \"abc\")"
   ]
  },
  {
   "cell_type": "code",
   "execution_count": 41,
   "id": "43199168-ecd5-4738-a77c-06ee3e63e090",
   "metadata": {},
   "outputs": [
    {
     "name": "stdout",
     "output_type": "stream",
     "text": [
      "False\n"
     ]
    }
   ],
   "source": [
    "print(\"abc\" == \"Abc\")"
   ]
  },
  {
   "cell_type": "code",
   "execution_count": 42,
   "id": "08ab558a-b613-408b-91b1-311c269d038d",
   "metadata": {},
   "outputs": [
    {
     "name": "stdout",
     "output_type": "stream",
     "text": [
      "False\n"
     ]
    }
   ],
   "source": [
    "print(\"abc\" == \"abcd\")"
   ]
  },
  {
   "cell_type": "code",
   "execution_count": 43,
   "id": "b16e3bcb-8a7d-4b7c-95c4-5c0452631a4f",
   "metadata": {},
   "outputs": [
    {
     "name": "stdout",
     "output_type": "stream",
     "text": [
      "False\n"
     ]
    }
   ],
   "source": [
    "# En python se compara el primer caracter de la cadena\n",
    "# Aqui MAYUSCULAS simpre tiene codigos menores a las mimusculas\n",
    "# Aqui comparo la b y B \n",
    "\n",
    "print(\"abc\" < \"aBC\")"
   ]
  },
  {
   "cell_type": "code",
   "execution_count": 44,
   "id": "3ca4862e-533e-4b3a-9ccd-fdb497e18147",
   "metadata": {},
   "outputs": [
    {
     "name": "stdout",
     "output_type": "stream",
     "text": [
      "True\n"
     ]
    }
   ],
   "source": [
    "print(\"1\" > \"0\")"
   ]
  },
  {
   "cell_type": "code",
   "execution_count": 45,
   "id": "78f82f31-e00f-4db4-8b9c-88e628d74f7c",
   "metadata": {},
   "outputs": [
    {
     "name": "stdout",
     "output_type": "stream",
     "text": [
      "False\n"
     ]
    }
   ],
   "source": [
    "# Aqui no son enteros\n",
    "# Se compara el caracter de la tabla ----------------------------------OOJ\n",
    "print(\"5\" < \"20\")"
   ]
  },
  {
   "cell_type": "code",
   "execution_count": 46,
   "id": "32d29a32-39f9-4bb5-ab93-570b9cdcc52d",
   "metadata": {},
   "outputs": [
    {
     "name": "stdout",
     "output_type": "stream",
     "text": [
      "False\n"
     ]
    }
   ],
   "source": [
    "print(\"1\" == \"01\")"
   ]
  },
  {
   "cell_type": "code",
   "execution_count": 47,
   "id": "908708c6-497f-4480-b8ac-03841fed3f6c",
   "metadata": {},
   "outputs": [
    {
     "name": "stdout",
     "output_type": "stream",
     "text": [
      "False\n"
     ]
    }
   ],
   "source": [
    "# Cunado comparo una cadena con un valor numerico SIEMPRE va a ser false -----------------------------------------------OJO\n",
    "# NO se realiza la operacion\n",
    "print(\"10\" == 10)"
   ]
  },
  {
   "cell_type": "code",
   "execution_count": 48,
   "id": "2c3aa227-a6f2-46a7-8130-cf9f713acf6a",
   "metadata": {},
   "outputs": [
    {
     "ename": "TypeError",
     "evalue": "'>' not supported between instances of 'str' and 'int'",
     "output_type": "error",
     "traceback": [
      "\u001b[1;31m---------------------------------------------------------------------------\u001b[0m",
      "\u001b[1;31mTypeError\u001b[0m                                 Traceback (most recent call last)",
      "Input \u001b[1;32mIn [48]\u001b[0m, in \u001b[0;36m<cell line: 1>\u001b[1;34m()\u001b[0m\n\u001b[1;32m----> 1\u001b[0m \u001b[38;5;28mprint\u001b[39m(\u001b[38;5;124;43m\"\u001b[39;49m\u001b[38;5;124;43m10\u001b[39;49m\u001b[38;5;124;43m\"\u001b[39;49m\u001b[43m \u001b[49m\u001b[38;5;241;43m>\u001b[39;49m\u001b[43m \u001b[49m\u001b[38;5;241;43m10\u001b[39;49m)\n",
      "\u001b[1;31mTypeError\u001b[0m: '>' not supported between instances of 'str' and 'int'"
     ]
    }
   ],
   "source": [
    "print(\"10\" > 10)"
   ]
  },
  {
   "cell_type": "code",
   "execution_count": 49,
   "id": "becfe72f-7c8b-4b94-937a-7269ca0f08b0",
   "metadata": {},
   "outputs": [
    {
     "name": "stdout",
     "output_type": "stream",
     "text": [
      "10\n",
      "<class 'int'>\n"
     ]
    }
   ],
   "source": [
    "cadena = \"10\"\n",
    "numero = int(cadena)\n",
    "print(numero)\n",
    "print(type(numero))\n"
   ]
  },
  {
   "cell_type": "code",
   "execution_count": 50,
   "id": "1b888d35-f12d-410c-8949-1ab1a85a4387",
   "metadata": {},
   "outputs": [
    {
     "ename": "ValueError",
     "evalue": "invalid literal for int() with base 10: '10hj'",
     "output_type": "error",
     "traceback": [
      "\u001b[1;31m---------------------------------------------------------------------------\u001b[0m",
      "\u001b[1;31mValueError\u001b[0m                                Traceback (most recent call last)",
      "Input \u001b[1;32mIn [50]\u001b[0m, in \u001b[0;36m<cell line: 2>\u001b[1;34m()\u001b[0m\n\u001b[0;32m      1\u001b[0m cadena \u001b[38;5;241m=\u001b[39m \u001b[38;5;124m\"\u001b[39m\u001b[38;5;124m10hj\u001b[39m\u001b[38;5;124m\"\u001b[39m\n\u001b[1;32m----> 2\u001b[0m numero \u001b[38;5;241m=\u001b[39m \u001b[38;5;28;43mint\u001b[39;49m\u001b[43m(\u001b[49m\u001b[43mcadena\u001b[49m\u001b[43m)\u001b[49m\n\u001b[0;32m      3\u001b[0m \u001b[38;5;28mprint\u001b[39m(numero)\n\u001b[0;32m      4\u001b[0m \u001b[38;5;28mprint\u001b[39m(\u001b[38;5;28mtype\u001b[39m(numero))\n",
      "\u001b[1;31mValueError\u001b[0m: invalid literal for int() with base 10: '10hj'"
     ]
    }
   ],
   "source": [
    "cadena = \"10hj\"\n",
    "numero = int(cadena)\n",
    "print(numero)\n",
    "print(type(numero))"
   ]
  },
  {
   "cell_type": "code",
   "execution_count": 51,
   "id": "5160bcba-7e52-4cc5-b686-6e2e3bdf7bbb",
   "metadata": {},
   "outputs": [
    {
     "name": "stdout",
     "output_type": "stream",
     "text": [
      "10.0\n",
      "<class 'float'>\n"
     ]
    }
   ],
   "source": [
    "cadena = \"10\"\n",
    "numero = float(cadena)\n",
    "print(numero)\n",
    "print(type(numero))"
   ]
  },
  {
   "cell_type": "code",
   "execution_count": 52,
   "id": "af3c65ca-d659-42b8-9853-0e4dbb3d9d52",
   "metadata": {},
   "outputs": [
    {
     "name": "stdout",
     "output_type": "stream",
     "text": [
      "10.1\n",
      "<class 'float'>\n"
     ]
    }
   ],
   "source": [
    "cadena = \"10.1\"\n",
    "numero = float(cadena)\n",
    "print(numero)\n",
    "print(type(numero))"
   ]
  },
  {
   "cell_type": "code",
   "execution_count": 53,
   "id": "fdaab333-03be-47c5-9373-414ee25f11d4",
   "metadata": {},
   "outputs": [
    {
     "ename": "ValueError",
     "evalue": "invalid literal for int() with base 10: '10.0'",
     "output_type": "error",
     "traceback": [
      "\u001b[1;31m---------------------------------------------------------------------------\u001b[0m",
      "\u001b[1;31mValueError\u001b[0m                                Traceback (most recent call last)",
      "Input \u001b[1;32mIn [53]\u001b[0m, in \u001b[0;36m<cell line: 2>\u001b[1;34m()\u001b[0m\n\u001b[0;32m      1\u001b[0m cadena \u001b[38;5;241m=\u001b[39m \u001b[38;5;124m\"\u001b[39m\u001b[38;5;124m10.0\u001b[39m\u001b[38;5;124m\"\u001b[39m\n\u001b[1;32m----> 2\u001b[0m numero \u001b[38;5;241m=\u001b[39m \u001b[38;5;28;43mint\u001b[39;49m\u001b[43m(\u001b[49m\u001b[43mcadena\u001b[49m\u001b[43m)\u001b[49m\n\u001b[0;32m      3\u001b[0m \u001b[38;5;28mprint\u001b[39m(numero)\n\u001b[0;32m      4\u001b[0m \u001b[38;5;28mprint\u001b[39m(\u001b[38;5;28mtype\u001b[39m(numero))\n",
      "\u001b[1;31mValueError\u001b[0m: invalid literal for int() with base 10: '10.0'"
     ]
    }
   ],
   "source": [
    "# Esto no es una representacion de un entero\n",
    "# SImplemente porque los enteros no se representan con un punto\n",
    "# Por eso es que esto va a ser false ------------------------------------------------------------OJO\n",
    "cadena = \"10.0\"\n",
    "numero = int(cadena)\n",
    "print(numero)\n",
    "print(type(numero))"
   ]
  },
  {
   "cell_type": "code",
   "execution_count": 54,
   "id": "e77d5a76-cf0b-4ed1-9104-9afc23e0434e",
   "metadata": {},
   "outputs": [],
   "source": [
    "# Listas multidimensionales\n",
    "\n",
    "lista = [[[8,9,10] , 3, 5],\n",
    "    [True, 4],\n",
    "    [6, \"Hola\", 3.0, 8]\n",
    "]"
   ]
  },
  {
   "cell_type": "code",
   "execution_count": 55,
   "id": "a9377fe8-e0ab-4efe-b2fe-07379c921576",
   "metadata": {},
   "outputs": [
    {
     "name": "stdout",
     "output_type": "stream",
     "text": [
      "[[2, 3, 5], [True, 4], [6, 'Hola', 3.0, 8]]\n"
     ]
    }
   ],
   "source": [
    "print(lista)"
   ]
  },
  {
   "cell_type": "code",
   "execution_count": 56,
   "id": "ada000e3-27fd-4ef1-8a40-aa0902b7229d",
   "metadata": {},
   "outputs": [
    {
     "name": "stdout",
     "output_type": "stream",
     "text": [
      "<class 'list'>\n"
     ]
    }
   ],
   "source": [
    "print(type(lista))"
   ]
  },
  {
   "cell_type": "code",
   "execution_count": 57,
   "id": "d3f4e06f-4fc9-4d44-80d0-aed9a77dead2",
   "metadata": {},
   "outputs": [
    {
     "name": "stdout",
     "output_type": "stream",
     "text": [
      "True\n"
     ]
    }
   ],
   "source": [
    "print(lista[1][0])"
   ]
  },
  {
   "cell_type": "code",
   "execution_count": 58,
   "id": "93f10a9c-5d64-45ef-81e7-4eb3b68ddbcf",
   "metadata": {},
   "outputs": [],
   "source": [
    "lista = [[[8,9,10] , 3, 5],\n",
    "    [True, 4],\n",
    "    [6, \"Hola\", 3.0, 8]\n",
    "]"
   ]
  },
  {
   "cell_type": "code",
   "execution_count": 59,
   "id": "e7065df9-6271-4744-9b9f-804f9fa8f4bc",
   "metadata": {},
   "outputs": [
    {
     "name": "stdout",
     "output_type": "stream",
     "text": [
      "10\n"
     ]
    }
   ],
   "source": [
    "\n",
    "# Esta es la forma de acceder a una lista dentro de otra lista dentro de otra  ------------------------------------OJO\n",
    "print(lista[0][0][2])"
   ]
  },
  {
   "cell_type": "code",
   "execution_count": 60,
   "id": "34989507-a3bc-4bf1-a87d-af9242c88af8",
   "metadata": {},
   "outputs": [
    {
     "name": "stdout",
     "output_type": "stream",
     "text": [
      "[[[8, 9, 70.1], 3, 5], [True, 4], [6, 'Hola', 3.0, 8]]\n"
     ]
    }
   ],
   "source": [
    "lista[0][0][2] = 70.1\n",
    "\n",
    "print(lista)"
   ]
  },
  {
   "cell_type": "code",
   "execution_count": 62,
   "id": "9d06fe96-e593-4c25-9b0d-c0357096f1bd",
   "metadata": {},
   "outputs": [
    {
     "name": "stdout",
     "output_type": "stream",
     "text": [
      "3\n"
     ]
    }
   ],
   "source": [
    "print(len(lista))"
   ]
  },
  {
   "cell_type": "code",
   "execution_count": 67,
   "id": "c2bbd170-3a98-429f-84ee-dc3a1df4526a",
   "metadata": {},
   "outputs": [
    {
     "name": "stdout",
     "output_type": "stream",
     "text": [
      "[8, 9]\n"
     ]
    }
   ],
   "source": [
    "print(lista[0:1][0][0][0:2])"
   ]
  },
  {
   "cell_type": "code",
   "execution_count": 68,
   "id": "3f877f9b-52d2-4efd-96b1-7b97b3d0fc06",
   "metadata": {},
   "outputs": [
    {
     "name": "stdout",
     "output_type": "stream",
     "text": [
      "[0, 1, 2, 3, 4]\n"
     ]
    }
   ],
   "source": [
    "# Compresion\n",
    "# Es la forma de crear lista en una unica linea\n",
    "# Se utiliza mucho y su ejecucion es muy rapida\n",
    "# Suele aparecer bastante en la certificacion -----------------------------------OJO\n",
    "\n",
    "mi_lista = []  #0 a 4\n",
    "for i in range(5):\n",
    "    mi_lista.append(i)\n",
    "print(mi_lista)"
   ]
  },
  {
   "cell_type": "code",
   "execution_count": 69,
   "id": "11fd5f5a-14a0-4393-b809-d930bfba5a89",
   "metadata": {},
   "outputs": [
    {
     "name": "stdout",
     "output_type": "stream",
     "text": [
      "[0, 1, 2, 3, 4]\n"
     ]
    }
   ],
   "source": [
    "\n",
    "\n",
    "# Recordar que el RANGE no uncluye el ultimo elemento\n",
    "# Poner lo que va ir guardando [i]\n",
    "# Cada uno de los elementos es el valor de la variable i --------------------------------------------------OJO\n",
    "mi_lista = [i for i in range(5)]\n",
    "print(mi_lista)"
   ]
  },
  {
   "cell_type": "code",
   "execution_count": 70,
   "id": "50a599ef-835b-4850-92f3-70f2fcb3fe6c",
   "metadata": {},
   "outputs": [
    {
     "name": "stdout",
     "output_type": "stream",
     "text": [
      "[0, 2, 4, 6, 8]\n"
     ]
    }
   ],
   "source": [
    "mi_lista = []  #0, 2, 4, 6, 8\n",
    "for i in range(5):\n",
    "    mi_lista.append(i * 2)\n",
    "print(mi_lista)"
   ]
  },
  {
   "cell_type": "code",
   "execution_count": 71,
   "id": "ef2cd057-6a2e-4a00-8692-3d89bac7198a",
   "metadata": {},
   "outputs": [
    {
     "name": "stdout",
     "output_type": "stream",
     "text": [
      "[0, 2, 4, 6, 8]\n"
     ]
    }
   ],
   "source": [
    "mi_lista = [i * 2 for i in range(5)]\n",
    "print(mi_lista)"
   ]
  },
  {
   "cell_type": "code",
   "execution_count": 72,
   "id": "73a2e982-8b54-4723-88d7-1ccb929c3a38",
   "metadata": {},
   "outputs": [
    {
     "name": "stdout",
     "output_type": "stream",
     "text": [
      "[2, 6, 8]\n"
     ]
    }
   ],
   "source": [
    "lista1 = [2, 3, 1, 6, 8]\n",
    "\n",
    "# Buscar solo los elementos para de la lista\n",
    "mi_lista = [] \n",
    "for i in lista1:\n",
    "    if i % 2 == 0:\n",
    "        mi_lista.append(i)\n",
    "print(mi_lista)"
   ]
  },
  {
   "cell_type": "code",
   "execution_count": 73,
   "id": "9f6e38d3-92a8-4a06-bbe6-f13916ae492f",
   "metadata": {},
   "outputs": [
    {
     "name": "stdout",
     "output_type": "stream",
     "text": [
      "[2, 6, 8]\n"
     ]
    }
   ],
   "source": [
    "# SI quiero flitrar la condicion se pone a la derecha .-----------------------------------------------OJO\n",
    "# Esta es la forma de meter condiciones\n",
    "\n",
    "mi_lista = [i for i in lista1 if i % 2 == 0]\n",
    "print(mi_lista)"
   ]
  },
  {
   "cell_type": "code",
   "execution_count": 74,
   "id": "a3b3fb7b-539b-4ca7-b350-b359f214a5aa",
   "metadata": {},
   "outputs": [
    {
     "name": "stdout",
     "output_type": "stream",
     "text": [
      "[2, 'IMPAR', 'IMPAR', 6, 8]\n"
     ]
    }
   ],
   "source": [
    "lista1 = [2, 3, 1, 6, 8]\n",
    "\n",
    "# Aqui busco en un alista los elementos pares uy si es impar no lo elimina sino que agregar IMPAR\n",
    "mi_lista = [] \n",
    "for i in lista1:\n",
    "    if i % 2 == 0:\n",
    "        mi_lista.append(i)\n",
    "    else:\n",
    "        mi_lista.append(\"IMPAR\")\n",
    "print(mi_lista)"
   ]
  },
  {
   "cell_type": "code",
   "execution_count": 75,
   "id": "eb747862-86d0-429d-afc3-a65eea5e8398",
   "metadata": {},
   "outputs": [],
   "source": [
    "\n",
    "# En este caso en lugar de la derecha si pane entre el I y el FOR\n",
    "# Esto es cuando hay un IF-ELSE\n",
    "# ---------------------------------------------------------------------------------------------------------OJO\n",
    "mi_lista = [i if i % 2 == 0 else \"IMPAR\" for i in lista1]"
   ]
  },
  {
   "cell_type": "code",
   "execution_count": 76,
   "id": "9a3157f4-2d90-4a79-b8af-fc39ef153542",
   "metadata": {},
   "outputs": [
    {
     "name": "stdout",
     "output_type": "stream",
     "text": [
      "[2, 'IMPAR', 'IMPAR', 6, 8]\n"
     ]
    }
   ],
   "source": [
    "print(mi_lista)"
   ]
  },
  {
   "cell_type": "code",
   "execution_count": 77,
   "id": "9f3e4183-7cbb-4a74-bc86-151913615c39",
   "metadata": {},
   "outputs": [
    {
     "name": "stdout",
     "output_type": "stream",
     "text": [
      "[2, 'IMPAR', 6, 8]\n"
     ]
    }
   ],
   "source": [
    "\n",
    "lista1 = [2, 3, 1, 6, 8]\n",
    "\n",
    "mi_lista = [] \n",
    "for i in lista1:\n",
    "    if i % 2 == 0:\n",
    "        mi_lista.append(i)\n",
    "    else:\n",
    "        if i != 3:\n",
    "            mi_lista.append(\"IMPAR\")\n",
    "print(mi_lista)"
   ]
  },
  {
   "cell_type": "code",
   "execution_count": 78,
   "id": "fb25d28a-2d67-4ea9-8846-74fc7d67d6a8",
   "metadata": {},
   "outputs": [
    {
     "name": "stdout",
     "output_type": "stream",
     "text": [
      "[2, 'IMPAR', 6, 8]\n"
     ]
    }
   ],
   "source": [
    "# Mezclar SUSTITUCION y CONDICIONES\n",
    "\n",
    "# CONDICION a la derecha/ Exclusison de valores para saber si incluyo o no un valor.\n",
    "# SUSTITUCION izquierda entre I y FOR\n",
    "\n",
    "mi_lista = [i if i % 2 == 0 else \"IMPAR\" for i in lista1 if i != 3]\n",
    "print(mi_lista)"
   ]
  },
  {
   "cell_type": "code",
   "execution_count": 79,
   "id": "67e9a883-d044-427b-9fa2-331415e84a12",
   "metadata": {},
   "outputs": [
    {
     "name": "stdout",
     "output_type": "stream",
     "text": [
      "[[1, 2], [2, 4], [3, 6]]\n"
     ]
    }
   ],
   "source": [
    "# Compresion listas multidimensionales\n",
    "\n",
    "# Es necesario partir de lo mas general a lo especifico\n",
    "# \n",
    "\n",
    "mi_lista = [[j * i for j in [1,2]] for i in [1,2,3]]\n",
    "print(mi_lista)"
   ]
  },
  {
   "cell_type": "code",
   "execution_count": 80,
   "id": "57403129-0eb4-4377-9518-d0b6d51243f4",
   "metadata": {},
   "outputs": [
    {
     "name": "stdout",
     "output_type": "stream",
     "text": [
      "True\n"
     ]
    }
   ],
   "source": [
    "# Operaciones con listas   ------------- IN and NOT IN\n",
    "# Son muy utilies de poner en condicionales \n",
    "\n",
    "mi_lista = [True, 4 , \"E\", 5]\n",
    "\n",
    "print(4 in mi_lista)"
   ]
  },
  {
   "cell_type": "code",
   "execution_count": 81,
   "id": "42658891-11b9-449a-ac74-36272b9b00cd",
   "metadata": {},
   "outputs": [
    {
     "name": "stdout",
     "output_type": "stream",
     "text": [
      "False\n"
     ]
    }
   ],
   "source": [
    "print(\"J\" in mi_lista)"
   ]
  },
  {
   "cell_type": "code",
   "execution_count": 82,
   "id": "9ae7df50-5046-4dda-99dc-ae44abef8fc8",
   "metadata": {},
   "outputs": [
    {
     "name": "stdout",
     "output_type": "stream",
     "text": [
      "False\n"
     ]
    }
   ],
   "source": [
    "\n",
    "# Pregunta si no estan\n",
    "# # Devuelve TRUE si el elemento no esta\n",
    "print(4 not in mi_lista)"
   ]
  },
  {
   "cell_type": "code",
   "execution_count": 83,
   "id": "1502fe1c-c159-432c-a966-a016ab0ffacd",
   "metadata": {},
   "outputs": [
    {
     "name": "stdout",
     "output_type": "stream",
     "text": [
      "True\n"
     ]
    }
   ],
   "source": [
    "print(\"J\" not in mi_lista)"
   ]
  },
  {
   "cell_type": "code",
   "execution_count": 84,
   "id": "b97f445d-2fd8-4784-b9de-7469e43b3d9a",
   "metadata": {},
   "outputs": [
    {
     "name": "stdout",
     "output_type": "stream",
     "text": [
      "True\n"
     ]
    }
   ],
   "source": [
    "mi_cadena = \"Hola mundo\"\n",
    "\n",
    "print(\"Hola\" in mi_cadena)"
   ]
  },
  {
   "cell_type": "code",
   "execution_count": 85,
   "id": "a16f720b-64a5-4f08-b904-14ffc6a13ed0",
   "metadata": {},
   "outputs": [
    {
     "name": "stdout",
     "output_type": "stream",
     "text": [
      "False\n"
     ]
    }
   ],
   "source": [
    "print(\"Hola1\" in mi_cadena)"
   ]
  },
  {
   "cell_type": "code",
   "execution_count": 86,
   "id": "82d2ca83-8876-4890-bb5b-de47149c4dad",
   "metadata": {},
   "outputs": [
    {
     "name": "stdout",
     "output_type": "stream",
     "text": [
      "False\n"
     ]
    }
   ],
   "source": [
    "\n",
    "\n",
    "# Ojo con esta operacion para ver si el elmento que estoy preguntando esta en las CLAVES\n",
    "# Aqui comprueba las claves y no los valores.\n",
    "mi_dic = {\"H\": 1, \"J\": 2, \"R\": 3}\n",
    "\n",
    "print(1 in mi_dic)"
   ]
  },
  {
   "cell_type": "code",
   "execution_count": 87,
   "id": "c5e462ae-7d5a-4bb0-9ecc-9173b11f36e9",
   "metadata": {},
   "outputs": [
    {
     "name": "stdout",
     "output_type": "stream",
     "text": [
      "True\n"
     ]
    }
   ],
   "source": [
    "print(\"H\" in mi_dic)"
   ]
  },
  {
   "cell_type": "code",
   "execution_count": 88,
   "id": "873133d7-cd97-41bb-8980-af52a214d513",
   "metadata": {},
   "outputs": [],
   "source": [
    "# Ordenación de listas\n",
    "# Es importante esntender que aqui va el parametro de la clave\n",
    "# Aqui me deuelve la listo ordenada\n",
    "\n",
    "mi_lista = [1, 3, 2, -1, 10, 0]\n",
    "\n",
    "mi_lista.sort()"
   ]
  },
  {
   "cell_type": "code",
   "execution_count": 89,
   "id": "22a59ee9-fe45-446c-b208-846e49c1c958",
   "metadata": {},
   "outputs": [
    {
     "name": "stdout",
     "output_type": "stream",
     "text": [
      "[-1, 0, 1, 2, 3, 10]\n"
     ]
    }
   ],
   "source": [
    "print(mi_lista)"
   ]
  },
  {
   "cell_type": "code",
   "execution_count": 90,
   "id": "195a7c15-8e27-4d4c-a397-7c793d676945",
   "metadata": {},
   "outputs": [
    {
     "name": "stdout",
     "output_type": "stream",
     "text": [
      "[10, 3, 2, 1, 0, -1]\n"
     ]
    }
   ],
   "source": [
    "mi_lista = [1, 3, 2, -1, 10, 0]\n",
    "\n",
    "mi_lista.sort(reverse=True)\n",
    "print(mi_lista)"
   ]
  },
  {
   "cell_type": "code",
   "execution_count": 91,
   "id": "e3371972-859c-4d74-9ee3-572dce2d2784",
   "metadata": {},
   "outputs": [],
   "source": [
    "mi_lista = [1, 3, 2, -1, 10, 0]"
   ]
  },
  {
   "cell_type": "code",
   "execution_count": 92,
   "id": "834435ee-0ac7-4cc5-81aa-b69d10c4610a",
   "metadata": {},
   "outputs": [],
   "source": [
    "\n",
    "# Aqui me crea una nurva lista\n",
    "# La lista se pasa por parametro \n",
    "mi_lista_ordenada = sorted(mi_lista)"
   ]
  },
  {
   "cell_type": "code",
   "execution_count": 93,
   "id": "a701e7bf-a9db-4ad3-b36a-28b10cca4d57",
   "metadata": {},
   "outputs": [
    {
     "name": "stdout",
     "output_type": "stream",
     "text": [
      "[-1, 0, 1, 2, 3, 10]\n"
     ]
    }
   ],
   "source": [
    "print(mi_lista_ordenada)"
   ]
  },
  {
   "cell_type": "code",
   "execution_count": 94,
   "id": "1eb787c3-3dde-4964-887f-49fdfcb8705d",
   "metadata": {},
   "outputs": [
    {
     "name": "stdout",
     "output_type": "stream",
     "text": [
      "[1, 3, 2, -1, 10, 0]\n"
     ]
    }
   ],
   "source": [
    "print(mi_lista)"
   ]
  },
  {
   "cell_type": "code",
   "execution_count": 95,
   "id": "8be72afa-b271-45b9-a8a3-5247b0b61a6e",
   "metadata": {},
   "outputs": [
    {
     "name": "stdout",
     "output_type": "stream",
     "text": [
      "[0, 10, -1, 2, 3, 1]\n"
     ]
    }
   ],
   "source": [
    "mi_lista = [1, 3, 2, -1, 10, 0]\n",
    "\n",
    "# Porner lo del principio al final\n",
    "# Cambiar el orden \n",
    "mi_lista.reverse()\n",
    "\n",
    "print(mi_lista)"
   ]
  },
  {
   "cell_type": "code",
   "execution_count": null,
   "id": "b292439e-334f-4a3d-9831-2d7207e58b23",
   "metadata": {},
   "outputs": [],
   "source": []
  }
 ],
 "metadata": {
  "kernelspec": {
   "display_name": "Python 3 (ipykernel)",
   "language": "python",
   "name": "python3"
  },
  "language_info": {
   "codemirror_mode": {
    "name": "ipython",
    "version": 3
   },
   "file_extension": ".py",
   "mimetype": "text/x-python",
   "name": "python",
   "nbconvert_exporter": "python",
   "pygments_lexer": "ipython3",
   "version": "3.9.12"
  }
 },
 "nbformat": 4,
 "nbformat_minor": 5
}
