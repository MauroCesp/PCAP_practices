{
 "cells": [
  {
   "cell_type": "markdown",
   "id": "954e06d5-ad06-40ec-bdb3-b24477938273",
   "metadata": {},
   "source": [
    "# LECCIÓN 5"
   ]
  },
  {
   "cell_type": "code",
   "execution_count": 1,
   "id": "ce478756-17c9-4d4e-b329-690ae847efab",
   "metadata": {},
   "outputs": [],
   "source": [
    "# Clase\n",
    "\n",
    "class Magdalena:\n",
    "    pass\n",
    "    "
   ]
  },
  {
   "cell_type": "code",
   "execution_count": 2,
   "id": "21d6b029-0b52-4678-b308-e705ab5e867f",
   "metadata": {},
   "outputs": [],
   "source": [
    "mag1 = Magdalena()"
   ]
  },
  {
   "cell_type": "code",
   "execution_count": 3,
   "id": "6e32c407-a4c0-4eff-9993-70ea080628fa",
   "metadata": {},
   "outputs": [
    {
     "name": "stdout",
     "output_type": "stream",
     "text": [
      "<class '__main__.Magdalena'>\n"
     ]
    }
   ],
   "source": [
    "print(type(mag1))"
   ]
  },
  {
   "cell_type": "code",
   "execution_count": 4,
   "id": "f0778464-cbf5-487a-89fd-dd05fabff382",
   "metadata": {},
   "outputs": [],
   "source": [
    "# Creo un constructor para que la funcion haga algo cuando la llamo\n",
    "\n",
    "class Magdalena:\n",
    "    # EL rpimer objeto que se pasa en cada metodo es el objeto mismo.\n",
    "    def __init__(self):\n",
    "        print(\"Se ha creado la Magdalena\")\n",
    "        \n",
    "\n"
   ]
  },
  {
   "cell_type": "code",
   "execution_count": 5,
   "id": "6a963baf-9533-4112-84f0-f48d1e4381be",
   "metadata": {},
   "outputs": [
    {
     "name": "stdout",
     "output_type": "stream",
     "text": [
      "Se ha creado la Magdalena\n"
     ]
    }
   ],
   "source": [
    "\n",
    "# CUnado creo el objeto python internamete llama el init y hace el print\n",
    "mag1 = Magdalena()"
   ]
  },
  {
   "cell_type": "code",
   "execution_count": 6,
   "id": "727e3011-ac12-422f-a974-4d6db597573f",
   "metadata": {},
   "outputs": [
    {
     "name": "stdout",
     "output_type": "stream",
     "text": [
      "Se ha creado la Magdalena\n"
     ]
    },
    {
     "ename": "TypeError",
     "evalue": "__init__() should return None, not 'bool'",
     "output_type": "error",
     "traceback": [
      "\u001b[1;31m---------------------------------------------------------------------------\u001b[0m",
      "\u001b[1;31mTypeError\u001b[0m                                 Traceback (most recent call last)",
      "Input \u001b[1;32mIn [6]\u001b[0m, in \u001b[0;36m<cell line: 6>\u001b[1;34m()\u001b[0m\n\u001b[0;32m      3\u001b[0m         \u001b[38;5;28mprint\u001b[39m(\u001b[38;5;124m\"\u001b[39m\u001b[38;5;124mSe ha creado la Magdalena\u001b[39m\u001b[38;5;124m\"\u001b[39m)\n\u001b[0;32m      4\u001b[0m         \u001b[38;5;28;01mreturn\u001b[39;00m \u001b[38;5;28;01mTrue\u001b[39;00m\n\u001b[1;32m----> 6\u001b[0m mag1 \u001b[38;5;241m=\u001b[39m \u001b[43mMagdalena\u001b[49m\u001b[43m(\u001b[49m\u001b[43m)\u001b[49m\n",
      "\u001b[1;31mTypeError\u001b[0m: __init__() should return None, not 'bool'"
     ]
    }
   ],
   "source": [
    "class Magdalena:\n",
    "    def __init__(self):\n",
    "        print(\"Se ha creado la Magdalena\")\n",
    "        \n",
    "        # --------------> Si ponemos un retun en un constructor nos va a dar fallo  ------------------------------>OJO\n",
    "\n",
    "        return True\n",
    "\n",
    "mag1 = Magdalena()\n",
    "    "
   ]
  },
  {
   "cell_type": "code",
   "execution_count": 7,
   "id": "96bd5be0-b8ea-4856-98ce-f15c4cb0ce05",
   "metadata": {},
   "outputs": [
    {
     "name": "stdout",
     "output_type": "stream",
     "text": [
      "Se ha creado la Magdalena\n"
     ]
    }
   ],
   "source": [
    "\n",
    "# Si por alguna razon se tienen que usar solo puede regresara NONE\n",
    "\n",
    "class Magdalena:\n",
    "    def __init__(self):\n",
    "        print(\"Se ha creado la Magdalena\")\n",
    "        return None\n",
    "\n",
    "mag1 = Magdalena()"
   ]
  },
  {
   "cell_type": "code",
   "execution_count": 9,
   "id": "7483bfb5-a07c-4e93-9d3c-e665a795ade6",
   "metadata": {},
   "outputs": [],
   "source": [
    "\n",
    "# Los constructores suelen servir para crear los ATRIBUTOS de la clase.\n",
    "\n",
    "class Magdalena:\n",
    "    def __init__(self, peso, chocolate=False):\n",
    "        self.peso = peso\n",
    "        self.chocolate = chocolate\n",
    "        self.tiempo_horneado = 0\n",
    "\n",
    "mag1 = Magdalena(10)\n",
    "\n",
    "mag2 = Magdalena(5, True)"
   ]
  },
  {
   "cell_type": "code",
   "execution_count": 10,
   "id": "bbd0466e-03a7-48bb-b83c-40b9c02435f8",
   "metadata": {},
   "outputs": [
    {
     "name": "stdout",
     "output_type": "stream",
     "text": [
      "10\n",
      "False\n",
      "5\n",
      "True\n"
     ]
    }
   ],
   "source": [
    "# YO puede accedera a los atributos directamente lamando el objeto.\n",
    "\n",
    "print(mag1.peso)\n",
    "print(mag1.chocolate)\n",
    "print(mag2.peso)\n",
    "print(mag2.chocolate)"
   ]
  },
  {
   "cell_type": "code",
   "execution_count": 11,
   "id": "537bf277-50f4-413e-94df-c2a9cc3a9b3c",
   "metadata": {},
   "outputs": [],
   "source": [
    "# Cunado se usa __ son atributo escondidos\n",
    "# Se ENCAPSULA ------------------------------------------------------> SEMI PRIVADO\n",
    "# O que hace es renombrar el atributo y no se puede encontrar\n",
    "\n",
    "class Magdalena:\n",
    "    def __init__(self, peso, chocolate=False):\n",
    "        self.peso = peso\n",
    "        self.chocolate = chocolate\n",
    "        self.__tiempo_horneado = 0\n",
    "\n",
    "mag1 = Magdalena(10)\n",
    "\n",
    "mag2 = Magdalena(5, True)"
   ]
  },
  {
   "cell_type": "code",
   "execution_count": 12,
   "id": "182cd6d1-ca88-4146-9e49-235daeabd153",
   "metadata": {},
   "outputs": [
    {
     "ename": "AttributeError",
     "evalue": "'Magdalena' object has no attribute '__tiempo_horneado'",
     "output_type": "error",
     "traceback": [
      "\u001b[1;31m---------------------------------------------------------------------------\u001b[0m",
      "\u001b[1;31mAttributeError\u001b[0m                            Traceback (most recent call last)",
      "Input \u001b[1;32mIn [12]\u001b[0m, in \u001b[0;36m<cell line: 1>\u001b[1;34m()\u001b[0m\n\u001b[1;32m----> 1\u001b[0m \u001b[38;5;28mprint\u001b[39m(\u001b[43mmag1\u001b[49m\u001b[38;5;241;43m.\u001b[39;49m\u001b[43m__tiempo_horneado\u001b[49m)\n",
      "\u001b[1;31mAttributeError\u001b[0m: 'Magdalena' object has no attribute '__tiempo_horneado'"
     ]
    }
   ],
   "source": [
    "print(mag1.__tiempo_horneado)"
   ]
  },
  {
   "cell_type": "code",
   "execution_count": 13,
   "id": "564f0c67-41dd-4e4c-8da5-48ef737a2ea9",
   "metadata": {},
   "outputs": [
    {
     "name": "stdout",
     "output_type": "stream",
     "text": [
      "0\n"
     ]
    }
   ],
   "source": [
    "\n",
    "# Existe una forma de acceder -------------- NO UTILIZAR\n",
    "# Python los renombra y le pone un nuemro nombre y ya se puede acceder al valor.----------------------------------------> OJO\n",
    "# INcluso se puede renombrar\n",
    "print(mag1._Magdalena__tiempo_horneado)"
   ]
  },
  {
   "cell_type": "code",
   "execution_count": 14,
   "id": "da6bb578-78b9-4f35-b9cd-caf2081fbaf9",
   "metadata": {},
   "outputs": [
    {
     "name": "stdout",
     "output_type": "stream",
     "text": [
      "10\n"
     ]
    }
   ],
   "source": [
    "mag1._Magdalena__tiempo_horneado = 10\n",
    "print(mag1._Magdalena__tiempo_horneado)"
   ]
  },
  {
   "cell_type": "code",
   "execution_count": 15,
   "id": "3161d27a-67df-4f77-8a25-e59dc596633c",
   "metadata": {},
   "outputs": [],
   "source": [
    "class Magdalena:\n",
    "    def __init__(self, peso, chocolate=False):\n",
    "        self.peso = peso\n",
    "        self.chocolate = chocolate\n",
    "        self.__tiempo_horneado = 0\n",
    "        \n",
    "    def get_tiempo_horneado(self):\n",
    "        return self.__tiempo_horneado\n",
    "    \n",
    "    def hornear(self, tiempo=10):\n",
    "        self.__tiempo_horneado += tiempo\n",
    "        \n",
    "mag1 = Magdalena(4)"
   ]
  },
  {
   "cell_type": "code",
   "execution_count": 16,
   "id": "6660e1cf-c311-4908-9d32-e51931ff0111",
   "metadata": {},
   "outputs": [
    {
     "name": "stdout",
     "output_type": "stream",
     "text": [
      "0\n"
     ]
    }
   ],
   "source": [
    "print(mag1.get_tiempo_horneado())"
   ]
  },
  {
   "cell_type": "code",
   "execution_count": 17,
   "id": "02489b9b-779f-4f6e-8871-e778b5c39b16",
   "metadata": {},
   "outputs": [
    {
     "name": "stdout",
     "output_type": "stream",
     "text": [
      "35\n"
     ]
    }
   ],
   "source": [
    "mag1.hornear(30)\n",
    "mag1.hornear(5)\n",
    "print(mag1.get_tiempo_horneado())"
   ]
  },
  {
   "cell_type": "code",
   "execution_count": 18,
   "id": "7abff490-c09f-4ab4-854b-c5522c807510",
   "metadata": {},
   "outputs": [],
   "source": [
    "# Tambien puedo crear METODO SEMI ESCONDIDOS\n",
    "# SOlo se puede usar desde dentro de la clase y no de forma externa\n",
    "\n",
    "class Magdalena:\n",
    "    def __init__(self, peso, chocolate=False):\n",
    "        self.peso = peso\n",
    "        self.chocolate = chocolate\n",
    "        self.__tiempo_horneado = 0\n",
    "        \n",
    "    def get_tiempo_horneado(self):\n",
    "        return self.__tiempo_horneado\n",
    "    \n",
    "    def hornear(self, tiempo=10):\n",
    "        self.__tiempo_horneado += tiempo\n",
    "    \n",
    "    # SI le pongo lo guines delante no lo puedo llamara desde afuera ---------------------------> OJOJO\n",
    "    def __pintar(self, color):\n",
    "        print(\"Esta pintada\")\n",
    "        \n",
    "mag1 = Magdalena(4)"
   ]
  },
  {
   "cell_type": "code",
   "execution_count": 19,
   "id": "f1f97688-c138-4749-ac12-b0fa8fd2e59d",
   "metadata": {},
   "outputs": [
    {
     "ename": "AttributeError",
     "evalue": "'Magdalena' object has no attribute '__pintar'",
     "output_type": "error",
     "traceback": [
      "\u001b[1;31m---------------------------------------------------------------------------\u001b[0m",
      "\u001b[1;31mAttributeError\u001b[0m                            Traceback (most recent call last)",
      "Input \u001b[1;32mIn [19]\u001b[0m, in \u001b[0;36m<cell line: 1>\u001b[1;34m()\u001b[0m\n\u001b[1;32m----> 1\u001b[0m \u001b[43mmag1\u001b[49m\u001b[38;5;241;43m.\u001b[39;49m\u001b[43m__pintar\u001b[49m(\u001b[38;5;124m\"\u001b[39m\u001b[38;5;124mRosa\u001b[39m\u001b[38;5;124m\"\u001b[39m)\n",
      "\u001b[1;31mAttributeError\u001b[0m: 'Magdalena' object has no attribute '__pintar'"
     ]
    }
   ],
   "source": [
    "mag1.__pintar(\"Rosa\")"
   ]
  },
  {
   "cell_type": "code",
   "execution_count": 20,
   "id": "449d041e-31c8-4f03-81aa-a7c84d4a4287",
   "metadata": {},
   "outputs": [
    {
     "name": "stdout",
     "output_type": "stream",
     "text": [
      "Esta pintada\n"
     ]
    }
   ],
   "source": [
    "mag1._Magdalena__pintar(\"Rosa\")"
   ]
  },
  {
   "cell_type": "code",
   "execution_count": 21,
   "id": "128bf3bf-12bc-4755-9ef0-c6a381bfb9d0",
   "metadata": {},
   "outputs": [],
   "source": [
    "# Las modificaciones en las variables de instancia solo afectan el objeto en donde las modifico -----------------> IMPORTANTE\n",
    "# Las de intancia esta directamente relacionadas con el OBJETO\n",
    "class Magdalena:\n",
    "    def __init__(self, peso, chocolate=False):\n",
    "        self.peso = peso\n",
    "        self.chocolate = chocolate\n",
    "        self.__tiempo_horneado = 0\n",
    "        \n",
    "mag1 = Magdalena(10, True)\n",
    "mag2 = Magdalena(5, True)"
   ]
  },
  {
   "cell_type": "code",
   "execution_count": 22,
   "id": "d8dcc797-6a88-46ff-97f3-a929369d8474",
   "metadata": {},
   "outputs": [
    {
     "name": "stdout",
     "output_type": "stream",
     "text": [
      "MAG1: 20\n",
      "MAG2: 5\n"
     ]
    }
   ],
   "source": [
    "\n",
    "# Aqui solo modifico un objeto y no los dos.\n",
    "mag1.peso = 20\n",
    "\n",
    "print(\"MAG1:\", mag1.peso)\n",
    "print(\"MAG2:\", mag2.peso)"
   ]
  },
  {
   "cell_type": "code",
   "execution_count": 23,
   "id": "590c5bda-36b5-4b35-9c0c-d1afefa3ae9f",
   "metadata": {},
   "outputs": [],
   "source": [
    "class Magdalena:\n",
    "    def __init__(self, peso, chocolate=False):\n",
    "        self.peso = peso\n",
    "        self.chocolate = chocolate\n",
    "        self.__tiempo_horneado = 0\n",
    "        \n",
    "    def crear_variable(self, valor):\n",
    "        self.nueva_variable = valor\n",
    "        \n",
    "mag1 = Magdalena(10, True)\n",
    "mag2 = Magdalena(5, True)"
   ]
  },
  {
   "cell_type": "code",
   "execution_count": 24,
   "id": "bab38c05-4e0a-4490-9b63-77e99bb00a3a",
   "metadata": {},
   "outputs": [
    {
     "name": "stdout",
     "output_type": "stream",
     "text": [
      "{'peso': 10, 'chocolate': True, '_Magdalena__tiempo_horneado': 0}\n"
     ]
    }
   ],
   "source": [
    "print(mag1.__dict__)"
   ]
  },
  {
   "cell_type": "code",
   "execution_count": 25,
   "id": "6cb85643-cdbd-4485-a99a-309ba1c4ed9b",
   "metadata": {},
   "outputs": [
    {
     "name": "stdout",
     "output_type": "stream",
     "text": [
      "{'peso': 5, 'chocolate': True, '_Magdalena__tiempo_horneado': 0}\n"
     ]
    }
   ],
   "source": [
    "print(mag2.__dict__)"
   ]
  },
  {
   "cell_type": "code",
   "execution_count": 27,
   "id": "5810f9ee-e6fe-43e1-a4e5-8fb995ab9fdf",
   "metadata": {},
   "outputs": [],
   "source": [
    "mag1.crear_variable(90)"
   ]
  },
  {
   "cell_type": "code",
   "execution_count": 28,
   "id": "126358cb-54ca-4019-8b31-fa0a3cfd9314",
   "metadata": {},
   "outputs": [
    {
     "name": "stdout",
     "output_type": "stream",
     "text": [
      "{'peso': 10, 'chocolate': True, '_Magdalena__tiempo_horneado': 0, 'nueva_variable': 90}\n"
     ]
    }
   ],
   "source": [
    "print(mag1.__dict__)"
   ]
  },
  {
   "cell_type": "code",
   "execution_count": 29,
   "id": "66bd84d3-27f3-4da4-a84a-2ff701b9a2ec",
   "metadata": {},
   "outputs": [
    {
     "name": "stdout",
     "output_type": "stream",
     "text": [
      "{'peso': 5, 'chocolate': True, '_Magdalena__tiempo_horneado': 0}\n"
     ]
    }
   ],
   "source": [
    "print(mag2.__dict__)"
   ]
  },
  {
   "cell_type": "code",
   "execution_count": 30,
   "id": "a9e0850c-633b-49fc-8d4d-69256f6301aa",
   "metadata": {},
   "outputs": [],
   "source": [
    "mag1.otra_variable = \"Hola\""
   ]
  },
  {
   "cell_type": "code",
   "execution_count": 31,
   "id": "f0899f31-f185-4f9e-b42f-84d3494adfe4",
   "metadata": {},
   "outputs": [
    {
     "name": "stdout",
     "output_type": "stream",
     "text": [
      "{'peso': 10, 'chocolate': True, '_Magdalena__tiempo_horneado': 0, 'nueva_variable': 90, 'otra_variable': 'Hola'}\n"
     ]
    }
   ],
   "source": [
    "print(mag1.__dict__)"
   ]
  },
  {
   "cell_type": "code",
   "execution_count": 32,
   "id": "ddd1b464-8452-4d8d-bc98-678058e20159",
   "metadata": {},
   "outputs": [
    {
     "name": "stdout",
     "output_type": "stream",
     "text": [
      "{'peso': 5, 'chocolate': True, '_Magdalena__tiempo_horneado': 0}\n"
     ]
    }
   ],
   "source": [
    "print(mag2.__dict__)"
   ]
  },
  {
   "cell_type": "code",
   "execution_count": 33,
   "id": "cff711b0-90aa-469e-898b-20fe5ebb4884",
   "metadata": {},
   "outputs": [
    {
     "name": "stdout",
     "output_type": "stream",
     "text": [
      "{'__module__': '__main__', '__init__': <function Magdalena.__init__ at 0x00000202BF820790>, 'crear_variable': <function Magdalena.crear_variable at 0x00000202BFD9EB80>, '__dict__': <attribute '__dict__' of 'Magdalena' objects>, '__weakref__': <attribute '__weakref__' of 'Magdalena' objects>, '__doc__': None}\n"
     ]
    }
   ],
   "source": [
    "# Cuando accedo al DICT de la clase directamente las variables de instancia no me aparecen ------------------------> OJO\n",
    "print(Magdalena.__dict__)"
   ]
  },
  {
   "cell_type": "code",
   "execution_count": null,
   "id": "c38fbfb6-555f-4e7e-83d1-e33d22700859",
   "metadata": {},
   "outputs": [],
   "source": [
    "\n",
    "################################################################\n",
    "#                   Variables de clase\n",
    "################################################################\n",
    "\n",
    "# Se aplica todos loss objeos de la clase\n",
    "# Se necesitan definir antes del contructor --------------------------------------------------------------------> OJO\n",
    "\n",
    "\n",
    "class Magdalena:\n",
    "    \n",
    "    contador = 0\n",
    "    def __init__(self, peso, chocolate=False):\n",
    "        self.peso = peso\n",
    "        self.chocolate = chocolate\n",
    "        self.__tiempo_horneado = 0\n",
    "        \n",
    "        # Para llamar variables de clase indico el nombre de la clase ----------------------------- CLASE\n",
    "        # Cunado llamo desde el selfson variables de instancia ------------------------------------  INSTANCIA\n",
    "        Magdalena.contador += 1"
   ]
  },
  {
   "cell_type": "code",
   "execution_count": 35,
   "id": "f5964204-55a3-406e-9216-a57075953824",
   "metadata": {},
   "outputs": [
    {
     "name": "stdout",
     "output_type": "stream",
     "text": [
      "{'__module__': '__main__', 'contador': 0, '__init__': <function Magdalena.__init__ at 0x00000202BFD9EEE0>, '__dict__': <attribute '__dict__' of 'Magdalena' objects>, '__weakref__': <attribute '__weakref__' of 'Magdalena' objects>, '__doc__': None}\n"
     ]
    }
   ],
   "source": [
    "# SI hago un dict de la clase SI me aparece la variable de clase -------------------------> OJO\n",
    "\n",
    "print(Magdalena.__dict__)"
   ]
  },
  {
   "cell_type": "code",
   "execution_count": 36,
   "id": "214da095-30eb-4da7-8a2e-5fc7fb75df20",
   "metadata": {},
   "outputs": [
    {
     "name": "stdout",
     "output_type": "stream",
     "text": [
      "1\n"
     ]
    }
   ],
   "source": [
    "mag1 = Magdalena(20)\n",
    "\n",
    "print(mag1.contador)"
   ]
  },
  {
   "cell_type": "code",
   "execution_count": 37,
   "id": "085f6792-2883-4307-bf4a-d2a4d1b9b7d1",
   "metadata": {},
   "outputs": [
    {
     "name": "stdout",
     "output_type": "stream",
     "text": [
      "2\n"
     ]
    }
   ],
   "source": [
    "mag2 = Magdalena(20)\n",
    "\n",
    "print(mag2.contador)"
   ]
  },
  {
   "cell_type": "code",
   "execution_count": 38,
   "id": "ca6cc2c8-976d-4465-a5b3-9251743a20b9",
   "metadata": {},
   "outputs": [
    {
     "name": "stdout",
     "output_type": "stream",
     "text": [
      "2\n"
     ]
    }
   ],
   "source": [
    "print(mag1.contador)"
   ]
  },
  {
   "cell_type": "code",
   "execution_count": 39,
   "id": "b30b4005-0135-4137-986d-2412467ddcd5",
   "metadata": {},
   "outputs": [
    {
     "name": "stdout",
     "output_type": "stream",
     "text": [
      "{'peso': 20, 'chocolate': False, '_Magdalena__tiempo_horneado': 0}\n"
     ]
    }
   ],
   "source": [
    "print(mag1.__dict__)"
   ]
  },
  {
   "cell_type": "code",
   "execution_count": 40,
   "id": "8cc913a7-1678-4673-9b7e-f3799c348914",
   "metadata": {},
   "outputs": [],
   "source": [
    "\n",
    "# Si modifico unavariable de clase se modifica en todos los objetos. --------------------------->  OJO\n",
    "Magdalena.contador = 100\n"
   ]
  },
  {
   "cell_type": "code",
   "execution_count": 41,
   "id": "62bebddb-9e62-4a50-98c2-d671e404954b",
   "metadata": {},
   "outputs": [
    {
     "name": "stdout",
     "output_type": "stream",
     "text": [
      "100\n",
      "100\n"
     ]
    }
   ],
   "source": [
    "print(mag1.contador)\n",
    "print(mag2.contador)"
   ]
  },
  {
   "cell_type": "code",
   "execution_count": 45,
   "id": "854f689a-7465-4c7b-87cf-3e10373f5985",
   "metadata": {},
   "outputs": [],
   "source": [
    "################################################################\n",
    "#                   HERENCIA SIMPLE\n",
    "################################################################\n",
    "\n",
    "\n",
    "\n",
    "class Magdalena:\n",
    "    contador = 0\n",
    "    def __init__(self, peso):\n",
    "        self.peso = peso\n",
    "        self.__tiempo_horneado = 0\n",
    "        Magdalena.contador += 1\n",
    "        \n",
    "    def hornear(self, tiempo):\n",
    "        print(\"HORNEAR\")\n",
    "\n",
    "\n",
    "# Esta es una subclase de la clase Magdalena porque es una especilizacion\n",
    "# Le infico el nombre de la clase padre\n",
    "class MagdalenaChocolateNegro(Magdalena):\n",
    "    \n",
    "    def __init__(self):\n",
    "        pass\n",
    "\n",
    "mag_choco = MagdalenaChocolateNegro()"
   ]
  },
  {
   "cell_type": "code",
   "execution_count": 44,
   "id": "83926424-2089-488b-8afc-38e8dd68f11a",
   "metadata": {},
   "outputs": [
    {
     "name": "stdout",
     "output_type": "stream",
     "text": [
      "0\n"
     ]
    }
   ],
   "source": [
    "print(mag_choco.contador)"
   ]
  },
  {
   "cell_type": "code",
   "execution_count": 47,
   "id": "bde4e0a7-741e-4746-ad7f-7426fa16ed1a",
   "metadata": {},
   "outputs": [
    {
     "name": "stdout",
     "output_type": "stream",
     "text": [
      "HORNEAR\n"
     ]
    }
   ],
   "source": [
    "#Puedo llamar los objetos de mi clase padre o los metodos\n",
    "\n",
    "mag_choco.hornear(10)"
   ]
  },
  {
   "cell_type": "code",
   "execution_count": 48,
   "id": "75aaf4ad-c702-481b-8812-f1c1340ac64b",
   "metadata": {},
   "outputs": [
    {
     "ename": "AttributeError",
     "evalue": "'MagdalenaChocolateNegro' object has no attribute 'peso'",
     "output_type": "error",
     "traceback": [
      "\u001b[1;31m---------------------------------------------------------------------------\u001b[0m",
      "\u001b[1;31mAttributeError\u001b[0m                            Traceback (most recent call last)",
      "Input \u001b[1;32mIn [48]\u001b[0m, in \u001b[0;36m<cell line: 1>\u001b[1;34m()\u001b[0m\n\u001b[1;32m----> 1\u001b[0m \u001b[38;5;28mprint\u001b[39m(\u001b[43mmag_choco\u001b[49m\u001b[38;5;241;43m.\u001b[39;49m\u001b[43mpeso\u001b[49m)\n",
      "\u001b[1;31mAttributeError\u001b[0m: 'MagdalenaChocolateNegro' object has no attribute 'peso'"
     ]
    }
   ],
   "source": [
    "# Pero si intento acceder a los atributos porque no he especidficado que se ejecute el constructor de la calse padre\n",
    "# Las variables de instancia an no se han creado.4\n",
    "# Tengo que indicar que quiero que se ejecute el contructor padre \n",
    "\n",
    "print(mag_choco.peso)"
   ]
  },
  {
   "cell_type": "code",
   "execution_count": 53,
   "id": "f49b441a-ecd1-4f49-9066-081057950d21",
   "metadata": {},
   "outputs": [],
   "source": [
    "class Magdalena:\n",
    "    contador = 0\n",
    "    def __init__(self, peso):\n",
    "        self.peso = peso\n",
    "        self.__tiempo_horneado = 0\n",
    "        Magdalena.contador += 1\n",
    "        \n",
    "    def hornear(self, tiempo):\n",
    "        print(\"HORNEAR\")\n",
    "        \n",
    "class MagdalenaChocolateNegro(Magdalena):\n",
    "    \n",
    "    def __init__(self, peso=10):\n",
    "        \n",
    "        # Me ayuda a inicializar el constructor de la clase padre. ------------------------------> OJO\n",
    "        # Le paso el peso para que pueda inicializar el constructor de arriba\n",
    "        super().__init__(peso)\n",
    "        self.chocolate = True\n",
    "\n",
    "mag_choco = MagdalenaChocolateNegro()"
   ]
  },
  {
   "cell_type": "code",
   "execution_count": 50,
   "id": "cd2b0976-f61c-442a-89c9-59a7837d9405",
   "metadata": {},
   "outputs": [
    {
     "name": "stdout",
     "output_type": "stream",
     "text": [
      "10\n"
     ]
    }
   ],
   "source": [
    "print(mag_choco.peso)"
   ]
  },
  {
   "cell_type": "code",
   "execution_count": 52,
   "id": "c54de1a1-6444-4dd8-b434-772cb929cd8d",
   "metadata": {},
   "outputs": [
    {
     "name": "stdout",
     "output_type": "stream",
     "text": [
      "True\n"
     ]
    }
   ],
   "source": [
    "print(mag_choco.chocolate)"
   ]
  },
  {
   "cell_type": "code",
   "execution_count": 54,
   "id": "d033333a-3797-4441-a074-ddd9e3b38dcc",
   "metadata": {},
   "outputs": [],
   "source": [
    "class Magdalena:\n",
    "    contador = 0\n",
    "    def __init__(self, peso):\n",
    "        self.peso = peso\n",
    "        self.__tiempo_horneado = 0\n",
    "        Magdalena.contador += 1\n",
    "        \n",
    "    def hornear(self, tiempo):\n",
    "        print(\"HORNEAR\")\n",
    "        \n",
    "class MagdalenaChocolateNegro(Magdalena):\n",
    "    \n",
    "    def __init__(self, peso=10):\n",
    "        # Esta es la segunda forma de inicializar el constructor de la clase padre\n",
    "        # La diferencia con la clase anterior tengo que Llamar directamente el nombre de la clase\n",
    "        # Y tambien tengo que llamar SELF ------------------------------------------------------------> OJO\n",
    "        Magdalena.__init__(self, peso)\n",
    "        self.chocolate = True\n",
    "\n",
    "mag_choco = MagdalenaChocolateNegro()"
   ]
  },
  {
   "cell_type": "code",
   "execution_count": 55,
   "id": "421750c5-0661-4331-bbd7-f18bc1c5cdd7",
   "metadata": {},
   "outputs": [
    {
     "name": "stdout",
     "output_type": "stream",
     "text": [
      "10\n"
     ]
    }
   ],
   "source": [
    "print(mag_choco.peso)"
   ]
  },
  {
   "cell_type": "code",
   "execution_count": 57,
   "id": "9276cc0e-9861-435c-8f20-696b8ad8401d",
   "metadata": {},
   "outputs": [],
   "source": [
    "################################################################\n",
    "#                   HERENCIA CONFLICTOS\n",
    "################################################################\n",
    "\n",
    "# COnflictos cunado varios metodos tienen el mismo nombre\n",
    "# Ejecuta el de la clase que estoy llamado directamente\n",
    "\n",
    "# SI no lo tengo definido en mi calse hija va a buscar de forma ASCENDENTE va a ir subiendo buscando el metodo -------------------------- > OJO\n",
    "class Magdalena:\n",
    "    contador = 0\n",
    "    def __init__(self, peso):\n",
    "        self.peso = peso\n",
    "        self.__tiempo_horneado = 0\n",
    "        Magdalena.contador += 1\n",
    "        \n",
    "    def hornear(self, tiempo):\n",
    "        print(\"HORNEAR MADRE\")\n",
    "        \n",
    "class MagdalenaChocolateNegro(Magdalena):\n",
    "    \n",
    "    def __init__(self, peso=10):\n",
    "        Magdalena.__init__(self, peso)\n",
    "        self.chocolate = True\n",
    "        \n",
    "    def hornear(self, tiempo):\n",
    "        print(\"HORNEAR HIJA\")\n",
    "\n",
    "mag_choco = MagdalenaChocolateNegro()"
   ]
  },
  {
   "cell_type": "code",
   "execution_count": 58,
   "id": "518c2e3a-e085-44ad-a467-1bac669f7fc5",
   "metadata": {},
   "outputs": [
    {
     "name": "stdout",
     "output_type": "stream",
     "text": [
      "HORNEAR HIJA\n"
     ]
    }
   ],
   "source": [
    "mag_choco.hornear(10)"
   ]
  },
  {
   "cell_type": "code",
   "execution_count": 59,
   "id": "1b95e079-ad2d-4b75-9736-24aa65fd1d38",
   "metadata": {},
   "outputs": [],
   "source": [
    "\n",
    "# SImepre busca objeto del metodo\n",
    "# Despues va a buscar en la superclase\n",
    "# Y asi sucesivamente\n",
    "class Reposteria:\n",
    "    \n",
    "    def hornear(self, tiempo):\n",
    "        print(\"HORNEAR ABUELA\")\n",
    "\n",
    "class Magdalena(Reposteria):\n",
    "    contador = 0\n",
    "    def __init__(self, peso):\n",
    "        self.peso = peso\n",
    "        self.__tiempo_horneado = 0\n",
    "        Magdalena.contador += 1\n",
    "        \n",
    "    def hornear(self, tiempo):\n",
    "        print(\"HORNEAR MADRE\")\n",
    "        \n",
    "class MagdalenaChocolateNegro(Magdalena):\n",
    "    \n",
    "    def __init__(self, peso=10):\n",
    "        Magdalena.__init__(self, peso)\n",
    "        self.chocolate = True\n",
    "\n",
    "mag_choco = MagdalenaChocolateNegro()"
   ]
  },
  {
   "cell_type": "code",
   "execution_count": 61,
   "id": "b310d30e-9095-4bbf-836e-65f1707aa51d",
   "metadata": {},
   "outputs": [
    {
     "name": "stdout",
     "output_type": "stream",
     "text": [
      "HORNEAR MADRE\n"
     ]
    }
   ],
   "source": [
    "mag_choco.hornear(10)"
   ]
  },
  {
   "cell_type": "code",
   "execution_count": 62,
   "id": "394b5e42-887d-4b78-8b8c-55edd6200f52",
   "metadata": {},
   "outputs": [
    {
     "ename": "AttributeError",
     "evalue": "'MagdalenaChocolateNegro' object has no attribute 'pintar'",
     "output_type": "error",
     "traceback": [
      "\u001b[1;31m---------------------------------------------------------------------------\u001b[0m",
      "\u001b[1;31mAttributeError\u001b[0m                            Traceback (most recent call last)",
      "Input \u001b[1;32mIn [62]\u001b[0m, in \u001b[0;36m<cell line: 1>\u001b[1;34m()\u001b[0m\n\u001b[1;32m----> 1\u001b[0m \u001b[43mmag_choco\u001b[49m\u001b[38;5;241;43m.\u001b[39;49m\u001b[43mpintar\u001b[49m(\u001b[38;5;241m10\u001b[39m)\n",
      "\u001b[1;31mAttributeError\u001b[0m: 'MagdalenaChocolateNegro' object has no attribute 'pintar'"
     ]
    }
   ],
   "source": [
    "mag_choco.pintar(10)"
   ]
  },
  {
   "cell_type": "code",
   "execution_count": 66,
   "id": "ad144aa9-5e8e-49a3-8b3e-411ac1737e01",
   "metadata": {},
   "outputs": [],
   "source": [
    "################################################################\n",
    "#                   HERENCIA MULTIPLE\n",
    "################################################################\n",
    "# Python permite esto lo que otros lenguajes no lo permiten\n",
    "# EL Orden es MUY IMPORTANTE\n",
    "#\n",
    "\n",
    "class Estudiante:\n",
    "    \n",
    "    contadorEstudiantes = 0\n",
    "    \n",
    "    def __init__(self, universidad):\n",
    "        self.universidad = universidad\n",
    "        Estudiante.contadorEstudiantes += 1\n",
    "        \n",
    "    def estudiar(self):\n",
    "        print(\"ESTUDIANDO\")\n",
    "        \n",
    "class Trabajador:\n",
    "    \n",
    "    contadorTrabajadores = 0\n",
    "    \n",
    "    def __init__(self, empresa):\n",
    "        self.empresa = empresa\n",
    "        Trabajador.contadorTrabajadores += 1 \n",
    "        \n",
    "class EstudianteMasterPython(Estudiante, Trabajador):\n",
    "    \n",
    "    def __init__(self, universidad, empresa, edicion):\n",
    "        self.edicion = edicion"
   ]
  },
  {
   "cell_type": "code",
   "execution_count": 67,
   "id": "53214ab1-5db1-44f4-9410-17f6fe7158b4",
   "metadata": {},
   "outputs": [],
   "source": [
    "alumno = EstudianteMasterPython(\"EIP\", \"NASA\", \"6\")"
   ]
  },
  {
   "cell_type": "code",
   "execution_count": 65,
   "id": "c68e8520-191b-4bff-b7bb-d98f85066edb",
   "metadata": {},
   "outputs": [
    {
     "name": "stdout",
     "output_type": "stream",
     "text": [
      "<class '__main__.EstudianteMasterPython'>\n"
     ]
    }
   ],
   "source": [
    "print(type(alumno))"
   ]
  },
  {
   "cell_type": "code",
   "execution_count": 68,
   "id": "dce473da-96c1-4b0b-9c02-00d2cfb9ac0a",
   "metadata": {},
   "outputs": [
    {
     "name": "stdout",
     "output_type": "stream",
     "text": [
      "ESTUDIANDO\n"
     ]
    }
   ],
   "source": [
    "alumno.estudiar()"
   ]
  },
  {
   "cell_type": "code",
   "execution_count": 70,
   "id": "2a5317c5-c267-4f19-907f-d647d944afd5",
   "metadata": {},
   "outputs": [
    {
     "data": {
      "text/plain": [
       "0"
      ]
     },
     "execution_count": 70,
     "metadata": {},
     "output_type": "execute_result"
    }
   ],
   "source": [
    "alumno.contadorTrabajadores"
   ]
  },
  {
   "cell_type": "code",
   "execution_count": 71,
   "id": "ec0f8a56-1e6b-4dc0-8826-f2d197dfbf6d",
   "metadata": {},
   "outputs": [],
   "source": [
    "class Estudiante:\n",
    "    \n",
    "    contadorEstudiantes = 0\n",
    "    \n",
    "    def __init__(self, universidad):\n",
    "        self.universidad = universidad\n",
    "        Estudiante.contadorEstudiantes += 1\n",
    "        \n",
    "    def estudiar(self):\n",
    "        print(\"ESTUDIANDO\")\n",
    "        \n",
    "class Trabajador:\n",
    "    \n",
    "    contadorTrabajadores = 0\n",
    "    \n",
    "    def __init__(self, empresa):\n",
    "        self.empresa = empresa\n",
    "        Trabajador.contadorTrabajadores += 1 \n",
    "        \n",
    "class EstudianteMasterPython(Estudiante, Trabajador):\n",
    "    \n",
    "    def __init__(self, universidad, empresa, edicion):\n",
    "        Estudiante.__init__(self, universidad)\n",
    "        Trabajador.__init__(self, empresa)\n",
    "        self.edicion = edicion"
   ]
  },
  {
   "cell_type": "code",
   "execution_count": 72,
   "id": "fde6fa6f-7a70-4345-971c-7e9bab706bd5",
   "metadata": {},
   "outputs": [],
   "source": [
    "alumno = EstudianteMasterPython(\"EIP\", \"NASA\", \"6\")"
   ]
  },
  {
   "cell_type": "code",
   "execution_count": 73,
   "id": "09635298-171c-4669-b6f4-18176fbe2fcb",
   "metadata": {},
   "outputs": [
    {
     "data": {
      "text/plain": [
       "1"
      ]
     },
     "execution_count": 73,
     "metadata": {},
     "output_type": "execute_result"
    }
   ],
   "source": [
    "alumno.contadorTrabajadores"
   ]
  },
  {
   "cell_type": "code",
   "execution_count": 74,
   "id": "daca841c-6717-4929-ae3e-7d87268aae9c",
   "metadata": {},
   "outputs": [
    {
     "name": "stdout",
     "output_type": "stream",
     "text": [
      "NASA\n"
     ]
    }
   ],
   "source": [
    "print(alumno.empresa)"
   ]
  },
  {
   "cell_type": "code",
   "execution_count": 75,
   "id": "1a69e545-7e2c-4bac-94ec-594937b30c27",
   "metadata": {},
   "outputs": [
    {
     "name": "stdout",
     "output_type": "stream",
     "text": [
      "True\n",
      "True\n"
     ]
    }
   ],
   "source": [
    "# SUBCLASS\n",
    "# Esto me devuelve si una clase hereda de otra clase\n",
    "# Es booleano\n",
    "# Es una subclase porque hereda de la otra _________________________> OJO\n",
    "\n",
    "print(issubclass(EstudianteMasterPython, Trabajador))\n",
    "print(issubclass(EstudianteMasterPython, Estudiante))"
   ]
  },
  {
   "cell_type": "code",
   "execution_count": 76,
   "id": "a92c3c63-2372-4aae-83e1-e644625a113c",
   "metadata": {},
   "outputs": [],
   "source": [
    "class Persona:\n",
    "\n",
    "    def mostrar(self):\n",
    "        print(\"PERSONA\")\n",
    "    \n",
    "class Estudiante(Persona):\n",
    "    \n",
    "    contadorEstudiantes = 0\n",
    "    \n",
    "    def __init__(self, universidad):\n",
    "        self.universidad = universidad\n",
    "        Estudiante.contadorEstudiantes += 1\n",
    "        \n",
    "    def mostrar(self):\n",
    "        print(\"ESTUDIANTE\")\n",
    "        \n",
    "class Trabajador:\n",
    "    \n",
    "    contadorTrabajadores = 0\n",
    "    \n",
    "    def __init__(self, empresa):\n",
    "        self.empresa = empresa\n",
    "        Trabajador.contadorTrabajadores += 1 \n",
    "        \n",
    "    def mostrar(self):\n",
    "        print(\"TRABAJADOR\")\n",
    "        \n",
    "class EstudianteMasterPython(Estudiante, Trabajador):\n",
    "    \n",
    "    def __init__(self, universidad, empresa, edicion):\n",
    "        Estudiante.__init__(self, universidad)\n",
    "        Trabajador.__init__(self, empresa)\n",
    "        self.edicion = edicion\n",
    "        \n",
    "    def mostrar(self):\n",
    "        print(\"ESTUDIANTE_MASTER\")"
   ]
  },
  {
   "cell_type": "code",
   "execution_count": 77,
   "id": "25a4351b-de5c-432e-8266-0f627e815349",
   "metadata": {},
   "outputs": [],
   "source": [
    "alumno = EstudianteMasterPython(\"EIP\", \"NASA\", \"6\")"
   ]
  },
  {
   "cell_type": "code",
   "execution_count": 78,
   "id": "9e2efcbb-98c2-4b85-911f-86277d144ecd",
   "metadata": {},
   "outputs": [
    {
     "name": "stdout",
     "output_type": "stream",
     "text": [
      "ESTUDIANTE_MASTER\n"
     ]
    }
   ],
   "source": [
    "alumno.mostrar()"
   ]
  },
  {
   "cell_type": "code",
   "execution_count": null,
   "id": "919cc1cd-018e-4435-9516-a5976d393a16",
   "metadata": {},
   "outputs": [],
   "source": [
    "\n",
    "############### COMFLICTOS MULTIPLCASE\n",
    "# Si los metodos tienen el mismo nombre en varias clase\n",
    "# Si estamos al mismo nivel podemos llamar al de la CLASE MAS A LA IZQUIERDA\n",
    "# D eizquierda a derecah\n",
    "# Hay que mirar si las clases padre lo tienen \n",
    "class Persona:\n",
    "\n",
    "    def mostrar(self):\n",
    "        print(\"PERSONA\")\n",
    "    \n",
    "class Estudiante(Persona):\n",
    "    \n",
    "    contadorEstudiantes = 0\n",
    "    \n",
    "    def __init__(self, universidad):\n",
    "        self.universidad = universidad\n",
    "        Estudiante.contadorEstudiantes += 1\n",
    "        \n",
    "    def mostrar(self):\n",
    "        print(\"ESTUDIANTE\")\n",
    "        \n",
    "class Trabajador:\n",
    "    \n",
    "    contadorTrabajadores = 0\n",
    "    \n",
    "    def __init__(self, empresa):\n",
    "        self.empresa = empresa\n",
    "        Trabajador.contadorTrabajadores += 1 \n",
    "        \n",
    "    def mostrar(self):\n",
    "        print(\"TRABAJADOR\")\n",
    "        \n",
    "class EstudianteMasterPython(Estudiante, Trabajador):\n",
    "    \n",
    "    def __init__(self, universidad, empresa, edicion):\n",
    "        Estudiante.__init__(self, universidad)\n",
    "        Trabajador.__init__(self, empresa)\n",
    "        self.edicion = edicion\n"
   ]
  },
  {
   "cell_type": "code",
   "execution_count": 80,
   "id": "9f4ff37f-6c00-4517-8681-78f4a9d17ee6",
   "metadata": {},
   "outputs": [],
   "source": [
    "alumno = EstudianteMasterPython(\"EIP\", \"NASA\", \"6\")"
   ]
  },
  {
   "cell_type": "code",
   "execution_count": 81,
   "id": "8d7342b2-1125-466c-99e3-28d3a9b72bf5",
   "metadata": {},
   "outputs": [
    {
     "name": "stdout",
     "output_type": "stream",
     "text": [
      "ESTUDIANTE\n"
     ]
    }
   ],
   "source": [
    "alumno.mostrar()"
   ]
  },
  {
   "cell_type": "code",
   "execution_count": 82,
   "id": "183f742f-204e-4eaf-96d8-46c7cd4d8722",
   "metadata": {},
   "outputs": [],
   "source": [
    "class Persona:\n",
    "\n",
    "    def mostrar(self):\n",
    "        print(\"PERSONA\")\n",
    "    \n",
    "class Estudiante(Persona):\n",
    "    \n",
    "    contadorEstudiantes = 0\n",
    "    \n",
    "    def __init__(self, universidad):\n",
    "        self.universidad = universidad\n",
    "        Estudiante.contadorEstudiantes += 1\n",
    "        \n",
    "class Trabajador:\n",
    "    \n",
    "    contadorTrabajadores = 0\n",
    "    \n",
    "    def __init__(self, empresa):\n",
    "        self.empresa = empresa\n",
    "        Trabajador.contadorTrabajadores += 1 \n",
    "        \n",
    "    def mostrar(self):\n",
    "        print(\"TRABAJADOR\")\n",
    "        \n",
    "class EstudianteMasterPython(Estudiante, Trabajador):\n",
    "    \n",
    "    def __init__(self, universidad, empresa, edicion):\n",
    "        Estudiante.__init__(self, universidad)\n",
    "        Trabajador.__init__(self, empresa)\n",
    "        self.edicion = edicion"
   ]
  },
  {
   "cell_type": "code",
   "execution_count": 83,
   "id": "4fa0f0da-147a-40ae-85d9-c057fc1aacfb",
   "metadata": {},
   "outputs": [
    {
     "name": "stdout",
     "output_type": "stream",
     "text": [
      "PERSONA\n"
     ]
    }
   ],
   "source": [
    "alumno = EstudianteMasterPython(\"EIP\", \"NASA\", \"6\")\n",
    "alumno.mostrar()"
   ]
  },
  {
   "cell_type": "code",
   "execution_count": null,
   "id": "dd613458-45cb-40d2-8ba3-f83a1c401bdf",
   "metadata": {},
   "outputs": [],
   "source": []
  }
 ],
 "metadata": {
  "kernelspec": {
   "display_name": "Python 3 (ipykernel)",
   "language": "python",
   "name": "python3"
  },
  "language_info": {
   "codemirror_mode": {
    "name": "ipython",
    "version": 3
   },
   "file_extension": ".py",
   "mimetype": "text/x-python",
   "name": "python",
   "nbconvert_exporter": "python",
   "pygments_lexer": "ipython3",
   "version": "3.9.12"
  }
 },
 "nbformat": 4,
 "nbformat_minor": 5
}
