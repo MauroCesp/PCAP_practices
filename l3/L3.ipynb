{
 "cells": [
  {
   "cell_type": "markdown",
   "id": "0bf0f326-2033-420e-bcca-82465afc7ccd",
   "metadata": {},
   "source": [
    "# Lección 3"
   ]
  },
  {
   "cell_type": "code",
   "execution_count": 1,
   "id": "afe0b990-4f49-4ab7-b94a-d6cc59d108bd",
   "metadata": {},
   "outputs": [],
   "source": [
    "# LISTAS\n",
    "# Las lista permiten trabajar con diferentes tipos de datos al mismo tiempo\n",
    "\n",
    "mi_lista = [1, 2, 3, 7]"
   ]
  },
  {
   "cell_type": "code",
   "execution_count": 2,
   "id": "05429280-aded-4e33-beee-51d33aa094bb",
   "metadata": {},
   "outputs": [
    {
     "data": {
      "text/plain": [
       "list"
      ]
     },
     "execution_count": 2,
     "metadata": {},
     "output_type": "execute_result"
    }
   ],
   "source": [
    "type(mi_lista)"
   ]
  },
  {
   "cell_type": "code",
   "execution_count": 3,
   "id": "f950159b-c2fc-4586-8947-71334fcba36d",
   "metadata": {},
   "outputs": [],
   "source": [
    "mi_lista1 = [1, 4.0, True, \"Hola\", 3]"
   ]
  },
  {
   "cell_type": "code",
   "execution_count": 4,
   "id": "6e84a303-af3b-4598-8d26-9cfe857af40a",
   "metadata": {},
   "outputs": [
    {
     "name": "stdout",
     "output_type": "stream",
     "text": [
      "[1, 4.0, True, 'Hola', 3]\n"
     ]
    }
   ],
   "source": [
    "print(mi_lista1)"
   ]
  },
  {
   "cell_type": "code",
   "execution_count": 5,
   "id": "898c20ed-1e7e-4c6e-8620-d7b56e09c2cb",
   "metadata": {},
   "outputs": [
    {
     "name": "stdout",
     "output_type": "stream",
     "text": [
      "5\n"
     ]
    }
   ],
   "source": [
    "print(len(mi_lista1))"
   ]
  },
  {
   "cell_type": "code",
   "execution_count": 7,
   "id": "1dab9841-26b3-4958-8bdf-d76f3e48e854",
   "metadata": {},
   "outputs": [
    {
     "name": "stdout",
     "output_type": "stream",
     "text": [
      "1\n",
      "4.0\n",
      "Hola\n",
      "3\n"
     ]
    }
   ],
   "source": [
    "# Indexación\n",
    "# PErmite acceder a diferentes elementos de la lista\n",
    "# PUedo modificar valores de la lista con la indexacion\n",
    "\n",
    "mi_lista = [1, 4.0, True, \"Hola\", 3]\n",
    "\n",
    "print(mi_lista[0])\n",
    "print(mi_lista[1])\n",
    "print(mi_lista[3])\n",
    "print(mi_lista[4])"
   ]
  },
  {
   "cell_type": "code",
   "execution_count": 8,
   "id": "0e6d06b3-29c4-43b9-8b0c-24db4b812453",
   "metadata": {},
   "outputs": [
    {
     "ename": "IndexError",
     "evalue": "list index out of range",
     "output_type": "error",
     "traceback": [
      "\u001b[1;31m---------------------------------------------------------------------------\u001b[0m",
      "\u001b[1;31mIndexError\u001b[0m                                Traceback (most recent call last)",
      "Input \u001b[1;32mIn [8]\u001b[0m, in \u001b[0;36m<cell line: 1>\u001b[1;34m()\u001b[0m\n\u001b[1;32m----> 1\u001b[0m \u001b[38;5;28mprint\u001b[39m(\u001b[43mmi_lista\u001b[49m\u001b[43m[\u001b[49m\u001b[38;5;241;43m5\u001b[39;49m\u001b[43m]\u001b[49m)\n",
      "\u001b[1;31mIndexError\u001b[0m: list index out of range"
     ]
    }
   ],
   "source": [
    "# INDEX ERROR cuando se intenta acceer a un elemento fuera de rango\n",
    "\n",
    "print(mi_lista[5])"
   ]
  },
  {
   "cell_type": "code",
   "execution_count": 9,
   "id": "1e19db10-7282-4a6b-bed6-7818278a385b",
   "metadata": {},
   "outputs": [
    {
     "name": "stdout",
     "output_type": "stream",
     "text": [
      "4.0\n"
     ]
    }
   ],
   "source": [
    "# Esto no se suele hacer pero si se puede\n",
    "# EL true lo convierte en 1 y accedo a ese indice.\n",
    "print(mi_lista[True])"
   ]
  },
  {
   "cell_type": "code",
   "execution_count": 10,
   "id": "6a0ea217-9e95-407d-9ae9-662978cd6235",
   "metadata": {},
   "outputs": [
    {
     "name": "stdout",
     "output_type": "stream",
     "text": [
      "1\n"
     ]
    }
   ],
   "source": [
    "# EN este caso es la posicion 0\n",
    "print(mi_lista[False])"
   ]
  },
  {
   "cell_type": "code",
   "execution_count": 11,
   "id": "ae1c1f53-ae79-4a2f-bb62-eedc1359211e",
   "metadata": {},
   "outputs": [
    {
     "ename": "TypeError",
     "evalue": "list indices must be integers or slices, not float",
     "output_type": "error",
     "traceback": [
      "\u001b[1;31m---------------------------------------------------------------------------\u001b[0m",
      "\u001b[1;31mTypeError\u001b[0m                                 Traceback (most recent call last)",
      "Input \u001b[1;32mIn [11]\u001b[0m, in \u001b[0;36m<cell line: 1>\u001b[1;34m()\u001b[0m\n\u001b[1;32m----> 1\u001b[0m \u001b[38;5;28mprint\u001b[39m(\u001b[43mmi_lista\u001b[49m\u001b[43m[\u001b[49m\u001b[38;5;241;43m1.0\u001b[39;49m\u001b[43m]\u001b[49m)\n",
      "\u001b[1;31mTypeError\u001b[0m: list indices must be integers or slices, not float"
     ]
    }
   ],
   "source": [
    "# Lo indices solo pueden ser enteros y no flotantes.\n",
    "print(mi_lista[1.0])"
   ]
  },
  {
   "cell_type": "code",
   "execution_count": 12,
   "id": "7eff906d-bfaa-4f8e-8031-35c1f6427177",
   "metadata": {},
   "outputs": [
    {
     "name": "stdout",
     "output_type": "stream",
     "text": [
      "[1, 4.0, 5.0, 'Hola', 3]\n"
     ]
    }
   ],
   "source": [
    "# Para modificar datos accedo al indice y le asigno un valor.\n",
    "\n",
    "mi_lista = [1, 4.0, True, \"Hola\", 3]\n",
    "\n",
    "mi_lista[2] = 5.0\n",
    "\n",
    "print(mi_lista)"
   ]
  },
  {
   "cell_type": "code",
   "execution_count": 13,
   "id": "f2b0555a-f360-4bf7-a9a6-0a858497ab1a",
   "metadata": {},
   "outputs": [
    {
     "name": "stdout",
     "output_type": "stream",
     "text": [
      "Hola\n"
     ]
    }
   ],
   "source": [
    "\n",
    "# Acceder con numeros negativos puede ser inportante cuando quiero acceder al ultimo elemento. \n",
    "# No necesito saber cuantos elementos tiene la lista para poder acceder a ese ultimo o penultimo elemento.\n",
    "mi_lista = [1, 4.0, True, \"Hola\", 3]\n",
    "\n",
    "print(mi_lista[-2])"
   ]
  },
  {
   "cell_type": "code",
   "execution_count": 14,
   "id": "4225ac60-e00f-49b6-8889-444956b71e57",
   "metadata": {},
   "outputs": [
    {
     "name": "stdout",
     "output_type": "stream",
     "text": [
      "1\n"
     ]
    }
   ],
   "source": [
    "print(mi_lista[-5])"
   ]
  },
  {
   "cell_type": "code",
   "execution_count": 15,
   "id": "68681c9a-29ff-46a9-9067-fd3f44499c5d",
   "metadata": {},
   "outputs": [
    {
     "ename": "IndexError",
     "evalue": "list index out of range",
     "output_type": "error",
     "traceback": [
      "\u001b[1;31m---------------------------------------------------------------------------\u001b[0m",
      "\u001b[1;31mIndexError\u001b[0m                                Traceback (most recent call last)",
      "Input \u001b[1;32mIn [15]\u001b[0m, in \u001b[0;36m<cell line: 1>\u001b[1;34m()\u001b[0m\n\u001b[1;32m----> 1\u001b[0m \u001b[38;5;28mprint\u001b[39m(\u001b[43mmi_lista\u001b[49m\u001b[43m[\u001b[49m\u001b[38;5;241;43m-\u001b[39;49m\u001b[38;5;241;43m10\u001b[39;49m\u001b[43m]\u001b[49m)\n",
      "\u001b[1;31mIndexError\u001b[0m: list index out of range"
     ]
    }
   ],
   "source": [
    "print(mi_lista[-10])"
   ]
  },
  {
   "cell_type": "code",
   "execution_count": 16,
   "id": "4bb51238-8c4a-42d4-9027-9c7a4fac711a",
   "metadata": {},
   "outputs": [
    {
     "name": "stdout",
     "output_type": "stream",
     "text": [
      "[1, 4.0, True, 'Hola', 3, 'FIN']\n"
     ]
    }
   ],
   "source": [
    "# ------------------- METODOS DE LA CLASE LIST\n",
    "\n",
    "# Append nos permite añadir un valor al final de la lista\n",
    "mi_lista.append(\"FIN\")\n",
    "\n",
    "print(mi_lista)"
   ]
  },
  {
   "cell_type": "code",
   "execution_count": 17,
   "id": "78e80365-0622-45c5-8aef-9d0ab22f8bdb",
   "metadata": {},
   "outputs": [],
   "source": [
    "mi_lista = [1, 4.0, True, \"Hola\", 3]"
   ]
  },
  {
   "cell_type": "code",
   "execution_count": 18,
   "id": "e5d04d40-eb6a-4167-9cba-6f6254950e86",
   "metadata": {},
   "outputs": [],
   "source": [
    "del mi_lista[3]"
   ]
  },
  {
   "cell_type": "code",
   "execution_count": 19,
   "id": "fdd1429f-44fd-4dd6-a926-e657c1bb27f7",
   "metadata": {},
   "outputs": [
    {
     "name": "stdout",
     "output_type": "stream",
     "text": [
      "[1, 4.0, True, 3]\n"
     ]
    }
   ],
   "source": [
    "print(mi_lista)"
   ]
  },
  {
   "cell_type": "code",
   "execution_count": 20,
   "id": "c38e4585-12f0-44d2-81ba-2b462c176881",
   "metadata": {},
   "outputs": [
    {
     "name": "stdout",
     "output_type": "stream",
     "text": [
      "4\n"
     ]
    }
   ],
   "source": [
    "print(len(mi_lista))"
   ]
  },
  {
   "cell_type": "code",
   "execution_count": 21,
   "id": "72ea2b4e-badc-4a7e-9f6d-64fe9575d321",
   "metadata": {},
   "outputs": [
    {
     "ename": "IndexError",
     "evalue": "list assignment index out of range",
     "output_type": "error",
     "traceback": [
      "\u001b[1;31m---------------------------------------------------------------------------\u001b[0m",
      "\u001b[1;31mIndexError\u001b[0m                                Traceback (most recent call last)",
      "Input \u001b[1;32mIn [21]\u001b[0m, in \u001b[0;36m<cell line: 1>\u001b[1;34m()\u001b[0m\n\u001b[1;32m----> 1\u001b[0m \u001b[38;5;28;01mdel\u001b[39;00m mi_lista[\u001b[38;5;241m10\u001b[39m]\n",
      "\u001b[1;31mIndexError\u001b[0m: list assignment index out of range"
     ]
    }
   ],
   "source": [
    "del mi_lista[10]"
   ]
  },
  {
   "cell_type": "code",
   "execution_count": 22,
   "id": "193fe903-ea4c-4900-8f9e-81c419ef5f72",
   "metadata": {},
   "outputs": [],
   "source": [
    "del mi_lista"
   ]
  },
  {
   "cell_type": "code",
   "execution_count": 23,
   "id": "8978b3bc-6cd8-423d-b04a-5bec0130ee26",
   "metadata": {},
   "outputs": [
    {
     "ename": "NameError",
     "evalue": "name 'mi_lista' is not defined",
     "output_type": "error",
     "traceback": [
      "\u001b[1;31m---------------------------------------------------------------------------\u001b[0m",
      "\u001b[1;31mNameError\u001b[0m                                 Traceback (most recent call last)",
      "Input \u001b[1;32mIn [23]\u001b[0m, in \u001b[0;36m<cell line: 1>\u001b[1;34m()\u001b[0m\n\u001b[1;32m----> 1\u001b[0m \u001b[38;5;28mprint\u001b[39m(\u001b[43mmi_lista\u001b[49m)\n",
      "\u001b[1;31mNameError\u001b[0m: name 'mi_lista' is not defined"
     ]
    }
   ],
   "source": [
    "print(mi_lista)"
   ]
  },
  {
   "cell_type": "code",
   "execution_count": 24,
   "id": "0827b4b0-6a44-4d5a-8984-b615a9691b4f",
   "metadata": {},
   "outputs": [],
   "source": [
    "# -----------------------Slices\n",
    "# Es muy recurrente en la PCAP\n",
    "\n",
    "mi_lista = [1, 4.0, True, \"Hola\", 3]\n",
    "\n",
    "\n",
    "# Quiero crear otra lista que sea un subconjunto de mi lista\n",
    "# Quiero solo algunos elementos de mis lista\n",
    "# Le digo el inicio desde donde quiero contar.\n",
    "\n",
    "# EL FINAL NO LO INCLUYE ------ SIginifica que va hasta 3 y no incluye el cuarto \n",
    "\n",
    "sub_lista = mi_lista[1:4]  # inicio:fin:salto"
   ]
  },
  {
   "cell_type": "code",
   "execution_count": 25,
   "id": "c5b83474-3740-48a5-8c8f-1225711dc4ed",
   "metadata": {},
   "outputs": [
    {
     "name": "stdout",
     "output_type": "stream",
     "text": [
      "[4.0, True, 'Hola']\n"
     ]
    }
   ],
   "source": [
    "print(sub_lista)"
   ]
  },
  {
   "cell_type": "code",
   "execution_count": 26,
   "id": "4d9ccef8-58b8-4b09-acd9-fa26d1d14fea",
   "metadata": {},
   "outputs": [
    {
     "name": "stdout",
     "output_type": "stream",
     "text": [
      "[1, 4.0, True]\n"
     ]
    }
   ],
   "source": [
    "#sub_lista = mi_lista[0:3]\n",
    "# SI  pongo el inicio vacio se comienza por defecto desde 0\n",
    "# Si no pongo el final se supone que es hasta el final de la lista.   ----- OJO \n",
    "\n",
    "sub_lista = mi_lista[:3]\n",
    "\n",
    "print(sub_lista)"
   ]
  },
  {
   "cell_type": "code",
   "execution_count": 27,
   "id": "3cb1e4f6-432e-4dc5-a8d6-909a338d570f",
   "metadata": {},
   "outputs": [
    {
     "name": "stdout",
     "output_type": "stream",
     "text": [
      "['Hola', 3]\n"
     ]
    }
   ],
   "source": [
    "sub_lista = mi_lista[3:]\n",
    "\n",
    "print(sub_lista)"
   ]
  },
  {
   "cell_type": "code",
   "execution_count": 28,
   "id": "ebfc3fe6-17ef-4573-9b1b-332effd2d91f",
   "metadata": {},
   "outputs": [
    {
     "name": "stdout",
     "output_type": "stream",
     "text": [
      "[1, True, 3]\n"
     ]
    }
   ],
   "source": [
    "sub_lista = mi_lista[0:5:2]\n",
    "\n",
    "print(sub_lista)"
   ]
  },
  {
   "cell_type": "code",
   "execution_count": 29,
   "id": "7745d761-611a-4cdd-9a4c-0cd50934f379",
   "metadata": {},
   "outputs": [
    {
     "name": "stdout",
     "output_type": "stream",
     "text": [
      "[1, True, 3]\n"
     ]
    }
   ],
   "source": [
    "# Esto significa que pongo vacio el principio y el final y quiero que coja los elementos de dos en dos.\n",
    "# Puede ir vacio pero tiene que ir\n",
    "# EL unico que puedo no poner es el salto.\n",
    "\n",
    "sub_lista = mi_lista[::2]\n",
    "\n",
    "print(sub_lista)"
   ]
  },
  {
   "cell_type": "code",
   "execution_count": 30,
   "id": "173ec003-a196-456c-a8fa-f2fae0d2a999",
   "metadata": {},
   "outputs": [
    {
     "name": "stdout",
     "output_type": "stream",
     "text": [
      "[True, 'Hola']\n"
     ]
    }
   ],
   "source": [
    "#mi_lista = [1, 4.0, True, \"Hola\", 3]\n",
    "\n",
    "# HAy que recordar que el FINAL es sin incluirlo.     ------------------ OJO\n",
    "# Por eso es que no coje el 3 sino que el HOLA\n",
    "\n",
    "sub_lista = mi_lista[-3:-1]\n",
    "\n",
    "print(sub_lista)"
   ]
  },
  {
   "cell_type": "code",
   "execution_count": 31,
   "id": "13f92234-7472-49b0-a750-0a36908f9fd6",
   "metadata": {},
   "outputs": [],
   "source": [
    "mi_lista = [1, 4.0, True, \"Hola\", 3]"
   ]
  },
  {
   "cell_type": "code",
   "execution_count": 32,
   "id": "cecefbb1-c5c6-4375-9e54-257ac82058ed",
   "metadata": {},
   "outputs": [
    {
     "name": "stdout",
     "output_type": "stream",
     "text": [
      "[1, 4.0, 3]\n"
     ]
    }
   ],
   "source": [
    "del mi_lista[-2]\n",
    "del mi_lista[-2]\n",
    "\n",
    "print(mi_lista)"
   ]
  },
  {
   "cell_type": "code",
   "execution_count": 33,
   "id": "fc2bfb9e-3aed-453b-a1f5-07e36c745981",
   "metadata": {},
   "outputs": [
    {
     "name": "stdout",
     "output_type": "stream",
     "text": [
      "[1, 4.0, 3]\n"
     ]
    }
   ],
   "source": [
    "mi_lista = [1, 4.0, True, \"Hola\", 3]\n",
    "\n",
    "del mi_lista[-3:-1]\n",
    "\n",
    "print(mi_lista)"
   ]
  },
  {
   "cell_type": "code",
   "execution_count": 34,
   "id": "2d2bf071-a8cc-4fe7-b16b-2befb1daf0a6",
   "metadata": {},
   "outputs": [
    {
     "name": "stdout",
     "output_type": "stream",
     "text": [
      "2198233901424\n"
     ]
    }
   ],
   "source": [
    "# Mutabilidad - inmutables\n",
    "\n",
    "# ENteros , Tuplas, Cadenas\n",
    "\n",
    "a = 3\n",
    "print(id(a))"
   ]
  },
  {
   "cell_type": "code",
   "execution_count": 35,
   "id": "1cf06496-4394-48cb-9dc6-fa3a47170881",
   "metadata": {},
   "outputs": [
    {
     "name": "stdout",
     "output_type": "stream",
     "text": [
      "2198233901424\n"
     ]
    }
   ],
   "source": [
    "b = a\n",
    "# FUncion ID devuelve la direccion de memoria -----------------------------  OJO\n",
    "print(id(b))"
   ]
  },
  {
   "cell_type": "code",
   "execution_count": 36,
   "id": "1ef16bae-2543-4797-8741-97a7e9d7f260",
   "metadata": {},
   "outputs": [
    {
     "name": "stdout",
     "output_type": "stream",
     "text": [
      "3 3\n"
     ]
    }
   ],
   "source": [
    "print(b, a)"
   ]
  },
  {
   "cell_type": "code",
   "execution_count": 37,
   "id": "59b95ca5-3df8-44b4-bd2b-22e622bffc91",
   "metadata": {},
   "outputs": [
    {
     "name": "stdout",
     "output_type": "stream",
     "text": [
      "2198233901488\n"
     ]
    }
   ],
   "source": [
    "# COmo los enteros son inmutables lo que hacen al tratar de ser modificados es CREAN UN NUEVO OBJETO  con otra direccion de memoria\n",
    "b = 5\n",
    "\n",
    "print(id(b))"
   ]
  },
  {
   "cell_type": "code",
   "execution_count": 38,
   "id": "13f5776c-a943-4091-bd14-9e4c27e8b42b",
   "metadata": {},
   "outputs": [
    {
     "name": "stdout",
     "output_type": "stream",
     "text": [
      "3 5\n"
     ]
    }
   ],
   "source": [
    "print(a, b)"
   ]
  },
  {
   "cell_type": "code",
   "execution_count": 39,
   "id": "734806a9-0ad4-4242-8494-628abc9c77a3",
   "metadata": {},
   "outputs": [
    {
     "name": "stdout",
     "output_type": "stream",
     "text": [
      "2198349933184\n"
     ]
    }
   ],
   "source": [
    "# Mutabilidad - mutables\n",
    "# CUnado intento hacer lo mismo con los objetos mutables no creo un nuevo objeto sino que modifico su valor.\n",
    "# MAntiene la mismo direccion de memoria.\n",
    "\n",
    "a = [1, 2]\n",
    "print(id(a))"
   ]
  },
  {
   "cell_type": "code",
   "execution_count": 40,
   "id": "7e0b3058-b6b6-441a-80c7-5a942174d9b4",
   "metadata": {},
   "outputs": [
    {
     "name": "stdout",
     "output_type": "stream",
     "text": [
      "2198349933184\n"
     ]
    }
   ],
   "source": [
    "b = a\n",
    "\n",
    "print(id(b))"
   ]
  },
  {
   "cell_type": "code",
   "execution_count": 41,
   "id": "d516bed6-7a5d-4b65-a853-fe6874a3ab32",
   "metadata": {},
   "outputs": [],
   "source": [
    "b.append(6)"
   ]
  },
  {
   "cell_type": "code",
   "execution_count": 42,
   "id": "6c681fd8-b54d-4e2f-b346-1d51d0078e09",
   "metadata": {},
   "outputs": [
    {
     "name": "stdout",
     "output_type": "stream",
     "text": [
      "2198349933184\n",
      "2198349933184\n"
     ]
    }
   ],
   "source": [
    "print(id(b))\n",
    "print(id(a))"
   ]
  },
  {
   "cell_type": "code",
   "execution_count": 43,
   "id": "fa06518f-27ec-45c6-b7e9-40db88c29d3b",
   "metadata": {},
   "outputs": [
    {
     "name": "stdout",
     "output_type": "stream",
     "text": [
      "[1, 2, 6]\n",
      "[1, 2, 6]\n"
     ]
    }
   ],
   "source": [
    "print(a)\n",
    "print(b)"
   ]
  },
  {
   "cell_type": "code",
   "execution_count": 44,
   "id": "d995e966-8f87-4145-829f-001afe90aae7",
   "metadata": {},
   "outputs": [
    {
     "name": "stdout",
     "output_type": "stream",
     "text": [
      "[1, 2]\n",
      "[1, 2]\n"
     ]
    }
   ],
   "source": [
    "# Mutabilidad - Slices\n",
    "\n",
    "#  cuando hago un Slice CREO UN NUEVO OBJETO ------------------- OJO\n",
    "\n",
    "a = [1, 2]\n",
    "b = a[:]\n",
    "print(a)\n",
    "print(b)\n",
    "\n"
   ]
  },
  {
   "cell_type": "code",
   "execution_count": 45,
   "id": "6a340ea4-eefa-4d7d-b03f-922e6e32b026",
   "metadata": {},
   "outputs": [
    {
     "name": "stdout",
     "output_type": "stream",
     "text": [
      "2198349539200\n",
      "2198349904576\n"
     ]
    }
   ],
   "source": [
    "# Vemos como apuntan a objetos diferentes.\n",
    "print(id(a))\n",
    "print(id(b))"
   ]
  },
  {
   "cell_type": "code",
   "execution_count": 46,
   "id": "bef29d6b-f4dc-45c3-a948-66501edc3c8f",
   "metadata": {},
   "outputs": [
    {
     "name": "stdout",
     "output_type": "stream",
     "text": [
      "[1, 2, 45]\n",
      "[1, 2]\n"
     ]
    }
   ],
   "source": [
    "b.append(45)\n",
    "print(b)\n",
    "print(a)"
   ]
  },
  {
   "cell_type": "code",
   "execution_count": 47,
   "id": "c85cb0f6-b740-4a62-9536-b757edab32ed",
   "metadata": {},
   "outputs": [
    {
     "name": "stdout",
     "output_type": "stream",
     "text": [
      "<class 'tuple'>\n"
     ]
    }
   ],
   "source": [
    "# TUPLAS\n",
    "\n",
    "# INMUTABLES \n",
    "# LAs tuplas las definimos entre parentesis\n",
    "# Igual que las listas podemos tener tuplas con diferentes tipos de datos\n",
    "\n",
    "mi_tupla = (3, 4.0, True, \"Hola\")\n",
    "print(type(mi_tupla))"
   ]
  },
  {
   "cell_type": "code",
   "execution_count": 48,
   "id": "87ca81dd-268c-4f80-8c64-6160aab4f4a6",
   "metadata": {},
   "outputs": [
    {
     "name": "stdout",
     "output_type": "stream",
     "text": [
      "<class 'tuple'>\n"
     ]
    }
   ],
   "source": [
    "# Si no se pone parentesis reconoce la tupla de igual forma ------------------------- OJO \n",
    "\n",
    "mi_tupla = 3, 4.0, True, \"Hola\"\n",
    "\n",
    "print(type(mi_tupla))"
   ]
  },
  {
   "cell_type": "code",
   "execution_count": 51,
   "id": "34e66d8b-d0d7-43b2-a8bf-4d81c1ae2640",
   "metadata": {},
   "outputs": [
    {
     "name": "stdout",
     "output_type": "stream",
     "text": [
      "<class 'tuple'>\n"
     ]
    }
   ],
   "source": [
    "\n",
    "# SI quiero crear unan tupla de un elemento NECEISTO PONER UNA ,   ------------------------------ OJO\n",
    "# SI solo pongo el numero Python lo reconoce como un entero\n",
    "mi_tupla = (1, )\n",
    "\n",
    "print(type(mi_tupla))"
   ]
  },
  {
   "cell_type": "code",
   "execution_count": 52,
   "id": "3f51749f-8359-45ee-801b-668b5ea86870",
   "metadata": {},
   "outputs": [
    {
     "name": "stdout",
     "output_type": "stream",
     "text": [
      "<class 'tuple'>\n"
     ]
    }
   ],
   "source": [
    "\n",
    "# Esto es una tupla --------------------------------------  OJO\n",
    "mi_tupla = 1,\n",
    "\n",
    "print(type(mi_tupla))"
   ]
  },
  {
   "cell_type": "code",
   "execution_count": 53,
   "id": "a9cd437f-9479-4679-99b8-df77ced8f30a",
   "metadata": {},
   "outputs": [
    {
     "data": {
      "text/plain": [
       "1"
      ]
     },
     "execution_count": 53,
     "metadata": {},
     "output_type": "execute_result"
    }
   ],
   "source": [
    "len(mi_tupla)"
   ]
  },
  {
   "cell_type": "code",
   "execution_count": 54,
   "id": "c177115f-1427-4ff6-ab50-c8a00893f00d",
   "metadata": {},
   "outputs": [
    {
     "data": {
      "text/plain": [
       "4"
      ]
     },
     "execution_count": 54,
     "metadata": {},
     "output_type": "execute_result"
    }
   ],
   "source": [
    "mi_tupla = (3, 4.0, True, \"Hola\")\n",
    "len(mi_tupla)"
   ]
  },
  {
   "cell_type": "code",
   "execution_count": 55,
   "id": "bde8b07a-102c-45ba-b76b-129fad3e20c6",
   "metadata": {},
   "outputs": [
    {
     "name": "stdout",
     "output_type": "stream",
     "text": [
      "4.0\n"
     ]
    }
   ],
   "source": [
    "print(mi_tupla[1])"
   ]
  },
  {
   "cell_type": "code",
   "execution_count": 56,
   "id": "6666b033-8639-4b50-a699-3c54dcf86133",
   "metadata": {},
   "outputs": [
    {
     "ename": "TypeError",
     "evalue": "'tuple' object does not support item assignment",
     "output_type": "error",
     "traceback": [
      "\u001b[1;31m---------------------------------------------------------------------------\u001b[0m",
      "\u001b[1;31mTypeError\u001b[0m                                 Traceback (most recent call last)",
      "Input \u001b[1;32mIn [56]\u001b[0m, in \u001b[0;36m<cell line: 1>\u001b[1;34m()\u001b[0m\n\u001b[1;32m----> 1\u001b[0m mi_tupla[\u001b[38;5;241m1\u001b[39m] \u001b[38;5;241m=\u001b[39m \u001b[38;5;241m5.0\u001b[39m\n",
      "\u001b[1;31mTypeError\u001b[0m: 'tuple' object does not support item assignment"
     ]
    }
   ],
   "source": [
    "\n",
    "# Las tuplas son inmutables y no se pueden modificar\n",
    "# INDEXACION se usa para ingresar a los elementos igual que a las listas, pero no se puede utlizar para modificar\n",
    "mi_tupla[1] = 5.0"
   ]
  },
  {
   "cell_type": "code",
   "execution_count": 57,
   "id": "0ae42f87-1e49-48f5-a59f-088ef55a2ded",
   "metadata": {},
   "outputs": [
    {
     "ename": "TypeError",
     "evalue": "'tuple' object doesn't support item deletion",
     "output_type": "error",
     "traceback": [
      "\u001b[1;31m---------------------------------------------------------------------------\u001b[0m",
      "\u001b[1;31mTypeError\u001b[0m                                 Traceback (most recent call last)",
      "Input \u001b[1;32mIn [57]\u001b[0m, in \u001b[0;36m<cell line: 1>\u001b[1;34m()\u001b[0m\n\u001b[1;32m----> 1\u001b[0m \u001b[38;5;28;01mdel\u001b[39;00m mi_tupla[\u001b[38;5;241m1\u001b[39m]\n",
      "\u001b[1;31mTypeError\u001b[0m: 'tuple' object doesn't support item deletion"
     ]
    }
   ],
   "source": [
    "\n",
    "# Tampoco se puede eliminar el elemento porque es una modificacion\n",
    "del mi_tupla[1]"
   ]
  },
  {
   "cell_type": "code",
   "execution_count": 58,
   "id": "cd844197-7e7b-4e64-b633-2006e6cda64b",
   "metadata": {},
   "outputs": [],
   "source": [
    "# Pero si puedo eliminar el objeto completo\n",
    "del mi_tupla"
   ]
  },
  {
   "cell_type": "code",
   "execution_count": 59,
   "id": "7a0fcad2-c654-4e67-9519-50a868fa3f39",
   "metadata": {},
   "outputs": [
    {
     "ename": "NameError",
     "evalue": "name 'mi_tupla' is not defined",
     "output_type": "error",
     "traceback": [
      "\u001b[1;31m---------------------------------------------------------------------------\u001b[0m",
      "\u001b[1;31mNameError\u001b[0m                                 Traceback (most recent call last)",
      "Input \u001b[1;32mIn [59]\u001b[0m, in \u001b[0;36m<cell line: 1>\u001b[1;34m()\u001b[0m\n\u001b[1;32m----> 1\u001b[0m \u001b[38;5;28mprint\u001b[39m(\u001b[43mmi_tupla\u001b[49m)\n",
      "\u001b[1;31mNameError\u001b[0m: name 'mi_tupla' is not defined"
     ]
    }
   ],
   "source": [
    "print(mi_tupla)"
   ]
  },
  {
   "cell_type": "code",
   "execution_count": 60,
   "id": "ddf0f139-70e8-4641-aa64-bffa76c5dfc8",
   "metadata": {},
   "outputs": [],
   "source": [
    "# Diccionarios\n",
    "\n",
    "# CLAVE : VALOR\n",
    "\n",
    "dic = {\"F\": 2, \"W\": 4.5, 4: 5, 6: 10}"
   ]
  },
  {
   "cell_type": "code",
   "execution_count": 61,
   "id": "484b7820-3870-4e73-b96e-4f2030dfe150",
   "metadata": {},
   "outputs": [
    {
     "name": "stdout",
     "output_type": "stream",
     "text": [
      "{'F': 2, 'W': 4.5, 4: 5, 6: 10}\n"
     ]
    }
   ],
   "source": [
    "print(dic)"
   ]
  },
  {
   "cell_type": "code",
   "execution_count": 62,
   "id": "37256f8a-6cb8-46be-8de8-2d8ec6e9a460",
   "metadata": {},
   "outputs": [
    {
     "name": "stdout",
     "output_type": "stream",
     "text": [
      "<class 'dict'>\n"
     ]
    }
   ],
   "source": [
    "print(type(dic))"
   ]
  },
  {
   "cell_type": "code",
   "execution_count": 63,
   "id": "e781716a-40cd-48b3-994d-b1b13a23a84c",
   "metadata": {},
   "outputs": [],
   "source": [
    "\n",
    "# NO PUEDEN tener dos calves iguales   ----------------------------------------------------------------  OJO\n",
    "# Lo que va a pasar es que se toma el ultimo clave, se asigna ese valor\n",
    "dic = {\"F\": 2, \"W\": 4.5, 4: 5, 6: 10,\n",
    "       4: 10, \"F\": 9}"
   ]
  },
  {
   "cell_type": "code",
   "execution_count": 64,
   "id": "010d1afb-489f-4ac8-b406-6b9d93e8c27c",
   "metadata": {},
   "outputs": [
    {
     "name": "stdout",
     "output_type": "stream",
     "text": [
      "{'F': 9, 'W': 4.5, 4: 10, 6: 10}\n"
     ]
    }
   ],
   "source": [
    "print(dic)"
   ]
  },
  {
   "cell_type": "code",
   "execution_count": 65,
   "id": "6a965af9-b2e0-4809-803e-fd33c1de5013",
   "metadata": {},
   "outputs": [
    {
     "name": "stdout",
     "output_type": "stream",
     "text": [
      "4\n"
     ]
    }
   ],
   "source": [
    "# Devuelve el numero de conjuntos  CLAVE -VALOR ------------------------------------------- OJO\n",
    "print(len(dic))"
   ]
  },
  {
   "cell_type": "code",
   "execution_count": 67,
   "id": "7fd12dfa-8e7e-45ab-bea3-2ea060882536",
   "metadata": {},
   "outputs": [
    {
     "name": "stdout",
     "output_type": "stream",
     "text": [
      "2\n"
     ]
    }
   ],
   "source": [
    "\n",
    "\n",
    "dic = {\"F\": 2, \"W\": 4.5, 4: 5, 6: 10}\n",
    "\n",
    "elemento = dic[\"F\"]\n",
    "print(elemento)"
   ]
  },
  {
   "cell_type": "code",
   "execution_count": 68,
   "id": "7756c860-c908-40f4-96fa-1bda707f17a9",
   "metadata": {},
   "outputs": [
    {
     "name": "stdout",
     "output_type": "stream",
     "text": [
      "5\n"
     ]
    }
   ],
   "source": [
    "elemento = dic[4]\n",
    "print(elemento)"
   ]
  },
  {
   "cell_type": "code",
   "execution_count": 69,
   "id": "b702d0a4-1204-411c-addc-15c294dd5185",
   "metadata": {},
   "outputs": [
    {
     "ename": "KeyError",
     "evalue": "10",
     "output_type": "error",
     "traceback": [
      "\u001b[1;31m---------------------------------------------------------------------------\u001b[0m",
      "\u001b[1;31mKeyError\u001b[0m                                  Traceback (most recent call last)",
      "Input \u001b[1;32mIn [69]\u001b[0m, in \u001b[0;36m<cell line: 1>\u001b[1;34m()\u001b[0m\n\u001b[1;32m----> 1\u001b[0m elemento \u001b[38;5;241m=\u001b[39m \u001b[43mdic\u001b[49m\u001b[43m[\u001b[49m\u001b[38;5;241;43m10\u001b[39;49m\u001b[43m]\u001b[49m\n\u001b[0;32m      2\u001b[0m \u001b[38;5;28mprint\u001b[39m(elemento)\n",
      "\u001b[1;31mKeyError\u001b[0m: 10"
     ]
    }
   ],
   "source": [
    "elemento = dic[10]\n",
    "print(elemento)"
   ]
  },
  {
   "cell_type": "code",
   "execution_count": 70,
   "id": "ccf61829-6ed3-42a4-ac2a-f858012667ce",
   "metadata": {},
   "outputs": [
    {
     "name": "stdout",
     "output_type": "stream",
     "text": [
      "{'F': True, 'W': 4.5, 4: 5, 6: 10}\n"
     ]
    }
   ],
   "source": [
    "dic[\"F\"] = True\n",
    "\n",
    "print(dic)"
   ]
  },
  {
   "cell_type": "code",
   "execution_count": 71,
   "id": "fdcf1bd2-7940-4ced-8a74-8b478c8b9839",
   "metadata": {},
   "outputs": [
    {
     "name": "stdout",
     "output_type": "stream",
     "text": [
      "True\n"
     ]
    }
   ],
   "source": [
    "# METODOS interesantes\n",
    "# GET ---------------- Permite acceder a los valores \n",
    "# La diferencia es que si intento acceder a una clave que no existe ---- te devuelve NONE en lugar del KEY ERROR. --------------------- OJO\n",
    "\n",
    "print(dic.get(\"F\"))"
   ]
  },
  {
   "cell_type": "code",
   "execution_count": 72,
   "id": "9a9cbbd3-0428-44c0-b671-79af7f727e6a",
   "metadata": {},
   "outputs": [
    {
     "name": "stdout",
     "output_type": "stream",
     "text": [
      "True\n"
     ]
    }
   ],
   "source": [
    "print(dic[\"F\"])"
   ]
  },
  {
   "cell_type": "code",
   "execution_count": 73,
   "id": "6af13aa1-3427-4a5c-b84e-229a121a45e7",
   "metadata": {},
   "outputs": [
    {
     "name": "stdout",
     "output_type": "stream",
     "text": [
      "None\n"
     ]
    }
   ],
   "source": [
    "print(dic.get(\"T\"))"
   ]
  },
  {
   "cell_type": "code",
   "execution_count": 74,
   "id": "9adb70e2-0545-43c2-8e03-e6c7d211f4c5",
   "metadata": {},
   "outputs": [
    {
     "name": "stdout",
     "output_type": "stream",
     "text": [
      "NO ENCONTRADO\n"
     ]
    }
   ],
   "source": [
    "# Le puede pasar un argumento por defecto opcional\n",
    "print(dic.get(\"T\", \"NO ENCONTRADO\"))"
   ]
  },
  {
   "cell_type": "code",
   "execution_count": 75,
   "id": "e93bfad1-9615-4f93-8bd6-6106250f64aa",
   "metadata": {},
   "outputs": [
    {
     "name": "stdout",
     "output_type": "stream",
     "text": [
      "{'F': True, 'W': 4.5, 4: 5, 6: 10, 'T': 45}\n"
     ]
    }
   ],
   "source": [
    "dic[\"T\"] = 45\n",
    "\n",
    "print(dic)"
   ]
  },
  {
   "cell_type": "code",
   "execution_count": 76,
   "id": "3fb6e56f-115a-4faf-850b-b2fd5c171ca7",
   "metadata": {},
   "outputs": [
    {
     "name": "stdout",
     "output_type": "stream",
     "text": [
      "{'F': True, 'W': 4.5, 4: 5, 6: 10}\n"
     ]
    }
   ],
   "source": [
    "del dic[\"T\"]\n",
    "\n",
    "print(dic)"
   ]
  },
  {
   "cell_type": "code",
   "execution_count": 77,
   "id": "781d0733-9b81-4085-b648-e666b7b439e6",
   "metadata": {},
   "outputs": [
    {
     "ename": "NameError",
     "evalue": "name 'dic' is not defined",
     "output_type": "error",
     "traceback": [
      "\u001b[1;31m---------------------------------------------------------------------------\u001b[0m",
      "\u001b[1;31mNameError\u001b[0m                                 Traceback (most recent call last)",
      "Input \u001b[1;32mIn [77]\u001b[0m, in \u001b[0;36m<cell line: 3>\u001b[1;34m()\u001b[0m\n\u001b[0;32m      1\u001b[0m \u001b[38;5;28;01mdel\u001b[39;00m dic\n\u001b[1;32m----> 3\u001b[0m \u001b[38;5;28mprint\u001b[39m(\u001b[43mdic\u001b[49m)\n",
      "\u001b[1;31mNameError\u001b[0m: name 'dic' is not defined"
     ]
    }
   ],
   "source": [
    "del dic\n",
    "\n",
    "print(dic)"
   ]
  },
  {
   "cell_type": "code",
   "execution_count": 78,
   "id": "98c352ab-e421-4d2d-9b19-5a997990092c",
   "metadata": {},
   "outputs": [],
   "source": [
    "dic = {\"F\": 2, \"W\": 4.5, 4: 5, 6: 10}"
   ]
  },
  {
   "cell_type": "code",
   "execution_count": 79,
   "id": "dcfedebe-4746-46d6-a255-d73b7b0f0ba4",
   "metadata": {},
   "outputs": [
    {
     "name": "stdout",
     "output_type": "stream",
     "text": [
      "dict_keys(['F', 'W', 4, 6])\n"
     ]
    }
   ],
   "source": [
    "a = dic.keys()\n",
    "print(a)"
   ]
  },
  {
   "cell_type": "code",
   "execution_count": 80,
   "id": "8e47a4bb-9b58-4580-a803-1ba03a061918",
   "metadata": {},
   "outputs": [
    {
     "name": "stdout",
     "output_type": "stream",
     "text": [
      "['F', 'W', 4, 6]\n",
      "<class 'list'>\n"
     ]
    }
   ],
   "source": [
    "# En caso de que se quiera trabajar con el objeto\n",
    "# Se necesita convertir en una lista ----------------- OJO\n",
    "a = dic.keys()\n",
    "a = list(a)\n",
    "print(a)\n",
    "print(type(a))"
   ]
  },
  {
   "cell_type": "code",
   "execution_count": 81,
   "id": "e7f7984f-ac7f-4781-a18a-300e277f510a",
   "metadata": {},
   "outputs": [
    {
     "name": "stdout",
     "output_type": "stream",
     "text": [
      "dict_values([2, 4.5, 5, 10])\n"
     ]
    }
   ],
   "source": [
    "a = dic.values()\n",
    "print(a)"
   ]
  },
  {
   "cell_type": "code",
   "execution_count": 82,
   "id": "bd6f1b03-4b3e-4f0b-80e6-49da710e557b",
   "metadata": {},
   "outputs": [
    {
     "name": "stdout",
     "output_type": "stream",
     "text": [
      "[2, 4.5, 5, 10]\n"
     ]
    }
   ],
   "source": [
    "\n",
    "# En caso de que se quiera trabajar con el objeto\n",
    "# Se necesita convertir en una lista ----------------- OJO\n",
    "\n",
    "\n",
    "a = dic.values()\n",
    "a = list(a)\n",
    "print(a)"
   ]
  },
  {
   "cell_type": "code",
   "execution_count": 83,
   "id": "1d5af112-3791-43e8-92f4-e0faaf70e737",
   "metadata": {},
   "outputs": [
    {
     "name": "stdout",
     "output_type": "stream",
     "text": [
      "dict_items([('F', 2), ('W', 4.5), (4, 5), (6, 10)])\n"
     ]
    }
   ],
   "source": [
    "\n",
    "# ITEMS devuelve tuplas clave-valor\n",
    "a = dic.items()\n",
    "print(a)"
   ]
  },
  {
   "cell_type": "code",
   "execution_count": 84,
   "id": "a1c6d4ea-fb2e-4b76-bf02-2032569335f5",
   "metadata": {},
   "outputs": [
    {
     "name": "stdout",
     "output_type": "stream",
     "text": [
      "(('F', 2), ('W', 4.5), (4, 5), (6, 10))\n"
     ]
    }
   ],
   "source": [
    "a = dic.items()\n",
    "a = tuple(a)\n",
    "print(a)"
   ]
  },
  {
   "cell_type": "code",
   "execution_count": 85,
   "id": "519f9078-94d6-4d50-a73a-366a6e20d85c",
   "metadata": {},
   "outputs": [
    {
     "name": "stdout",
     "output_type": "stream",
     "text": [
      "3\n",
      "M\n",
      "67\n",
      "5.0\n",
      "hola\n"
     ]
    }
   ],
   "source": [
    "# Iterar\n",
    "\n",
    "mi_lista = [3, \"M\", 67, 5.0, \"hola\"]\n",
    "\n",
    "for valor in mi_lista:\n",
    "    print(valor)"
   ]
  },
  {
   "cell_type": "code",
   "execution_count": 86,
   "id": "4caf714b-e6d1-4661-a780-704c27f9b972",
   "metadata": {},
   "outputs": [
    {
     "name": "stdout",
     "output_type": "stream",
     "text": [
      "3\n",
      "M\n",
      "67\n",
      "5.0\n",
      "hola\n"
     ]
    }
   ],
   "source": [
    "mi_tupla = (3, \"M\", 67, 5.0, \"hola\")\n",
    "\n",
    "for valor in mi_tupla:\n",
    "    print(valor)"
   ]
  },
  {
   "cell_type": "code",
   "execution_count": 87,
   "id": "f5b11c9c-ef28-4485-9017-ac8543274dcd",
   "metadata": {},
   "outputs": [
    {
     "name": "stdout",
     "output_type": "stream",
     "text": [
      "11\n"
     ]
    }
   ],
   "source": [
    "mi_lista = [3, 1, 5, 2]\n",
    "sumatorio = 0\n",
    "\n",
    "for valor in mi_lista:\n",
    "    sumatorio += valor\n",
    "    \n",
    "print(sumatorio)"
   ]
  },
  {
   "cell_type": "code",
   "execution_count": 89,
   "id": "0093d2ce-e188-499c-b46a-a042e2619745",
   "metadata": {},
   "outputs": [
    {
     "name": "stdout",
     "output_type": "stream",
     "text": [
      "F\n",
      "W\n",
      "4\n",
      "6\n"
     ]
    }
   ],
   "source": [
    "dic = {\"F\": 2, \"W\": 4.5, 4: 5, 6: 10}\n",
    "\n",
    "for clave in dic:\n",
    "    print(clave)"
   ]
  },
  {
   "cell_type": "code",
   "execution_count": 90,
   "id": "314918de-8967-4069-a0ca-78c83056c4b6",
   "metadata": {},
   "outputs": [
    {
     "name": "stdout",
     "output_type": "stream",
     "text": [
      "2\n",
      "4.5\n",
      "5\n",
      "10\n"
     ]
    }
   ],
   "source": [
    "dic = {\"F\": 2, \"W\": 4.5, 4: 5, 6: 10}\n",
    "\n",
    "for clave in dic:\n",
    "    print(dic[clave])"
   ]
  },
  {
   "cell_type": "code",
   "execution_count": 92,
   "id": "2450a5a7-0f14-4dd5-a737-a72a4b0b19a2",
   "metadata": {},
   "outputs": [
    {
     "name": "stdout",
     "output_type": "stream",
     "text": [
      "2\n",
      "4.5\n",
      "5\n",
      "10\n"
     ]
    }
   ],
   "source": [
    "dic = {\"F\": 2, \"W\": 4.5, 4: 5, 6: 10}\n",
    "\n",
    "for valor in dic.values():\n",
    "    print(valor)"
   ]
  },
  {
   "cell_type": "code",
   "execution_count": 93,
   "id": "85cfb4ee-d883-4722-aa5b-b53b21997239",
   "metadata": {},
   "outputs": [
    {
     "name": "stdout",
     "output_type": "stream",
     "text": [
      "F - 2\n",
      "W - 4.5\n",
      "4 - 5\n",
      "6 - 10\n"
     ]
    }
   ],
   "source": [
    "\n",
    "# ITEMS para poder acceder la clave y el valor al mismo tiempo  -----------------------------  OJO ITEM\n",
    "dic = {\"F\": 2, \"W\": 4.5, 4: 5, 6: 10}\n",
    "\n",
    "for clave, valor in dic.items():\n",
    "    print(clave, \"-\", valor)"
   ]
  },
  {
   "cell_type": "code",
   "execution_count": 94,
   "id": "7a6b2b10-dc22-4a3b-a668-7db9f556a683",
   "metadata": {},
   "outputs": [],
   "source": [
    "# Constructores\n",
    "\n",
    "# Se utilizan las lcases directamente para crear listas, tuplas, diccionarios\n",
    "\n",
    "# Crear una tupla vacia no tienen sentido porque una vez creada ya no s puede modificar  ---------------------------------- OJO TRICK\n",
    "\n",
    "a = []"
   ]
  },
  {
   "cell_type": "code",
   "execution_count": 95,
   "id": "1832bf5a-49ec-40dc-bf88-5309a525e296",
   "metadata": {},
   "outputs": [
    {
     "name": "stdout",
     "output_type": "stream",
     "text": [
      "[]\n",
      "<class 'list'>\n"
     ]
    }
   ],
   "source": [
    "a = list()\n",
    "print(a)\n",
    "print(type(a))"
   ]
  },
  {
   "cell_type": "code",
   "execution_count": 96,
   "id": "b5ebff0a-4aeb-4302-8361-758ed5100d01",
   "metadata": {},
   "outputs": [
    {
     "name": "stdout",
     "output_type": "stream",
     "text": [
      "()\n",
      "<class 'tuple'>\n"
     ]
    }
   ],
   "source": [
    "\n",
    "a = tuple()\n",
    "print(a)\n",
    "print(type(a))"
   ]
  },
  {
   "cell_type": "code",
   "execution_count": 97,
   "id": "f9155d5a-0d16-4d9a-833b-e444d12baddd",
   "metadata": {},
   "outputs": [
    {
     "name": "stdout",
     "output_type": "stream",
     "text": [
      "{}\n",
      "<class 'dict'>\n"
     ]
    }
   ],
   "source": [
    "a = dict()\n",
    "print(a)\n",
    "print(type(a))"
   ]
  },
  {
   "cell_type": "code",
   "execution_count": null,
   "id": "7d8543a0-c744-4531-b0e4-c13c4eff9ee2",
   "metadata": {},
   "outputs": [],
   "source": []
  }
 ],
 "metadata": {
  "kernelspec": {
   "display_name": "Python 3 (ipykernel)",
   "language": "python",
   "name": "python3"
  },
  "language_info": {
   "codemirror_mode": {
    "name": "ipython",
    "version": 3
   },
   "file_extension": ".py",
   "mimetype": "text/x-python",
   "name": "python",
   "nbconvert_exporter": "python",
   "pygments_lexer": "ipython3",
   "version": "3.9.12"
  }
 },
 "nbformat": 4,
 "nbformat_minor": 5
}
